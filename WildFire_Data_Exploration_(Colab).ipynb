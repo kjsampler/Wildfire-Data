{
  "nbformat": 4,
  "nbformat_minor": 0,
  "metadata": {
    "colab": {
      "name": "WildFire Data Exploration (Colab).ipynb",
      "provenance": [],
      "mount_file_id": "1pO4K6JqeO2cx_wDynmS_65ape_Mcpj95",
      "authorship_tag": "ABX9TyMvD1zJMIXJzMPZUMSM7KSq",
      "include_colab_link": true
    },
    "kernelspec": {
      "name": "python3",
      "display_name": "Python 3"
    },
    "language_info": {
      "name": "python"
    }
  },
  "cells": [
    {
      "cell_type": "markdown",
      "metadata": {
        "id": "view-in-github",
        "colab_type": "text"
      },
      "source": [
        "<a href=\"https://colab.research.google.com/github/kjsampler/Wildfire-Data/blob/main/WildFire_Data_Exploration_(Colab).ipynb\" target=\"_parent\"><img src=\"https://colab.research.google.com/assets/colab-badge.svg\" alt=\"Open In Colab\"/></a>"
      ]
    },
    {
      "cell_type": "markdown",
      "metadata": {
        "id": "NBmcbqDcgRpr"
      },
      "source": [
        "This notebook will be used to explore the wildfire dataset, and trim it down to what is necessary in order to avoid pushing a large file to GitHub. "
      ]
    },
    {
      "cell_type": "code",
      "metadata": {
        "id": "o8twiRp7giOc"
      },
      "source": [
        "#https://www.kaggle.com/rtatman/188-million-us-wildfires\n",
        "#Located in MyDrive"
      ],
      "execution_count": null,
      "outputs": []
    },
    {
      "cell_type": "code",
      "metadata": {
        "colab": {
          "base_uri": "https://localhost:8080/"
        },
        "id": "yo4Z-H5ikt9Q",
        "outputId": "485d03b5-71e8-4c3e-8e31-0c9b44319feb"
      },
      "source": [
        "!unzip /content/drive/MyDrive/archive.zip -d /content/drive/MyDrive/WildfireData"
      ],
      "execution_count": null,
      "outputs": [
        {
          "output_type": "stream",
          "text": [
            "Archive:  /content/drive/MyDrive/archive.zip\n",
            "  inflating: /content/drive/MyDrive/WildfireData/FPA_FOD_20170508.sqlite  \n"
          ],
          "name": "stdout"
        }
      ]
    },
    {
      "cell_type": "code",
      "metadata": {
        "id": "Rb0vaxMbduBL"
      },
      "source": [
        "import sqlite3"
      ],
      "execution_count": 1,
      "outputs": []
    },
    {
      "cell_type": "code",
      "metadata": {
        "id": "VqCJeEiPfcny"
      },
      "source": [
        "conn = sqlite3.connect('/content/drive/MyDrive/WildfireData/FPA_FOD_20170508.sqlite')\n",
        "c = conn.cursor()"
      ],
      "execution_count": 2,
      "outputs": []
    },
    {
      "cell_type": "markdown",
      "metadata": {
        "id": "6iHNPsgREu5W"
      },
      "source": [
        "# Analyze Schema\n",
        "Schema is first marked down on paper and then organized into a visualization. "
      ]
    },
    {
      "cell_type": "code",
      "metadata": {
        "id": "vsUZ1vNwkFaQ"
      },
      "source": [
        "c.execute(\"\"\"SELECT name FROM sqlite_master WHERE type = 'table';\"\"\")\n",
        "table_names = c.fetchall()"
      ],
      "execution_count": 3,
      "outputs": []
    },
    {
      "cell_type": "code",
      "metadata": {
        "colab": {
          "base_uri": "https://localhost:8080/"
        },
        "id": "o3bOVXrud_iq",
        "outputId": "79abc9ee-d6cd-4eac-aae0-fdc917c32874"
      },
      "source": [
        "table_names"
      ],
      "execution_count": 4,
      "outputs": [
        {
          "output_type": "execute_result",
          "data": {
            "text/plain": [
              "[('spatial_ref_sys',),\n",
              " ('spatialite_history',),\n",
              " ('sqlite_sequence',),\n",
              " ('geometry_columns',),\n",
              " ('spatial_ref_sys_aux',),\n",
              " ('views_geometry_columns',),\n",
              " ('virts_geometry_columns',),\n",
              " ('geometry_columns_statistics',),\n",
              " ('views_geometry_columns_statistics',),\n",
              " ('virts_geometry_columns_statistics',),\n",
              " ('geometry_columns_field_infos',),\n",
              " ('views_geometry_columns_field_infos',),\n",
              " ('virts_geometry_columns_field_infos',),\n",
              " ('geometry_columns_time',),\n",
              " ('geometry_columns_auth',),\n",
              " ('views_geometry_columns_auth',),\n",
              " ('virts_geometry_columns_auth',),\n",
              " ('sql_statements_log',),\n",
              " ('SpatialIndex',),\n",
              " ('ElementaryGeometries',),\n",
              " ('KNN',),\n",
              " ('Fires',),\n",
              " ('idx_Fires_Shape',),\n",
              " ('idx_Fires_Shape_node',),\n",
              " ('idx_Fires_Shape_rowid',),\n",
              " ('idx_Fires_Shape_parent',),\n",
              " ('NWCG_UnitIDActive_20170109',)]"
            ]
          },
          "metadata": {
            "tags": []
          },
          "execution_count": 4
        }
      ]
    },
    {
      "cell_type": "code",
      "metadata": {
        "id": "8-q1XFdcfJwq"
      },
      "source": [
        "spatial_ref_sys = c.execute(\"\"\"SELECT sql FROM sqlite_master WHERE type = 'table' AND name = 'spatial_ref_sys';\"\"\").fetchone()"
      ],
      "execution_count": 5,
      "outputs": []
    },
    {
      "cell_type": "code",
      "metadata": {
        "id": "OzAeeCG9Fi4s"
      },
      "source": [
        "spatialite_history = c.execute(\"\"\"SELECT sql FROM sqlite_master WHERE type = 'table' AND name = 'spatialite_history';\"\"\").fetchone()"
      ],
      "execution_count": 6,
      "outputs": []
    },
    {
      "cell_type": "code",
      "metadata": {
        "id": "SVCUf2R5HCEp"
      },
      "source": [
        "sqlite_sequence = c.execute(\"\"\"SELECT sql FROM sqlite_master WHERE type = 'table' AND name = 'sqlite_sequence';\"\"\").fetchone()"
      ],
      "execution_count": 7,
      "outputs": []
    },
    {
      "cell_type": "code",
      "metadata": {
        "id": "HIW6b8JCJA1E"
      },
      "source": [
        "geometry_columns = c.execute(\"\"\"SELECT sql FROM sqlite_master WHERE type = 'table' AND name = 'geometry_columns';\"\"\").fetchone()"
      ],
      "execution_count": 8,
      "outputs": []
    },
    {
      "cell_type": "code",
      "metadata": {
        "id": "o5ps_4_NDVvS"
      },
      "source": [
        "spatial_ref_sys_aux = c.execute(\"\"\"SELECT sql FROM sqlite_master WHERE type = 'table' AND name = 'spatial_ref_sys_aux';\"\"\").fetchone()"
      ],
      "execution_count": 11,
      "outputs": []
    },
    {
      "cell_type": "code",
      "metadata": {
        "id": "zQlV_A7wEigW"
      },
      "source": [
        "views_geometry_columns = c.execute(\"\"\"SELECT sql FROM sqlite_master WHERE type = 'table' AND name = 'views_geometry_columns';\"\"\").fetchone()"
      ],
      "execution_count": 12,
      "outputs": []
    },
    {
      "cell_type": "code",
      "metadata": {
        "id": "zep_n864E2U0"
      },
      "source": [
        "virts_geometry_columns = c.execute(\"\"\"SELECT sql FROM sqlite_master WHERE type = 'table' AND name = 'virts_geometry_columns';\"\"\").fetchone()"
      ],
      "execution_count": 13,
      "outputs": []
    },
    {
      "cell_type": "code",
      "metadata": {
        "id": "5uKUbgW0FBRk"
      },
      "source": [
        "geometry_columns_stats = c.execute(\"\"\"SELECT sql FROM sqlite_master WHERE type = 'table' AND name = 'geometry_columns_statistics';\"\"\").fetchone()"
      ],
      "execution_count": 52,
      "outputs": []
    },
    {
      "cell_type": "code",
      "metadata": {
        "id": "zAKhN7oWFMH3"
      },
      "source": [
        "views_geometry_columns_stats = c.execute(\"\"\"SELECT sql FROM sqlite_master WHERE type = 'table' AND name = 'views_geometry_columns_statistics';\"\"\").fetchone()"
      ],
      "execution_count": 15,
      "outputs": []
    },
    {
      "cell_type": "code",
      "metadata": {
        "id": "5Xr5dFZHFbGU"
      },
      "source": [
        "virts_geometry_columns_stats = c.execute(\"\"\"SELECT sql FROM sqlite_master WHERE type = 'table' AND name = 'virts_geometry_columns_statistics';\"\"\").fetchone()"
      ],
      "execution_count": 56,
      "outputs": []
    },
    {
      "cell_type": "code",
      "metadata": {
        "id": "QPDMwfJeFmFy"
      },
      "source": [
        "geometry_columns_field_infos = c.execute(\"\"\"SELECT sql FROM sqlite_master WHERE type = 'table' AND name = 'geometry_columns_field_infos';\"\"\").fetchone()"
      ],
      "execution_count": 18,
      "outputs": []
    },
    {
      "cell_type": "code",
      "metadata": {
        "id": "yBPHHGeFFzqK"
      },
      "source": [
        "views_geometry_columns_field_infos = c.execute(\"\"\"SELECT sql FROM sqlite_master WHERE type = 'table' AND name = 'views_geometry_columns_field_infos';\"\"\").fetchone()"
      ],
      "execution_count": 19,
      "outputs": []
    },
    {
      "cell_type": "code",
      "metadata": {
        "id": "OYQ-vFT9F-15"
      },
      "source": [
        "virts_geometry_columns_field_infos = c.execute(\"\"\"SELECT sql FROM sqlite_master WHERE type = 'table' AND name = 'virts_geometry_columns_field_infos';\"\"\").fetchone()"
      ],
      "execution_count": 20,
      "outputs": []
    },
    {
      "cell_type": "code",
      "metadata": {
        "id": "HfIYO2x1GLOb"
      },
      "source": [
        "geometry_columns_time = c.execute(\"\"\"SELECT sql FROM sqlite_master WHERE type = 'table' AND name = 'geometry_columns_time';\"\"\").fetchone()"
      ],
      "execution_count": 21,
      "outputs": []
    },
    {
      "cell_type": "code",
      "metadata": {
        "id": "WxiZmLo4GTVW"
      },
      "source": [
        "geometry_columns_auth = c.execute(\"\"\"SELECT sql FROM sqlite_master WHERE type = 'table' AND name = 'geometry_columns_auth';\"\"\").fetchone()"
      ],
      "execution_count": 22,
      "outputs": []
    },
    {
      "cell_type": "code",
      "metadata": {
        "id": "Y18VV9eKGcLe"
      },
      "source": [
        "views_geometry_columns_auth = c.execute(\"\"\"SELECT sql FROM sqlite_master WHERE type = 'table' AND name = 'view_geometryy_columns_auth';\"\"\").fetchone()"
      ],
      "execution_count": 23,
      "outputs": []
    },
    {
      "cell_type": "code",
      "metadata": {
        "id": "scRgswpsGsvX"
      },
      "source": [
        "virts_geometry_columns_auth = c.execute(\"\"\"SELECT sql FROM sqlite_master WHERE type = 'table' AND name = 'virts_geometry_columns_auth';\"\"\").fetchone()"
      ],
      "execution_count": 24,
      "outputs": []
    },
    {
      "cell_type": "code",
      "metadata": {
        "id": "CAc5UdL7I9q2"
      },
      "source": [
        "sql_statements_log = c.execute(\"\"\"SELECT sql FROM sqlite_master WHERE type = 'table' AND name = 'sql_statements_log';\"\"\").fetchone()"
      ],
      "execution_count": 25,
      "outputs": []
    },
    {
      "cell_type": "code",
      "metadata": {
        "id": "pYfBO9TaJFw2"
      },
      "source": [
        "spatial_index = c.execute(\"\"\"SELECT sql FROM sqlite_master WHERE type = 'table' AND name = 'SpatialIndex';\"\"\").fetchone()"
      ],
      "execution_count": 26,
      "outputs": []
    },
    {
      "cell_type": "code",
      "metadata": {
        "id": "ZEwHqqehJLob"
      },
      "source": [
        "elementary_geometries = c.execute(\"\"\"SELECT sql FROM sqlite_master WHERE type = 'table' AND name = 'ElementaryGeometries';\"\"\").fetchone()"
      ],
      "execution_count": 28,
      "outputs": []
    },
    {
      "cell_type": "code",
      "metadata": {
        "id": "YwjSg3ZkJWbN"
      },
      "source": [
        "knn = c.execute(\"\"\"SELECT sql FROM sqlite_master WHERE type = 'table' AND name = 'KNN';\"\"\").fetchone()"
      ],
      "execution_count": 29,
      "outputs": []
    },
    {
      "cell_type": "code",
      "metadata": {
        "id": "5HnfdCfEJmX_"
      },
      "source": [
        "fires = c.execute(\"\"\"SELECT sql FROM sqlite_master WHERE type = 'table' AND name = 'Fires';\"\"\").fetchone()"
      ],
      "execution_count": 30,
      "outputs": []
    },
    {
      "cell_type": "code",
      "metadata": {
        "id": "BtUF0_VmJr5Y"
      },
      "source": [
        "idx_fires_shape = c.execute(\"\"\"SELECT sql FROM sqlite_master WHERE type = 'table' AND name = 'idx_Fires_Shape';\"\"\").fetchone()"
      ],
      "execution_count": 31,
      "outputs": []
    },
    {
      "cell_type": "code",
      "metadata": {
        "id": "9VgD8RI_J6W-"
      },
      "source": [
        "idx_fires_shape_node = c.execute(\"\"\"SELECT sql FROM sqlite_master WHERE type = 'table' AND name = 'idx_Fires_Shape_node';\"\"\").fetchone()"
      ],
      "execution_count": 32,
      "outputs": []
    },
    {
      "cell_type": "code",
      "metadata": {
        "id": "Fx6y4_IsKCuU"
      },
      "source": [
        "idx_fires_shape_rowid = c.execute(\"\"\"SELECT sql FROM sqlite_master WHERE type = 'table' AND name = 'idx_Fires_Shape_rowid';\"\"\").fetchone()"
      ],
      "execution_count": 33,
      "outputs": []
    },
    {
      "cell_type": "code",
      "metadata": {
        "id": "_82SU5mDKJ-s"
      },
      "source": [
        "idx_fires_shape_parent = c.execute(\"\"\"SELECT sql FROM sqlite_master WHERE type = 'table' AND name = 'idx_Fires_Shape_parent';\"\"\").fetchone()"
      ],
      "execution_count": 34,
      "outputs": []
    },
    {
      "cell_type": "code",
      "metadata": {
        "id": "pqBEWYevDsgk"
      },
      "source": [
        "NWCG_UnitIDActive_20170109 = c.execute(\"\"\"SELECT sql FROM sqlite_master WHERE type = 'table' AND name = 'NWCG_UnitIDActive_20170109';\"\"\").fetchone()"
      ],
      "execution_count": 35,
      "outputs": []
    },
    {
      "cell_type": "code",
      "metadata": {
        "colab": {
          "base_uri": "https://localhost:8080/"
        },
        "id": "KQ0bK4JyKfTd",
        "outputId": "1df76403-0d72-43ba-88e4-eb5bdc6c22d9"
      },
      "source": [
        "spatial_ref_sys"
      ],
      "execution_count": 44,
      "outputs": [
        {
          "output_type": "execute_result",
          "data": {
            "text/plain": [
              "(\"CREATE TABLE spatial_ref_sys (\\nsrid INTEGER NOT NULL PRIMARY KEY,\\nauth_name TEXT NOT NULL,\\nauth_srid INTEGER NOT NULL,\\nref_sys_name TEXT NOT NULL DEFAULT 'Unknown',\\nproj4text TEXT NOT NULL,\\nsrtext TEXT NOT NULL DEFAULT 'Undefined')\",)"
            ]
          },
          "metadata": {
            "tags": []
          },
          "execution_count": 44
        }
      ]
    },
    {
      "cell_type": "markdown",
      "metadata": {
        "id": "8uWupFW7NelL"
      },
      "source": [
        "* srid\n",
        "* auth_name\n",
        "* auth_srid\n",
        "* nref_sys_name\n",
        "* nproj4text\n",
        "* srtext"
      ]
    },
    {
      "cell_type": "code",
      "metadata": {
        "colab": {
          "base_uri": "https://localhost:8080/"
        },
        "id": "9kPmetKuM6cZ",
        "outputId": "9792e157-fa48-4454-c23e-c9853bc79ecb"
      },
      "source": [
        "spatialite_history"
      ],
      "execution_count": 45,
      "outputs": [
        {
          "output_type": "execute_result",
          "data": {
            "text/plain": [
              "('CREATE TABLE spatialite_history (\\nevent_id INTEGER NOT NULL PRIMARY KEY AUTOINCREMENT,\\ntable_name TEXT NOT NULL,\\ngeometry_column TEXT,\\nevent TEXT NOT NULL,\\ntimestamp TEXT NOT NULL,\\nver_sqlite TEXT NOT NULL,\\nver_splite TEXT NOT NULL)',)"
            ]
          },
          "metadata": {
            "tags": []
          },
          "execution_count": 45
        }
      ]
    },
    {
      "cell_type": "markdown",
      "metadata": {
        "id": "ZYT-ShPWN34u"
      },
      "source": [
        "* event_id\n",
        "* table_name\n",
        "* geometry_column\n",
        "* event\n",
        "* timestamp\n",
        "* ver_splite\n",
        "* ver_splite"
      ]
    },
    {
      "cell_type": "code",
      "metadata": {
        "colab": {
          "base_uri": "https://localhost:8080/"
        },
        "id": "ZFXSM6kxTZkk",
        "outputId": "87fde055-20c5-488a-8a9d-6255c1f534db"
      },
      "source": [
        "sqlite_sequence"
      ],
      "execution_count": 46,
      "outputs": [
        {
          "output_type": "execute_result",
          "data": {
            "text/plain": [
              "('CREATE TABLE sqlite_sequence(name,seq)',)"
            ]
          },
          "metadata": {
            "tags": []
          },
          "execution_count": 46
        }
      ]
    },
    {
      "cell_type": "markdown",
      "metadata": {
        "id": "wP2fkk6TTfTx"
      },
      "source": [
        "* name\n",
        "* seq"
      ]
    },
    {
      "cell_type": "code",
      "metadata": {
        "colab": {
          "base_uri": "https://localhost:8080/"
        },
        "id": "Gqt9NAKrTm16",
        "outputId": "ed90d657-5d99-4565-ca54-dbe7bd5b3300"
      },
      "source": [
        "geometry_columns"
      ],
      "execution_count": 47,
      "outputs": [
        {
          "output_type": "execute_result",
          "data": {
            "text/plain": [
              "('CREATE TABLE geometry_columns (\\nf_table_name TEXT NOT NULL,\\nf_geometry_column TEXT NOT NULL,\\ngeometry_type INTEGER NOT NULL,\\ncoord_dimension INTEGER NOT NULL,\\nsrid INTEGER NOT NULL,\\nspatial_index_enabled INTEGER NOT NULL,\\nCONSTRAINT pk_geom_cols PRIMARY KEY (f_table_name, f_geometry_column),\\nCONSTRAINT fk_gc_srs FOREIGN KEY (srid) REFERENCES spatial_ref_sys (srid),\\nCONSTRAINT ck_gc_rtree CHECK (spatial_index_enabled IN (0,1,2)))',)"
            ]
          },
          "metadata": {
            "tags": []
          },
          "execution_count": 47
        }
      ]
    },
    {
      "cell_type": "markdown",
      "metadata": {
        "id": "Ek5NdQClTrhP"
      },
      "source": [
        "* f_table_name\n",
        "* f_geometry_column\n",
        "* geometry_type\n",
        "* coord_dimension\n",
        "* spatial_index_enabled\n",
        "* srid"
      ]
    },
    {
      "cell_type": "code",
      "metadata": {
        "colab": {
          "base_uri": "https://localhost:8080/"
        },
        "id": "n3xeYlJnUhEK",
        "outputId": "363ed180-dccb-468b-aa2c-d797382667e6"
      },
      "source": [
        "spatial_ref_sys_aux"
      ],
      "execution_count": 48,
      "outputs": [
        {
          "output_type": "execute_result",
          "data": {
            "text/plain": [
              "('CREATE TABLE spatial_ref_sys_aux (\\n\\tsrid INTEGER NOT NULL PRIMARY KEY,\\n\\tis_geographic INTEGER,\\n\\thas_flipped_axes INTEGER,\\n\\tspheroid TEXT,\\n\\tprime_meridian TEXT,\\n\\tdatum TEXT,\\n\\tprojection TEXT,\\n\\tunit TEXT,\\n\\taxis_1_name TEXT,\\n\\taxis_1_orientation TEXT,\\n\\taxis_2_name TEXT,\\n\\taxis_2_orientation TEXT,\\n\\tCONSTRAINT fk_sprefsys FOREIGN KEY (srid) \\tREFERENCES spatial_ref_sys (srid))',)"
            ]
          },
          "metadata": {
            "tags": []
          },
          "execution_count": 48
        }
      ]
    },
    {
      "cell_type": "markdown",
      "metadata": {
        "id": "alQgXggbUnIm"
      },
      "source": [
        "* srid\n",
        "* is_geographic\n",
        "* has_flipped_axes\n",
        "* spheroid\n",
        "* prime_meridian\n",
        "* projection\n",
        "* unit\n",
        "* axis_1_name\n",
        "* axis_1_orientation\n",
        "* axis_2_name\n",
        "* axis_2_orientation"
      ]
    },
    {
      "cell_type": "code",
      "metadata": {
        "colab": {
          "base_uri": "https://localhost:8080/"
        },
        "id": "mrtt2Ap3VSWf",
        "outputId": "f6fa2fac-6c64-4245-9d3c-be09b37a4247"
      },
      "source": [
        "views_geometry_columns"
      ],
      "execution_count": 49,
      "outputs": [
        {
          "output_type": "execute_result",
          "data": {
            "text/plain": [
              "('CREATE TABLE views_geometry_columns (\\nview_name TEXT NOT NULL,\\nview_geometry TEXT NOT NULL,\\nview_rowid TEXT NOT NULL,\\nf_table_name TEXT NOT NULL,\\nf_geometry_column TEXT NOT NULL,\\nread_only INTEGER NOT NULL,\\nCONSTRAINT pk_geom_cols_views PRIMARY KEY (view_name, view_geometry),\\nCONSTRAINT fk_views_geom_cols FOREIGN KEY (f_table_name, f_geometry_column) REFERENCES geometry_columns (f_table_name, f_geometry_column) ON DELETE CASCADE,\\nCONSTRAINT ck_vw_rdonly CHECK (read_only IN (0,1)))',)"
            ]
          },
          "metadata": {
            "tags": []
          },
          "execution_count": 49
        }
      ]
    },
    {
      "cell_type": "markdown",
      "metadata": {
        "id": "DnHawEa-VUmM"
      },
      "source": [
        "* view_name\n",
        "* view_geometry\n",
        "* view_rowid\n",
        "* f_table_name\n",
        "* f_geometry_columns\n",
        "* read_only"
      ]
    },
    {
      "cell_type": "code",
      "metadata": {
        "colab": {
          "base_uri": "https://localhost:8080/"
        },
        "id": "id5jJzvhVof0",
        "outputId": "1fb5bf3c-bb15-4e2f-dfe6-88a8f3157a4b"
      },
      "source": [
        "virts_geometry_columns"
      ],
      "execution_count": 50,
      "outputs": [
        {
          "output_type": "execute_result",
          "data": {
            "text/plain": [
              "('CREATE TABLE virts_geometry_columns (\\nvirt_name TEXT NOT NULL,\\nvirt_geometry TEXT NOT NULL,\\ngeometry_type INTEGER NOT NULL,\\ncoord_dimension INTEGER NOT NULL,\\nsrid INTEGER NOT NULL,\\nCONSTRAINT pk_geom_cols_virts PRIMARY KEY (virt_name, virt_geometry),\\nCONSTRAINT fk_vgc_srid FOREIGN KEY (srid) REFERENCES spatial_ref_sys (srid))',)"
            ]
          },
          "metadata": {
            "tags": []
          },
          "execution_count": 50
        }
      ]
    },
    {
      "cell_type": "markdown",
      "metadata": {
        "id": "YAIxbZyvVrMe"
      },
      "source": [
        "* virt_name\n",
        "* virt_geometry\n",
        "* geometry_type\n",
        "* coord_dimension\n",
        "* srid"
      ]
    },
    {
      "cell_type": "code",
      "metadata": {
        "colab": {
          "base_uri": "https://localhost:8080/"
        },
        "id": "6fDvKerwV4Wj",
        "outputId": "c573d688-7cbc-4b76-d691-edf78b43c31f"
      },
      "source": [
        "geometry_columns_stats"
      ],
      "execution_count": 53,
      "outputs": [
        {
          "output_type": "execute_result",
          "data": {
            "text/plain": [
              "('CREATE TABLE geometry_columns_statistics (\\nf_table_name TEXT NOT NULL,\\nf_geometry_column TEXT NOT NULL,\\nlast_verified TIMESTAMP,\\nrow_count INTEGER,\\nextent_min_x DOUBLE,\\nextent_min_y DOUBLE,\\nextent_max_x DOUBLE,\\nextent_max_y DOUBLE,\\nCONSTRAINT pk_gc_statistics PRIMARY KEY (f_table_name, f_geometry_column),\\nCONSTRAINT fk_gc_statistics FOREIGN KEY (f_table_name, f_geometry_column) REFERENCES geometry_columns (f_table_name, f_geometry_column) ON DELETE CASCADE)',)"
            ]
          },
          "metadata": {
            "tags": []
          },
          "execution_count": 53
        }
      ]
    },
    {
      "cell_type": "markdown",
      "metadata": {
        "id": "9bPUbukYWOjV"
      },
      "source": [
        "* f_table_name\n",
        "* f_geometry_column\n",
        "* last_verified\n",
        "* row_count\n",
        "* extent_min_x\n",
        "* extent_min_y\n",
        "* extent_max_x \n",
        "* extent_max_y \n"
      ]
    },
    {
      "cell_type": "code",
      "metadata": {
        "colab": {
          "base_uri": "https://localhost:8080/"
        },
        "id": "eFgO1LFbWmnV",
        "outputId": "57ec45be-65d2-4767-84ad-3a759e4cfcea"
      },
      "source": [
        "views_geometry_columns_stats"
      ],
      "execution_count": 54,
      "outputs": [
        {
          "output_type": "execute_result",
          "data": {
            "text/plain": [
              "('CREATE TABLE views_geometry_columns_statistics (\\nview_name TEXT NOT NULL,\\nview_geometry TEXT NOT NULL,\\nlast_verified TIMESTAMP,\\nrow_count INTEGER,\\nextent_min_x DOUBLE,\\nextent_min_y DOUBLE,\\nextent_max_x DOUBLE,\\nextent_max_y DOUBLE,\\nCONSTRAINT pk_vwgc_statistics PRIMARY KEY (view_name, view_geometry),\\nCONSTRAINT fk_vwgc_statistics FOREIGN KEY (view_name, view_geometry) REFERENCES views_geometry_columns (view_name, view_geometry) ON DELETE CASCADE)',)"
            ]
          },
          "metadata": {
            "tags": []
          },
          "execution_count": 54
        }
      ]
    },
    {
      "cell_type": "markdown",
      "metadata": {
        "id": "ICdt1nMyWq4H"
      },
      "source": [
        "* view_name\n",
        "* view_geometry\n",
        "* last_verified\n",
        "* row_count\n",
        "* extent_min_x\n",
        "* extent_min_y\n",
        "* extent_max_x\n",
        "* extent_max_y"
      ]
    },
    {
      "cell_type": "code",
      "metadata": {
        "colab": {
          "base_uri": "https://localhost:8080/"
        },
        "id": "ta6q19bJXCKA",
        "outputId": "7c60283a-ed34-4d52-ef1b-db7794f5ec4d"
      },
      "source": [
        "virts_geometry_columns_stats"
      ],
      "execution_count": 57,
      "outputs": [
        {
          "output_type": "execute_result",
          "data": {
            "text/plain": [
              "('CREATE TABLE virts_geometry_columns_statistics (\\nvirt_name TEXT NOT NULL,\\nvirt_geometry TEXT NOT NULL,\\nlast_verified TIMESTAMP,\\nrow_count INTEGER,\\nextent_min_x DOUBLE,\\nextent_min_y DOUBLE,\\nextent_max_x DOUBLE,\\nextent_max_y DOUBLE,\\nCONSTRAINT pk_vrtgc_statistics PRIMARY KEY (virt_name, virt_geometry),\\nCONSTRAINT fk_vrtgc_statistics FOREIGN KEY (virt_name, virt_geometry) REFERENCES virts_geometry_columns (virt_name, virt_geometry) ON DELETE CASCADE)',)"
            ]
          },
          "metadata": {
            "tags": []
          },
          "execution_count": 57
        }
      ]
    },
    {
      "cell_type": "markdown",
      "metadata": {
        "id": "dn-o-mduXG04"
      },
      "source": [
        "* virt_name\n",
        "* virt_geometry\n",
        "* last_verified\n",
        "* row_count\n",
        "* extent_min_x\n",
        "* extent_min_y\n",
        "* extent_max_x\n",
        "* extent_max_y"
      ]
    },
    {
      "cell_type": "code",
      "metadata": {
        "colab": {
          "base_uri": "https://localhost:8080/"
        },
        "id": "sdKipERPXlh9",
        "outputId": "06b226c4-8df5-46bb-eb55-1ed96b01e069"
      },
      "source": [
        "geometry_columns_field_infos"
      ],
      "execution_count": 58,
      "outputs": [
        {
          "output_type": "execute_result",
          "data": {
            "text/plain": [
              "('CREATE TABLE geometry_columns_field_infos (\\nf_table_name TEXT NOT NULL,\\nf_geometry_column TEXT NOT NULL,\\nordinal INTEGER NOT NULL,\\ncolumn_name TEXT NOT NULL,\\nnull_values INTEGER NOT NULL,\\ninteger_values INTEGER NOT NULL,\\ndouble_values INTEGER NOT NULL,\\ntext_values INTEGER NOT NULL,\\nblob_values INTEGER NOT NULL,\\nmax_size INTEGER,\\ninteger_min INTEGER,\\ninteger_max INTEGER,\\ndouble_min DOUBLE,\\ndouble_max DOUBLE,\\nCONSTRAINT pk_gcfld_infos PRIMARY KEY (f_table_name, f_geometry_column, ordinal, column_name),\\nCONSTRAINT fk_gcfld_infos FOREIGN KEY (f_table_name, f_geometry_column) REFERENCES geometry_columns (f_table_name, f_geometry_column) ON DELETE CASCADE)',)"
            ]
          },
          "metadata": {
            "tags": []
          },
          "execution_count": 58
        }
      ]
    },
    {
      "cell_type": "markdown",
      "metadata": {
        "id": "5EAl0b3oXpkp"
      },
      "source": [
        "* f_table_name\n",
        "* f_geometry_column\n",
        "* ordinal\n",
        "* column_name\n",
        "* null_values\n",
        "* integer_values\n",
        "* double_values\n",
        "* text_values\n",
        "* blob_values\n",
        "* max_size\n",
        "* integer_max\n",
        "* double_min\n",
        "* double_max"
      ]
    },
    {
      "cell_type": "code",
      "metadata": {
        "id": "m1y4c5LWN2Wk"
      },
      "source": [
        "\n",
        " ('virts_geometry_columns_field_infos',),\n",
        " ('geometry_columns_time',),\n",
        " ('geometry_columns_auth',),\n",
        " ('views_geometry_columns_auth',),\n",
        " ('virts_geometry_columns_auth',),\n",
        " ('sql_statements_log',),\n",
        " ('SpatialIndex',),\n",
        " ('ElementaryGeometries',),\n",
        " ('KNN',),\n",
        " ('Fires',),\n",
        " ('idx_Fires_Shape',),\n",
        " ('idx_Fires_Shape_node',),\n",
        " ('idx_Fires_Shape_rowid',),\n",
        " ('idx_Fires_Shape_parent',),\n",
        " ('NWCG_UnitIDActive_20170109',)]"
      ],
      "execution_count": null,
      "outputs": []
    }
  ]
}