{
  "nbformat": 4,
  "nbformat_minor": 0,
  "metadata": {
    "colab": {
      "name": "WildFire Data Exploration (Colab).ipynb",
      "provenance": [],
      "mount_file_id": "1pO4K6JqeO2cx_wDynmS_65ape_Mcpj95",
      "authorship_tag": "ABX9TyPV6htInheZDmZtcebe6MWK",
      "include_colab_link": true
    },
    "kernelspec": {
      "name": "python3",
      "display_name": "Python 3"
    },
    "language_info": {
      "name": "python"
    }
  },
  "cells": [
    {
      "cell_type": "markdown",
      "metadata": {
        "id": "view-in-github",
        "colab_type": "text"
      },
      "source": [
        "<a href=\"https://colab.research.google.com/github/kjsampler/Wildfire-Data/blob/main/WildFire_Data_Exploration_(Colab).ipynb\" target=\"_parent\"><img src=\"https://colab.research.google.com/assets/colab-badge.svg\" alt=\"Open In Colab\"/></a>"
      ]
    },
    {
      "cell_type": "markdown",
      "metadata": {
        "id": "NBmcbqDcgRpr"
      },
      "source": [
        "This notebook will be used to explore the wildfire dataset, and trim it down to what is necessary in order to avoid pushing a large file to GitHub. "
      ]
    },
    {
      "cell_type": "code",
      "metadata": {
        "id": "o8twiRp7giOc"
      },
      "source": [
        "#https://www.kaggle.com/rtatman/188-million-us-wildfires\n",
        "#Located in MyDrive"
      ],
      "execution_count": null,
      "outputs": []
    },
    {
      "cell_type": "code",
      "metadata": {
        "colab": {
          "base_uri": "https://localhost:8080/"
        },
        "id": "yo4Z-H5ikt9Q",
        "outputId": "485d03b5-71e8-4c3e-8e31-0c9b44319feb"
      },
      "source": [
        "!unzip /content/drive/MyDrive/archive.zip -d /content/drive/MyDrive/WildfireData"
      ],
      "execution_count": null,
      "outputs": [
        {
          "output_type": "stream",
          "text": [
            "Archive:  /content/drive/MyDrive/archive.zip\n",
            "  inflating: /content/drive/MyDrive/WildfireData/FPA_FOD_20170508.sqlite  \n"
          ],
          "name": "stdout"
        }
      ]
    },
    {
      "cell_type": "code",
      "metadata": {
        "id": "Rb0vaxMbduBL"
      },
      "source": [
        "import sqlite3"
      ],
      "execution_count": 1,
      "outputs": []
    },
    {
      "cell_type": "code",
      "metadata": {
        "id": "VqCJeEiPfcny"
      },
      "source": [
        "conn = sqlite3.connect('/content/drive/MyDrive/WildfireData/FPA_FOD_20170508.sqlite')\n",
        "c = conn.cursor()"
      ],
      "execution_count": 2,
      "outputs": []
    },
    {
      "cell_type": "markdown",
      "metadata": {
        "id": "6iHNPsgREu5W"
      },
      "source": [
        "# Analyze Schema\n",
        "Schema is first marked down on paper and then organized into a visualization. "
      ]
    },
    {
      "cell_type": "code",
      "metadata": {
        "id": "vsUZ1vNwkFaQ"
      },
      "source": [
        "c.execute(\"\"\"SELECT name FROM sqlite_master WHERE type = 'table';\"\"\")\n",
        "table_names = c.fetchall()"
      ],
      "execution_count": 3,
      "outputs": []
    },
    {
      "cell_type": "code",
      "metadata": {
        "colab": {
          "base_uri": "https://localhost:8080/"
        },
        "id": "o3bOVXrud_iq",
        "outputId": "79abc9ee-d6cd-4eac-aae0-fdc917c32874"
      },
      "source": [
        "table_names"
      ],
      "execution_count": 4,
      "outputs": [
        {
          "output_type": "execute_result",
          "data": {
            "text/plain": [
              "[('spatial_ref_sys',),\n",
              " ('spatialite_history',),\n",
              " ('sqlite_sequence',),\n",
              " ('geometry_columns',),\n",
              " ('spatial_ref_sys_aux',),\n",
              " ('views_geometry_columns',),\n",
              " ('virts_geometry_columns',),\n",
              " ('geometry_columns_statistics',),\n",
              " ('views_geometry_columns_statistics',),\n",
              " ('virts_geometry_columns_statistics',),\n",
              " ('geometry_columns_field_infos',),\n",
              " ('views_geometry_columns_field_infos',),\n",
              " ('virts_geometry_columns_field_infos',),\n",
              " ('geometry_columns_time',),\n",
              " ('geometry_columns_auth',),\n",
              " ('views_geometry_columns_auth',),\n",
              " ('virts_geometry_columns_auth',),\n",
              " ('sql_statements_log',),\n",
              " ('SpatialIndex',),\n",
              " ('ElementaryGeometries',),\n",
              " ('KNN',),\n",
              " ('Fires',),\n",
              " ('idx_Fires_Shape',),\n",
              " ('idx_Fires_Shape_node',),\n",
              " ('idx_Fires_Shape_rowid',),\n",
              " ('idx_Fires_Shape_parent',),\n",
              " ('NWCG_UnitIDActive_20170109',)]"
            ]
          },
          "metadata": {
            "tags": []
          },
          "execution_count": 4
        }
      ]
    },
    {
      "cell_type": "code",
      "metadata": {
        "id": "8-q1XFdcfJwq"
      },
      "source": [
        "spatial_ref_sys = c.execute(\"\"\"SELECT sql FROM sqlite_master WHERE type = 'table' AND name = 'spatial_ref_sys';\"\"\").fetchone()"
      ],
      "execution_count": 5,
      "outputs": []
    },
    {
      "cell_type": "code",
      "metadata": {
        "id": "OzAeeCG9Fi4s"
      },
      "source": [
        "spatialite_history = c.execute(\"\"\"SELECT sql FROM sqlite_master WHERE type = 'table' AND name = 'spatialite_history';\"\"\").fetchone()"
      ],
      "execution_count": 6,
      "outputs": []
    },
    {
      "cell_type": "code",
      "metadata": {
        "id": "SVCUf2R5HCEp"
      },
      "source": [
        "sqlite_sequence = c.execute(\"\"\"SELECT sql FROM sqlite_master WHERE type = 'table' AND name = 'sqlite_sequence';\"\"\").fetchone()"
      ],
      "execution_count": 7,
      "outputs": []
    },
    {
      "cell_type": "code",
      "metadata": {
        "id": "HIW6b8JCJA1E"
      },
      "source": [
        "geometry_columns = c.execute(\"\"\"SELECT sql FROM sqlite_master WHERE type = 'table' AND name = 'geometry_columns';\"\"\").fetchone()"
      ],
      "execution_count": 8,
      "outputs": []
    },
    {
      "cell_type": "code",
      "metadata": {
        "id": "o5ps_4_NDVvS"
      },
      "source": [
        "spatial_ref_sys_aux = c.execute(\"\"\"SELECT sql FROM sqlite_master WHERE type = 'table' AND name = 'spatial_ref_sys_aux';\"\"\").fetchone()"
      ],
      "execution_count": 11,
      "outputs": []
    },
    {
      "cell_type": "code",
      "metadata": {
        "id": "zQlV_A7wEigW"
      },
      "source": [
        "views_geometry_columns = c.execute(\"\"\"SELECT sql FROM sqlite_master WHERE type = 'table' AND name = 'views_geometry_columns';\"\"\").fetchone()"
      ],
      "execution_count": 12,
      "outputs": []
    },
    {
      "cell_type": "code",
      "metadata": {
        "id": "zep_n864E2U0"
      },
      "source": [
        "virts_geometry_columns = c.execute(\"\"\"SELECT sql FROM sqlite_master WHERE type = 'table' AND name = 'virts_geometry_columns';\"\"\").fetchone()"
      ],
      "execution_count": 13,
      "outputs": []
    },
    {
      "cell_type": "code",
      "metadata": {
        "id": "5uKUbgW0FBRk"
      },
      "source": [
        "geometry_columns_stats = c.execute(\"\"\"SELECT sql FROM sqlite_master WHERE type = 'table' AND name = 'geometry_columns_stats';\"\"\").fetchone()"
      ],
      "execution_count": 14,
      "outputs": []
    },
    {
      "cell_type": "code",
      "metadata": {
        "id": "zAKhN7oWFMH3"
      },
      "source": [
        "views_geometry_columns_stats = c.execute(\"\"\"SELECT sql FROM sqlite_master WHERE type = 'table' AND name = 'views_geometry_columns_statistics';\"\"\").fetchone()"
      ],
      "execution_count": 15,
      "outputs": []
    },
    {
      "cell_type": "code",
      "metadata": {
        "id": "5Xr5dFZHFbGU"
      },
      "source": [
        "virts_geometry_columns_stats = c.execute(\"\"\"SELECT sql FROM sqlite_master WHERE type = 'table' AND name = 'virts_geometry_columns_stats';\"\"\").fetchone()"
      ],
      "execution_count": 16,
      "outputs": []
    },
    {
      "cell_type": "code",
      "metadata": {
        "id": "QPDMwfJeFmFy"
      },
      "source": [
        "geometry_columns_field_infos = c.execute(\"\"\"SELECT sql FROM sqlite_master WHERE type = 'table' AND name = 'geometry_columns_field_infos';\"\"\").fetchone()"
      ],
      "execution_count": 18,
      "outputs": []
    },
    {
      "cell_type": "code",
      "metadata": {
        "id": "yBPHHGeFFzqK"
      },
      "source": [
        "views_geometry_columns_field_infos = c.execute(\"\"\"SELECT sql FROM sqlite_master WHERE type = 'table' AND name = 'views_geometry_columns_field_infos';\"\"\").fetchone()"
      ],
      "execution_count": 19,
      "outputs": []
    },
    {
      "cell_type": "code",
      "metadata": {
        "id": "OYQ-vFT9F-15"
      },
      "source": [
        "virts_geometry_columns_field_infos = c.execute(\"\"\"SELECT sql FROM sqlite_master WHERE type = 'table' AND name = 'virts_geometry_columns_field_infos';\"\"\").fetchone()"
      ],
      "execution_count": 20,
      "outputs": []
    },
    {
      "cell_type": "code",
      "metadata": {
        "id": "HfIYO2x1GLOb"
      },
      "source": [
        "geometry_columns_time = c.execute(\"\"\"SELECT sql FROM sqlite_master WHERE type = 'table' AND name = 'geometry_columns_time';\"\"\").fetchone()"
      ],
      "execution_count": 21,
      "outputs": []
    },
    {
      "cell_type": "code",
      "metadata": {
        "id": "WxiZmLo4GTVW"
      },
      "source": [
        "geometry_columns_auth = c.execute(\"\"\"SELECT sql FROM sqlite_master WHERE type = 'table' AND name = 'geometry_columns_auth';\"\"\").fetchone()"
      ],
      "execution_count": 22,
      "outputs": []
    },
    {
      "cell_type": "code",
      "metadata": {
        "id": "Y18VV9eKGcLe"
      },
      "source": [
        "views_geometry_columns_auth = c.execute(\"\"\"SELECT sql FROM sqlite_master WHERE type = 'table' AND name = 'view_geometryy_columns_auth';\"\"\").fetchone()"
      ],
      "execution_count": 23,
      "outputs": []
    },
    {
      "cell_type": "code",
      "metadata": {
        "id": "scRgswpsGsvX"
      },
      "source": [
        ""
      ],
      "execution_count": null,
      "outputs": []
    },
    {
      "cell_type": "code",
      "metadata": {
        "id": "pqBEWYevDsgk"
      },
      "source": [
        "('virts_geometry_columns_auth',),\n",
        " ('sql_statements_log',),\n",
        " ('SpatialIndex',),\n",
        " ('ElementaryGeometries',),\n",
        " ('KNN',),\n",
        " ('Fires',),\n",
        " ('idx_Fires_Shape',),\n",
        " ('idx_Fires_Shape_node',),\n",
        " ('idx_Fires_Shape_rowid',),\n",
        " ('idx_Fires_Shape_parent',),\n",
        " ('NWCG_UnitIDActive_20170109'"
      ],
      "execution_count": null,
      "outputs": []
    }
  ]
}