{
  "nbformat": 4,
  "nbformat_minor": 0,
  "metadata": {
    "colab": {
      "name": "WildFire Data Exploration (Colab).ipynb",
      "provenance": [],
      "authorship_tag": "ABX9TyO9oSfLHNVoHNH9zD5wTAMF",
      "include_colab_link": true
    },
    "kernelspec": {
      "name": "python3",
      "display_name": "Python 3"
    },
    "language_info": {
      "name": "python"
    }
  },
  "cells": [
    {
      "cell_type": "markdown",
      "metadata": {
        "id": "view-in-github",
        "colab_type": "text"
      },
      "source": [
        "<a href=\"https://colab.research.google.com/github/kjsampler/Wildfire-Data/blob/main/WildFire_Data_Exploration_(Colab).ipynb\" target=\"_parent\"><img src=\"https://colab.research.google.com/assets/colab-badge.svg\" alt=\"Open In Colab\"/></a>"
      ]
    },
    {
      "cell_type": "markdown",
      "metadata": {
        "id": "NBmcbqDcgRpr"
      },
      "source": [
        "This notebook will be used to explore the wildfire dataset, and trim it down to what is necessary in order to avoid pushing a large file to GitHub. "
      ]
    },
    {
      "cell_type": "code",
      "metadata": {
        "id": "o8twiRp7giOc"
      },
      "source": [
        ""
      ],
      "execution_count": null,
      "outputs": []
    }
  ]
}