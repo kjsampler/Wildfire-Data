{
  "nbformat": 4,
  "nbformat_minor": 0,
  "metadata": {
    "colab": {
      "name": "WildFire Data Exploration (Colab).ipynb",
      "provenance": [],
      "mount_file_id": "1pO4K6JqeO2cx_wDynmS_65ape_Mcpj95",
      "authorship_tag": "ABX9TyPazKVeFrWz5IxMPI70Yrw2",
      "include_colab_link": true
    },
    "kernelspec": {
      "name": "python3",
      "display_name": "Python 3"
    },
    "language_info": {
      "name": "python"
    }
  },
  "cells": [
    {
      "cell_type": "markdown",
      "metadata": {
        "id": "view-in-github",
        "colab_type": "text"
      },
      "source": [
        "<a href=\"https://colab.research.google.com/github/kjsampler/Wildfire-Data/blob/main/WildFire_Data_Exploration_(Colab).ipynb\" target=\"_parent\"><img src=\"https://colab.research.google.com/assets/colab-badge.svg\" alt=\"Open In Colab\"/></a>"
      ]
    },
    {
      "cell_type": "markdown",
      "metadata": {
        "id": "NBmcbqDcgRpr"
      },
      "source": [
        "This notebook will be used to explore the wildfire dataset, and trim it down to what is necessary in order to avoid pushing a large file to GitHub. "
      ]
    },
    {
      "cell_type": "code",
      "metadata": {
        "id": "o8twiRp7giOc"
      },
      "source": [
        "#https://www.kaggle.com/rtatman/188-million-us-wildfires\n",
        "#Located in MyDrive"
      ],
      "execution_count": 1,
      "outputs": []
    },
    {
      "cell_type": "code",
      "metadata": {
        "id": "yo4Z-H5ikt9Q"
      },
      "source": [
        "#!unzip /content/drive/MyDrive/archive.zip -d /content/drive/MyDrive/WildfireData\n",
        "# line to unzip and redirect data (commented out once completed)"
      ],
      "execution_count": 2,
      "outputs": []
    },
    {
      "cell_type": "code",
      "metadata": {
        "id": "Rb0vaxMbduBL"
      },
      "source": [
        "import sqlite3\n",
        "import pandas as pd"
      ],
      "execution_count": 3,
      "outputs": []
    },
    {
      "cell_type": "code",
      "metadata": {
        "id": "VqCJeEiPfcny"
      },
      "source": [
        "conn = sqlite3.connect('/content/drive/MyDrive/WildfireData/FPA_FOD_20170508.sqlite')\n",
        "c = conn.cursor()"
      ],
      "execution_count": 4,
      "outputs": []
    },
    {
      "cell_type": "markdown",
      "metadata": {
        "id": "6iHNPsgREu5W"
      },
      "source": [
        "# Analyze Schema\n",
        "Schema is first marked down on paper and then organized into a visualization. "
      ]
    },
    {
      "cell_type": "code",
      "metadata": {
        "id": "vsUZ1vNwkFaQ"
      },
      "source": [
        "c.execute(\"\"\"SELECT name FROM sqlite_master WHERE type = 'table';\"\"\")\n",
        "table_names = c.fetchall()"
      ],
      "execution_count": 5,
      "outputs": []
    },
    {
      "cell_type": "code",
      "metadata": {
        "colab": {
          "base_uri": "https://localhost:8080/"
        },
        "id": "o3bOVXrud_iq",
        "outputId": "5cd66417-8792-4da1-c350-f29027716c4c"
      },
      "source": [
        "table_names"
      ],
      "execution_count": 6,
      "outputs": [
        {
          "output_type": "execute_result",
          "data": {
            "text/plain": [
              "[('spatial_ref_sys',),\n",
              " ('spatialite_history',),\n",
              " ('sqlite_sequence',),\n",
              " ('geometry_columns',),\n",
              " ('spatial_ref_sys_aux',),\n",
              " ('views_geometry_columns',),\n",
              " ('virts_geometry_columns',),\n",
              " ('geometry_columns_statistics',),\n",
              " ('views_geometry_columns_statistics',),\n",
              " ('virts_geometry_columns_statistics',),\n",
              " ('geometry_columns_field_infos',),\n",
              " ('views_geometry_columns_field_infos',),\n",
              " ('virts_geometry_columns_field_infos',),\n",
              " ('geometry_columns_time',),\n",
              " ('geometry_columns_auth',),\n",
              " ('views_geometry_columns_auth',),\n",
              " ('virts_geometry_columns_auth',),\n",
              " ('sql_statements_log',),\n",
              " ('SpatialIndex',),\n",
              " ('ElementaryGeometries',),\n",
              " ('KNN',),\n",
              " ('Fires',),\n",
              " ('idx_Fires_Shape',),\n",
              " ('idx_Fires_Shape_node',),\n",
              " ('idx_Fires_Shape_rowid',),\n",
              " ('idx_Fires_Shape_parent',),\n",
              " ('NWCG_UnitIDActive_20170109',)]"
            ]
          },
          "metadata": {
            "tags": []
          },
          "execution_count": 6
        }
      ]
    },
    {
      "cell_type": "code",
      "metadata": {
        "id": "8-q1XFdcfJwq"
      },
      "source": [
        "spatial_ref_sys = c.execute(\"\"\"SELECT sql FROM sqlite_master WHERE type = 'table' AND name = 'spatial_ref_sys';\"\"\").fetchone()"
      ],
      "execution_count": 7,
      "outputs": []
    },
    {
      "cell_type": "code",
      "metadata": {
        "id": "OzAeeCG9Fi4s"
      },
      "source": [
        "spatialite_history = c.execute(\"\"\"SELECT sql FROM sqlite_master WHERE type = 'table' AND name = 'spatialite_history';\"\"\").fetchone()"
      ],
      "execution_count": 8,
      "outputs": []
    },
    {
      "cell_type": "code",
      "metadata": {
        "id": "SVCUf2R5HCEp"
      },
      "source": [
        "sqlite_sequence = c.execute(\"\"\"SELECT sql FROM sqlite_master WHERE type = 'table' AND name = 'sqlite_sequence';\"\"\").fetchone()"
      ],
      "execution_count": 9,
      "outputs": []
    },
    {
      "cell_type": "code",
      "metadata": {
        "id": "HIW6b8JCJA1E"
      },
      "source": [
        "geometry_columns = c.execute(\"\"\"SELECT sql FROM sqlite_master WHERE type = 'table' AND name = 'geometry_columns';\"\"\").fetchone()"
      ],
      "execution_count": 10,
      "outputs": []
    },
    {
      "cell_type": "code",
      "metadata": {
        "id": "o5ps_4_NDVvS"
      },
      "source": [
        "spatial_ref_sys_aux = c.execute(\"\"\"SELECT sql FROM sqlite_master WHERE type = 'table' AND name = 'spatial_ref_sys_aux';\"\"\").fetchone()"
      ],
      "execution_count": 11,
      "outputs": []
    },
    {
      "cell_type": "code",
      "metadata": {
        "id": "zQlV_A7wEigW"
      },
      "source": [
        "views_geometry_columns = c.execute(\"\"\"SELECT sql FROM sqlite_master WHERE type = 'table' AND name = 'views_geometry_columns';\"\"\").fetchone()"
      ],
      "execution_count": 67,
      "outputs": []
    },
    {
      "cell_type": "code",
      "metadata": {
        "id": "zep_n864E2U0"
      },
      "source": [
        "virts_geometry_columns = c.execute(\"\"\"SELECT sql FROM sqlite_master WHERE type = 'table' AND name = 'virts_geometry_columns';\"\"\").fetchone()"
      ],
      "execution_count": 13,
      "outputs": []
    },
    {
      "cell_type": "code",
      "metadata": {
        "id": "5uKUbgW0FBRk"
      },
      "source": [
        "geometry_columns_stats = c.execute(\"\"\"SELECT sql FROM sqlite_master WHERE type = 'table' AND name = 'geometry_columns_statistics';\"\"\").fetchone()"
      ],
      "execution_count": 14,
      "outputs": []
    },
    {
      "cell_type": "code",
      "metadata": {
        "id": "zAKhN7oWFMH3"
      },
      "source": [
        "views_geometry_columns_stats = c.execute(\"\"\"SELECT sql FROM sqlite_master WHERE type = 'table' AND name = 'views_geometry_columns_statistics';\"\"\").fetchone()"
      ],
      "execution_count": 15,
      "outputs": []
    },
    {
      "cell_type": "code",
      "metadata": {
        "id": "5Xr5dFZHFbGU"
      },
      "source": [
        "virts_geometry_columns_stats = c.execute(\"\"\"SELECT sql FROM sqlite_master WHERE type = 'table' AND name = 'virts_geometry_columns_statistics';\"\"\").fetchone()"
      ],
      "execution_count": 16,
      "outputs": []
    },
    {
      "cell_type": "code",
      "metadata": {
        "id": "QPDMwfJeFmFy"
      },
      "source": [
        "geometry_columns_field_infos = c.execute(\"\"\"SELECT sql FROM sqlite_master WHERE type = 'table' AND name = 'geometry_columns_field_infos';\"\"\").fetchone()"
      ],
      "execution_count": 17,
      "outputs": []
    },
    {
      "cell_type": "code",
      "metadata": {
        "id": "yBPHHGeFFzqK"
      },
      "source": [
        "views_geometry_columns_field_infos = c.execute(\"\"\"SELECT sql FROM sqlite_master WHERE type = 'table' AND name = 'views_geometry_columns_field_infos';\"\"\").fetchone()"
      ],
      "execution_count": 18,
      "outputs": []
    },
    {
      "cell_type": "code",
      "metadata": {
        "id": "OYQ-vFT9F-15"
      },
      "source": [
        "virts_geometry_columns_field_infos = c.execute(\"\"\"SELECT sql FROM sqlite_master WHERE type = 'table' AND name = 'virts_geometry_columns_field_infos';\"\"\").fetchone()"
      ],
      "execution_count": 19,
      "outputs": []
    },
    {
      "cell_type": "code",
      "metadata": {
        "id": "HfIYO2x1GLOb"
      },
      "source": [
        "geometry_columns_time = c.execute(\"\"\"SELECT sql FROM sqlite_master WHERE type = 'table' AND name = 'geometry_columns_time';\"\"\").fetchone()"
      ],
      "execution_count": 20,
      "outputs": []
    },
    {
      "cell_type": "code",
      "metadata": {
        "id": "WxiZmLo4GTVW"
      },
      "source": [
        "geometry_columns_auth = c.execute(\"\"\"SELECT sql FROM sqlite_master WHERE type = 'table' AND name = 'geometry_columns_auth';\"\"\").fetchone()"
      ],
      "execution_count": 21,
      "outputs": []
    },
    {
      "cell_type": "code",
      "metadata": {
        "id": "Y18VV9eKGcLe"
      },
      "source": [
        "views_geometry_columns_auth = c.execute(\"\"\"SELECT sql FROM sqlite_master WHERE type = 'table' AND name = 'views_geometry_columns_auth';\"\"\").fetchone()"
      ],
      "execution_count": 22,
      "outputs": []
    },
    {
      "cell_type": "code",
      "metadata": {
        "id": "scRgswpsGsvX"
      },
      "source": [
        "virts_geometry_columns_auth = c.execute(\"\"\"SELECT sql FROM sqlite_master WHERE type = 'table' AND name = 'virts_geometry_columns_auth';\"\"\").fetchone()"
      ],
      "execution_count": 23,
      "outputs": []
    },
    {
      "cell_type": "code",
      "metadata": {
        "id": "CAc5UdL7I9q2"
      },
      "source": [
        "sql_statements_log = c.execute(\"\"\"SELECT sql FROM sqlite_master WHERE type = 'table' AND name = 'sql_statements_log';\"\"\").fetchone()"
      ],
      "execution_count": 24,
      "outputs": []
    },
    {
      "cell_type": "code",
      "metadata": {
        "id": "pYfBO9TaJFw2"
      },
      "source": [
        "spatial_index = c.execute(\"\"\"SELECT sql FROM sqlite_master WHERE type = 'table' AND name = 'SpatialIndex';\"\"\").fetchone()"
      ],
      "execution_count": 25,
      "outputs": []
    },
    {
      "cell_type": "code",
      "metadata": {
        "id": "ZEwHqqehJLob"
      },
      "source": [
        "elementary_geometries = c.execute(\"\"\"SELECT sql FROM sqlite_master WHERE type = 'table' AND name = 'ElementaryGeometries';\"\"\").fetchone()"
      ],
      "execution_count": 26,
      "outputs": []
    },
    {
      "cell_type": "code",
      "metadata": {
        "id": "YwjSg3ZkJWbN"
      },
      "source": [
        "knn = c.execute(\"\"\"SELECT sql FROM sqlite_master WHERE type = 'table' AND name = 'KNN';\"\"\").fetchone()"
      ],
      "execution_count": 27,
      "outputs": []
    },
    {
      "cell_type": "code",
      "metadata": {
        "id": "5HnfdCfEJmX_"
      },
      "source": [
        "fires = c.execute(\"\"\"SELECT sql FROM sqlite_master WHERE type = 'table' AND name = 'Fires';\"\"\").fetchone()"
      ],
      "execution_count": 28,
      "outputs": []
    },
    {
      "cell_type": "code",
      "metadata": {
        "id": "BtUF0_VmJr5Y"
      },
      "source": [
        "idx_fires_shape = c.execute(\"\"\"SELECT sql FROM sqlite_master WHERE type = 'table' AND name = 'idx_Fires_Shape';\"\"\").fetchone()"
      ],
      "execution_count": 29,
      "outputs": []
    },
    {
      "cell_type": "code",
      "metadata": {
        "id": "9VgD8RI_J6W-"
      },
      "source": [
        "idx_fires_shape_node = c.execute(\"\"\"SELECT sql FROM sqlite_master WHERE type = 'table' AND name = 'idx_Fires_Shape_node';\"\"\").fetchone()"
      ],
      "execution_count": 30,
      "outputs": []
    },
    {
      "cell_type": "code",
      "metadata": {
        "id": "Fx6y4_IsKCuU"
      },
      "source": [
        "idx_fires_shape_rowid = c.execute(\"\"\"SELECT sql FROM sqlite_master WHERE type = 'table' AND name = 'idx_Fires_Shape_rowid';\"\"\").fetchone()"
      ],
      "execution_count": 31,
      "outputs": []
    },
    {
      "cell_type": "code",
      "metadata": {
        "id": "_82SU5mDKJ-s"
      },
      "source": [
        "idx_fires_shape_parent = c.execute(\"\"\"SELECT sql FROM sqlite_master WHERE type = 'table' AND name = 'idx_Fires_Shape_parent';\"\"\").fetchone()"
      ],
      "execution_count": 32,
      "outputs": []
    },
    {
      "cell_type": "code",
      "metadata": {
        "id": "pqBEWYevDsgk"
      },
      "source": [
        "NWCG_UnitIDActive_20170109 = c.execute(\"\"\"SELECT sql FROM sqlite_master WHERE type = 'table' AND name = 'NWCG_UnitIDActive_20170109';\"\"\").fetchone()"
      ],
      "execution_count": 33,
      "outputs": []
    },
    {
      "cell_type": "code",
      "metadata": {
        "colab": {
          "base_uri": "https://localhost:8080/"
        },
        "id": "KQ0bK4JyKfTd",
        "outputId": "9ceda39e-2a1c-4c03-a54e-cc595be8aaad"
      },
      "source": [
        "spatial_ref_sys"
      ],
      "execution_count": 34,
      "outputs": [
        {
          "output_type": "execute_result",
          "data": {
            "text/plain": [
              "(\"CREATE TABLE spatial_ref_sys (\\nsrid INTEGER NOT NULL PRIMARY KEY,\\nauth_name TEXT NOT NULL,\\nauth_srid INTEGER NOT NULL,\\nref_sys_name TEXT NOT NULL DEFAULT 'Unknown',\\nproj4text TEXT NOT NULL,\\nsrtext TEXT NOT NULL DEFAULT 'Undefined')\",)"
            ]
          },
          "metadata": {
            "tags": []
          },
          "execution_count": 34
        }
      ]
    },
    {
      "cell_type": "markdown",
      "metadata": {
        "id": "8uWupFW7NelL"
      },
      "source": [
        "* srid\n",
        "* auth_name\n",
        "* auth_srid\n",
        "* nref_sys_name\n",
        "* nproj4text\n",
        "* srtext"
      ]
    },
    {
      "cell_type": "code",
      "metadata": {
        "colab": {
          "base_uri": "https://localhost:8080/"
        },
        "id": "9kPmetKuM6cZ",
        "outputId": "0619acdf-a23b-4f7c-de9d-393cd43236b3"
      },
      "source": [
        "spatialite_history"
      ],
      "execution_count": 35,
      "outputs": [
        {
          "output_type": "execute_result",
          "data": {
            "text/plain": [
              "('CREATE TABLE spatialite_history (\\nevent_id INTEGER NOT NULL PRIMARY KEY AUTOINCREMENT,\\ntable_name TEXT NOT NULL,\\ngeometry_column TEXT,\\nevent TEXT NOT NULL,\\ntimestamp TEXT NOT NULL,\\nver_sqlite TEXT NOT NULL,\\nver_splite TEXT NOT NULL)',)"
            ]
          },
          "metadata": {
            "tags": []
          },
          "execution_count": 35
        }
      ]
    },
    {
      "cell_type": "markdown",
      "metadata": {
        "id": "ZYT-ShPWN34u"
      },
      "source": [
        "* event_id\n",
        "* table_name\n",
        "* geometry_column\n",
        "* event\n",
        "* timestamp\n",
        "* ver_sqlite\n",
        "* ver_splite"
      ]
    },
    {
      "cell_type": "code",
      "metadata": {
        "colab": {
          "base_uri": "https://localhost:8080/"
        },
        "id": "ZFXSM6kxTZkk",
        "outputId": "a56f62e0-ab2b-4f7d-b442-939176f49690"
      },
      "source": [
        "sqlite_sequence"
      ],
      "execution_count": 36,
      "outputs": [
        {
          "output_type": "execute_result",
          "data": {
            "text/plain": [
              "('CREATE TABLE sqlite_sequence(name,seq)',)"
            ]
          },
          "metadata": {
            "tags": []
          },
          "execution_count": 36
        }
      ]
    },
    {
      "cell_type": "markdown",
      "metadata": {
        "id": "wP2fkk6TTfTx"
      },
      "source": [
        "* name\n",
        "* seq"
      ]
    },
    {
      "cell_type": "code",
      "metadata": {
        "colab": {
          "base_uri": "https://localhost:8080/"
        },
        "id": "Gqt9NAKrTm16",
        "outputId": "f54a1cd2-50e0-46ca-c3b0-86cd9752fdb1"
      },
      "source": [
        "geometry_columns"
      ],
      "execution_count": 37,
      "outputs": [
        {
          "output_type": "execute_result",
          "data": {
            "text/plain": [
              "('CREATE TABLE geometry_columns (\\nf_table_name TEXT NOT NULL,\\nf_geometry_column TEXT NOT NULL,\\ngeometry_type INTEGER NOT NULL,\\ncoord_dimension INTEGER NOT NULL,\\nsrid INTEGER NOT NULL,\\nspatial_index_enabled INTEGER NOT NULL,\\nCONSTRAINT pk_geom_cols PRIMARY KEY (f_table_name, f_geometry_column),\\nCONSTRAINT fk_gc_srs FOREIGN KEY (srid) REFERENCES spatial_ref_sys (srid),\\nCONSTRAINT ck_gc_rtree CHECK (spatial_index_enabled IN (0,1,2)))',)"
            ]
          },
          "metadata": {
            "tags": []
          },
          "execution_count": 37
        }
      ]
    },
    {
      "cell_type": "markdown",
      "metadata": {
        "id": "Ek5NdQClTrhP"
      },
      "source": [
        "* f_table_name\n",
        "* f_geometry_column\n",
        "* geometry_type\n",
        "* coord_dimension\n",
        "* spatial_index_enabled\n",
        "* srid"
      ]
    },
    {
      "cell_type": "code",
      "metadata": {
        "colab": {
          "base_uri": "https://localhost:8080/"
        },
        "id": "n3xeYlJnUhEK",
        "outputId": "6154b1c8-4282-4f71-db0f-c245addc2711"
      },
      "source": [
        "spatial_ref_sys_aux"
      ],
      "execution_count": 38,
      "outputs": [
        {
          "output_type": "execute_result",
          "data": {
            "text/plain": [
              "('CREATE TABLE spatial_ref_sys_aux (\\n\\tsrid INTEGER NOT NULL PRIMARY KEY,\\n\\tis_geographic INTEGER,\\n\\thas_flipped_axes INTEGER,\\n\\tspheroid TEXT,\\n\\tprime_meridian TEXT,\\n\\tdatum TEXT,\\n\\tprojection TEXT,\\n\\tunit TEXT,\\n\\taxis_1_name TEXT,\\n\\taxis_1_orientation TEXT,\\n\\taxis_2_name TEXT,\\n\\taxis_2_orientation TEXT,\\n\\tCONSTRAINT fk_sprefsys FOREIGN KEY (srid) \\tREFERENCES spatial_ref_sys (srid))',)"
            ]
          },
          "metadata": {
            "tags": []
          },
          "execution_count": 38
        }
      ]
    },
    {
      "cell_type": "markdown",
      "metadata": {
        "id": "alQgXggbUnIm"
      },
      "source": [
        "* srid\n",
        "* is_geographic\n",
        "* has_flipped_axes\n",
        "* spheroid\n",
        "* prime_meridian\n",
        "* projection\n",
        "* unit\n",
        "* axis_1_name\n",
        "* axis_1_orientation\n",
        "* axis_2_name\n",
        "* axis_2_orientation"
      ]
    },
    {
      "cell_type": "code",
      "metadata": {
        "colab": {
          "base_uri": "https://localhost:8080/"
        },
        "id": "mrtt2Ap3VSWf",
        "outputId": "eafdb87d-f3bd-4483-ae70-18feb0110337"
      },
      "source": [
        "views_geometry_columns"
      ],
      "execution_count": 39,
      "outputs": [
        {
          "output_type": "execute_result",
          "data": {
            "text/plain": [
              "[('CREATE TABLE views_geometry_columns (\\nview_name TEXT NOT NULL,\\nview_geometry TEXT NOT NULL,\\nview_rowid TEXT NOT NULL,\\nf_table_name TEXT NOT NULL,\\nf_geometry_column TEXT NOT NULL,\\nread_only INTEGER NOT NULL,\\nCONSTRAINT pk_geom_cols_views PRIMARY KEY (view_name, view_geometry),\\nCONSTRAINT fk_views_geom_cols FOREIGN KEY (f_table_name, f_geometry_column) REFERENCES geometry_columns (f_table_name, f_geometry_column) ON DELETE CASCADE,\\nCONSTRAINT ck_vw_rdonly CHECK (read_only IN (0,1)))',)]"
            ]
          },
          "metadata": {
            "tags": []
          },
          "execution_count": 39
        }
      ]
    },
    {
      "cell_type": "markdown",
      "metadata": {
        "id": "DnHawEa-VUmM"
      },
      "source": [
        "* view_name\n",
        "* view_geometry\n",
        "* view_rowid\n",
        "* f_table_name\n",
        "* f_geometry_columns\n",
        "* read_only"
      ]
    },
    {
      "cell_type": "code",
      "metadata": {
        "colab": {
          "base_uri": "https://localhost:8080/"
        },
        "id": "id5jJzvhVof0",
        "outputId": "e836a78a-18a9-460d-92f0-5154a9b49de5"
      },
      "source": [
        "virts_geometry_columns"
      ],
      "execution_count": 40,
      "outputs": [
        {
          "output_type": "execute_result",
          "data": {
            "text/plain": [
              "('CREATE TABLE virts_geometry_columns (\\nvirt_name TEXT NOT NULL,\\nvirt_geometry TEXT NOT NULL,\\ngeometry_type INTEGER NOT NULL,\\ncoord_dimension INTEGER NOT NULL,\\nsrid INTEGER NOT NULL,\\nCONSTRAINT pk_geom_cols_virts PRIMARY KEY (virt_name, virt_geometry),\\nCONSTRAINT fk_vgc_srid FOREIGN KEY (srid) REFERENCES spatial_ref_sys (srid))',)"
            ]
          },
          "metadata": {
            "tags": []
          },
          "execution_count": 40
        }
      ]
    },
    {
      "cell_type": "markdown",
      "metadata": {
        "id": "YAIxbZyvVrMe"
      },
      "source": [
        "* virt_name\n",
        "* virt_geometry\n",
        "* geometry_type\n",
        "* coord_dimension\n",
        "* srid"
      ]
    },
    {
      "cell_type": "code",
      "metadata": {
        "colab": {
          "base_uri": "https://localhost:8080/"
        },
        "id": "6fDvKerwV4Wj",
        "outputId": "5c5943f4-eb40-46ab-cf28-8358aa4d24b6"
      },
      "source": [
        "geometry_columns_stats"
      ],
      "execution_count": 41,
      "outputs": [
        {
          "output_type": "execute_result",
          "data": {
            "text/plain": [
              "('CREATE TABLE geometry_columns_statistics (\\nf_table_name TEXT NOT NULL,\\nf_geometry_column TEXT NOT NULL,\\nlast_verified TIMESTAMP,\\nrow_count INTEGER,\\nextent_min_x DOUBLE,\\nextent_min_y DOUBLE,\\nextent_max_x DOUBLE,\\nextent_max_y DOUBLE,\\nCONSTRAINT pk_gc_statistics PRIMARY KEY (f_table_name, f_geometry_column),\\nCONSTRAINT fk_gc_statistics FOREIGN KEY (f_table_name, f_geometry_column) REFERENCES geometry_columns (f_table_name, f_geometry_column) ON DELETE CASCADE)',)"
            ]
          },
          "metadata": {
            "tags": []
          },
          "execution_count": 41
        }
      ]
    },
    {
      "cell_type": "markdown",
      "metadata": {
        "id": "9bPUbukYWOjV"
      },
      "source": [
        "* f_table_name\n",
        "* f_geometry_column\n",
        "* last_verified\n",
        "* row_count\n",
        "* extent_min_x\n",
        "* extent_min_y\n",
        "* extent_max_x \n",
        "* extent_max_y \n"
      ]
    },
    {
      "cell_type": "code",
      "metadata": {
        "colab": {
          "base_uri": "https://localhost:8080/"
        },
        "id": "eFgO1LFbWmnV",
        "outputId": "64f55c43-29df-42f8-88cb-2c20cd89f82a"
      },
      "source": [
        "views_geometry_columns_stats"
      ],
      "execution_count": 42,
      "outputs": [
        {
          "output_type": "execute_result",
          "data": {
            "text/plain": [
              "('CREATE TABLE views_geometry_columns_statistics (\\nview_name TEXT NOT NULL,\\nview_geometry TEXT NOT NULL,\\nlast_verified TIMESTAMP,\\nrow_count INTEGER,\\nextent_min_x DOUBLE,\\nextent_min_y DOUBLE,\\nextent_max_x DOUBLE,\\nextent_max_y DOUBLE,\\nCONSTRAINT pk_vwgc_statistics PRIMARY KEY (view_name, view_geometry),\\nCONSTRAINT fk_vwgc_statistics FOREIGN KEY (view_name, view_geometry) REFERENCES views_geometry_columns (view_name, view_geometry) ON DELETE CASCADE)',)"
            ]
          },
          "metadata": {
            "tags": []
          },
          "execution_count": 42
        }
      ]
    },
    {
      "cell_type": "markdown",
      "metadata": {
        "id": "ICdt1nMyWq4H"
      },
      "source": [
        "* view_name\n",
        "* view_geometry\n",
        "* last_verified\n",
        "* row_count\n",
        "* extent_min_x\n",
        "* extent_min_y\n",
        "* extent_max_x\n",
        "* extent_max_y"
      ]
    },
    {
      "cell_type": "code",
      "metadata": {
        "colab": {
          "base_uri": "https://localhost:8080/"
        },
        "id": "ta6q19bJXCKA",
        "outputId": "b3bcafab-127f-47fa-ae50-a5142b05ec22"
      },
      "source": [
        "virts_geometry_columns_stats"
      ],
      "execution_count": 43,
      "outputs": [
        {
          "output_type": "execute_result",
          "data": {
            "text/plain": [
              "('CREATE TABLE virts_geometry_columns_statistics (\\nvirt_name TEXT NOT NULL,\\nvirt_geometry TEXT NOT NULL,\\nlast_verified TIMESTAMP,\\nrow_count INTEGER,\\nextent_min_x DOUBLE,\\nextent_min_y DOUBLE,\\nextent_max_x DOUBLE,\\nextent_max_y DOUBLE,\\nCONSTRAINT pk_vrtgc_statistics PRIMARY KEY (virt_name, virt_geometry),\\nCONSTRAINT fk_vrtgc_statistics FOREIGN KEY (virt_name, virt_geometry) REFERENCES virts_geometry_columns (virt_name, virt_geometry) ON DELETE CASCADE)',)"
            ]
          },
          "metadata": {
            "tags": []
          },
          "execution_count": 43
        }
      ]
    },
    {
      "cell_type": "markdown",
      "metadata": {
        "id": "dn-o-mduXG04"
      },
      "source": [
        "* virt_name\n",
        "* virt_geometry\n",
        "* last_verified\n",
        "* row_count\n",
        "* extent_min_x\n",
        "* extent_min_y\n",
        "* extent_max_x\n",
        "* extent_max_y"
      ]
    },
    {
      "cell_type": "code",
      "metadata": {
        "colab": {
          "base_uri": "https://localhost:8080/"
        },
        "id": "sdKipERPXlh9",
        "outputId": "b0c5dcb5-0f72-427d-c9e0-cd8492411942"
      },
      "source": [
        "geometry_columns_field_infos"
      ],
      "execution_count": 44,
      "outputs": [
        {
          "output_type": "execute_result",
          "data": {
            "text/plain": [
              "('CREATE TABLE geometry_columns_field_infos (\\nf_table_name TEXT NOT NULL,\\nf_geometry_column TEXT NOT NULL,\\nordinal INTEGER NOT NULL,\\ncolumn_name TEXT NOT NULL,\\nnull_values INTEGER NOT NULL,\\ninteger_values INTEGER NOT NULL,\\ndouble_values INTEGER NOT NULL,\\ntext_values INTEGER NOT NULL,\\nblob_values INTEGER NOT NULL,\\nmax_size INTEGER,\\ninteger_min INTEGER,\\ninteger_max INTEGER,\\ndouble_min DOUBLE,\\ndouble_max DOUBLE,\\nCONSTRAINT pk_gcfld_infos PRIMARY KEY (f_table_name, f_geometry_column, ordinal, column_name),\\nCONSTRAINT fk_gcfld_infos FOREIGN KEY (f_table_name, f_geometry_column) REFERENCES geometry_columns (f_table_name, f_geometry_column) ON DELETE CASCADE)',)"
            ]
          },
          "metadata": {
            "tags": []
          },
          "execution_count": 44
        }
      ]
    },
    {
      "cell_type": "markdown",
      "metadata": {
        "id": "5EAl0b3oXpkp"
      },
      "source": [
        "* f_table_name\n",
        "* f_geometry_column\n",
        "* ordinal\n",
        "* column_name\n",
        "* null_values\n",
        "* integer_values\n",
        "* double_values\n",
        "* text_values\n",
        "* blob_values\n",
        "* max_size\n",
        "* integer_max\n",
        "* double_min\n",
        "* double_max"
      ]
    },
    {
      "cell_type": "code",
      "metadata": {
        "colab": {
          "base_uri": "https://localhost:8080/"
        },
        "id": "ce2TVo5SeyWy",
        "outputId": "e428aad8-1f21-4cc5-8a2d-622755b84192"
      },
      "source": [
        "virts_geometry_columns_field_infos"
      ],
      "execution_count": 45,
      "outputs": [
        {
          "output_type": "execute_result",
          "data": {
            "text/plain": [
              "('CREATE TABLE virts_geometry_columns_field_infos (\\nvirt_name TEXT NOT NULL,\\nvirt_geometry TEXT NOT NULL,\\nordinal INTEGER NOT NULL,\\ncolumn_name TEXT NOT NULL,\\nnull_values INTEGER NOT NULL,\\ninteger_values INTEGER NOT NULL,\\ndouble_values INTEGER NOT NULL,\\ntext_values INTEGER NOT NULL,\\nblob_values INTEGER NOT NULL,\\nmax_size INTEGER,\\ninteger_min INTEGER,\\ninteger_max INTEGER,\\ndouble_min DOUBLE,\\ndouble_max DOUBLE,\\nCONSTRAINT pk_vrtgcfld_infos PRIMARY KEY (virt_name, virt_geometry, ordinal, column_name),\\nCONSTRAINT fk_vrtgcfld_infos FOREIGN KEY (virt_name, virt_geometry) REFERENCES virts_geometry_columns (virt_name, virt_geometry) ON DELETE CASCADE)',)"
            ]
          },
          "metadata": {
            "tags": []
          },
          "execution_count": 45
        }
      ]
    },
    {
      "cell_type": "markdown",
      "metadata": {
        "id": "oIC-sXlVfbC5"
      },
      "source": [
        "* virt_name\n",
        "* virt_geometry\n",
        "* ordinal\n",
        "* column_name\n",
        "* null_values\n",
        "* integer_values\n",
        "* double_values\n",
        "* text_values\n",
        "* blob_values\n",
        "* max_size\n",
        "* integer_min\n",
        "* integer_max\n",
        "* double_min\n",
        "* double_max"
      ]
    },
    {
      "cell_type": "code",
      "metadata": {
        "colab": {
          "base_uri": "https://localhost:8080/"
        },
        "id": "XbA-60mVf0wS",
        "outputId": "4583af2b-5617-4cbe-ed00-cade9aee0090"
      },
      "source": [
        "geometry_columns_time"
      ],
      "execution_count": 46,
      "outputs": [
        {
          "output_type": "execute_result",
          "data": {
            "text/plain": [
              "(\"CREATE TABLE geometry_columns_time (\\nf_table_name TEXT NOT NULL,\\nf_geometry_column TEXT NOT NULL,\\nlast_insert TIMESTAMP NOT NULL DEFAULT '0000-01-01T00:00:00.000Z',\\nlast_update TIMESTAMP NOT NULL DEFAULT '0000-01-01T00:00:00.000Z',\\nlast_delete TIMESTAMP NOT NULL DEFAULT '0000-01-01T00:00:00.000Z',\\nCONSTRAINT pk_gc_time PRIMARY KEY (f_table_name, f_geometry_column),\\nCONSTRAINT fk_gc_time FOREIGN KEY (f_table_name, f_geometry_column) REFERENCES geometry_columns (f_table_name, f_geometry_column) ON DELETE CASCADE)\",)"
            ]
          },
          "metadata": {
            "tags": []
          },
          "execution_count": 46
        }
      ]
    },
    {
      "cell_type": "markdown",
      "metadata": {
        "id": "kIRSyFjaf5xA"
      },
      "source": [
        "* f_table_name\n",
        "* f_geometry_column\n",
        "* last_insert\n",
        "* last_update\n",
        "* last_delete"
      ]
    },
    {
      "cell_type": "code",
      "metadata": {
        "colab": {
          "base_uri": "https://localhost:8080/"
        },
        "id": "JRWNr6IegLN3",
        "outputId": "1fd53fe2-ff8f-4b03-85e1-aff4ae0e9192"
      },
      "source": [
        "geometry_columns_auth"
      ],
      "execution_count": 47,
      "outputs": [
        {
          "output_type": "execute_result",
          "data": {
            "text/plain": [
              "('CREATE TABLE geometry_columns_auth (\\nf_table_name TEXT NOT NULL,\\nf_geometry_column TEXT NOT NULL,\\nread_only INTEGER NOT NULL,\\nhidden INTEGER NOT NULL,\\nCONSTRAINT pk_gc_auth PRIMARY KEY (f_table_name, f_geometry_column),\\nCONSTRAINT fk_gc_auth FOREIGN KEY (f_table_name, f_geometry_column) REFERENCES geometry_columns (f_table_name, f_geometry_column) ON DELETE CASCADE,\\nCONSTRAINT ck_gc_ronly CHECK (read_only IN (0,1)),\\nCONSTRAINT ck_gc_hidden CHECK (hidden IN (0,1)))',)"
            ]
          },
          "metadata": {
            "tags": []
          },
          "execution_count": 47
        }
      ]
    },
    {
      "cell_type": "markdown",
      "metadata": {
        "id": "Qi3FR_mCgP3X"
      },
      "source": [
        "* f_table_name\n",
        "* f_geometry_column\n",
        "* read_only\n",
        "* hidden\n"
      ]
    },
    {
      "cell_type": "code",
      "metadata": {
        "id": "yOo9xPucgWey",
        "colab": {
          "base_uri": "https://localhost:8080/"
        },
        "outputId": "eeefc8b8-8891-4197-81c7-f794dc5f6cf3"
      },
      "source": [
        "views_geometry_columns_auth"
      ],
      "execution_count": 48,
      "outputs": [
        {
          "output_type": "execute_result",
          "data": {
            "text/plain": [
              "('CREATE TABLE views_geometry_columns_auth (\\nview_name TEXT NOT NULL,\\nview_geometry TEXT NOT NULL,\\nhidden INTEGER NOT NULL,\\nCONSTRAINT pk_vwgc_auth PRIMARY KEY (view_name, view_geometry),\\nCONSTRAINT fk_vwgc_auth FOREIGN KEY (view_name, view_geometry) REFERENCES views_geometry_columns (view_name, view_geometry) ON DELETE CASCADE,\\nCONSTRAINT ck_vwgc_hidden CHECK (hidden IN (0,1)))',)"
            ]
          },
          "metadata": {
            "tags": []
          },
          "execution_count": 48
        }
      ]
    },
    {
      "cell_type": "markdown",
      "metadata": {
        "id": "Gyl-GTBwiiaR"
      },
      "source": [
        "* view_name\n",
        "* view_geometry\n",
        "* hidden"
      ]
    },
    {
      "cell_type": "code",
      "metadata": {
        "colab": {
          "base_uri": "https://localhost:8080/"
        },
        "id": "vpvMbKzdhWXe",
        "outputId": "efa2f5db-7b13-4472-d935-8ee0a609a976"
      },
      "source": [
        "virts_geometry_columns_auth"
      ],
      "execution_count": 49,
      "outputs": [
        {
          "output_type": "execute_result",
          "data": {
            "text/plain": [
              "('CREATE TABLE virts_geometry_columns_auth (\\nvirt_name TEXT NOT NULL,\\nvirt_geometry TEXT NOT NULL,\\nhidden INTEGER NOT NULL,\\nCONSTRAINT pk_vrtgc_auth PRIMARY KEY (virt_name, virt_geometry),\\nCONSTRAINT fk_vrtgc_auth FOREIGN KEY (virt_name, virt_geometry) REFERENCES virts_geometry_columns (virt_name, virt_geometry) ON DELETE CASCADE,\\nCONSTRAINT ck_vrtgc_hidden CHECK (hidden IN (0,1)))',)"
            ]
          },
          "metadata": {
            "tags": []
          },
          "execution_count": 49
        }
      ]
    },
    {
      "cell_type": "markdown",
      "metadata": {
        "id": "ICe9HaPXhbbI"
      },
      "source": [
        "* virt_name\n",
        "* virt_geometry\n",
        "* hidden"
      ]
    },
    {
      "cell_type": "code",
      "metadata": {
        "colab": {
          "base_uri": "https://localhost:8080/"
        },
        "id": "_nu6YEDfhh3E",
        "outputId": "b3a58df3-9992-4323-daec-a911b0c4d706"
      },
      "source": [
        "sql_statements_log"
      ],
      "execution_count": 50,
      "outputs": [
        {
          "output_type": "execute_result",
          "data": {
            "text/plain": [
              "(\"CREATE TABLE sql_statements_log (\\nid INTEGER PRIMARY KEY AUTOINCREMENT,\\ntime_start TIMESTAMP NOT NULL DEFAULT '0000-01-01T00:00:00.000Z',\\ntime_end TIMESTAMP NOT NULL DEFAULT '0000-01-01T00:00:00.000Z',\\nuser_agent TEXT NOT NULL,\\nsql_statement TEXT NOT NULL,\\nsuccess INTEGER NOT NULL DEFAULT 0,\\nerror_cause TEXT NOT NULL DEFAULT 'ABORTED',\\nCONSTRAINT sqllog_success CHECK (success IN (0,1)))\",)"
            ]
          },
          "metadata": {
            "tags": []
          },
          "execution_count": 50
        }
      ]
    },
    {
      "cell_type": "markdown",
      "metadata": {
        "id": "ft-R8V16hkU5"
      },
      "source": [
        "* id\n",
        "* time_start\n",
        "* time_end\n",
        "* user_agent\n",
        "* sql_statement\n",
        "* success\n",
        "* error_cause"
      ]
    },
    {
      "cell_type": "code",
      "metadata": {
        "colab": {
          "base_uri": "https://localhost:8080/"
        },
        "id": "NccX0jXXh5tC",
        "outputId": "3f3be09c-e1af-436a-eb5b-33997295064a"
      },
      "source": [
        "spatial_index"
      ],
      "execution_count": 51,
      "outputs": [
        {
          "output_type": "execute_result",
          "data": {
            "text/plain": [
              "('CREATE VIRTUAL TABLE SpatialIndex USING VirtualSpatialIndex()',)"
            ]
          },
          "metadata": {
            "tags": []
          },
          "execution_count": 51
        }
      ]
    },
    {
      "cell_type": "code",
      "metadata": {
        "colab": {
          "base_uri": "https://localhost:8080/"
        },
        "id": "JuGMHj7diAKY",
        "outputId": "80bd468e-44f2-468e-f605-b17ed0523cff"
      },
      "source": [
        "elementary_geometries"
      ],
      "execution_count": 52,
      "outputs": [
        {
          "output_type": "execute_result",
          "data": {
            "text/plain": [
              "('CREATE VIRTUAL TABLE ElementaryGeometries USING VirtualElementary()',)"
            ]
          },
          "metadata": {
            "tags": []
          },
          "execution_count": 52
        }
      ]
    },
    {
      "cell_type": "code",
      "metadata": {
        "colab": {
          "base_uri": "https://localhost:8080/"
        },
        "id": "1ejVI4djiFUa",
        "outputId": "0b0370ee-1f78-48cc-cc27-305b7c4c1a42"
      },
      "source": [
        "knn"
      ],
      "execution_count": 53,
      "outputs": [
        {
          "output_type": "execute_result",
          "data": {
            "text/plain": [
              "('CREATE VIRTUAL TABLE KNN USING VirtualKNN()',)"
            ]
          },
          "metadata": {
            "tags": []
          },
          "execution_count": 53
        }
      ]
    },
    {
      "cell_type": "markdown",
      "metadata": {
        "id": "UsG3z10rkOWC"
      },
      "source": [
        "Virtual Tables (aka Views) are basically a combo of pieces of other table.  \n",
        "I will need to determine if I actually need to use these."
      ]
    },
    {
      "cell_type": "code",
      "metadata": {
        "colab": {
          "base_uri": "https://localhost:8080/"
        },
        "id": "SdXiTmm0iG0f",
        "outputId": "e13ecb66-85aa-4669-e4d4-b2a8f656394f"
      },
      "source": [
        "fires"
      ],
      "execution_count": 54,
      "outputs": [
        {
          "output_type": "execute_result",
          "data": {
            "text/plain": [
              "(\"CREATE TABLE Fires (OBJECTID integer primary key autoincrement not null, FOD_ID int32 check((typeof(FOD_ID) = 'integer' or typeof(FOD_ID) = 'null') and FOD_ID >= -2147483648 and FOD_ID <= 2147483647), FPA_ID text(100) check((typeof(FPA_ID) = 'text' or typeof(FPA_ID) = 'null') and not length(FPA_ID) > 100), SOURCE_SYSTEM_TYPE text(255) check((typeof(SOURCE_SYSTEM_TYPE) = 'text' or typeof(SOURCE_SYSTEM_TYPE) = 'null') and not length(SOURCE_SYSTEM_TYPE) > 255), SOURCE_SYSTEM text(30) check((typeof(SOURCE_SYSTEM) = 'text' or typeof(SOURCE_SYSTEM) = 'null') and not length(SOURCE_SYSTEM) > 30), NWCG_REPORTING_AGENCY text(255) check((typeof(NWCG_REPORTING_AGENCY) = 'text' or typeof(NWCG_REPORTING_AGENCY) = 'null') and not length(NWCG_REPORTING_AGENCY) > 255), NWCG_REPORTING_UNIT_ID text(255) check((typeof(NWCG_REPORTING_UNIT_ID) = 'text' or typeof(NWCG_REPORTING_UNIT_ID) = 'null') and not length(NWCG_REPORTING_UNIT_ID) > 255), NWCG_REPORTING_UNIT_NAME text(255) check((typeof(NWCG_REPORTING_UNIT_NAME) = 'text' or typeof(NWCG_REPORTING_UNIT_NAME) = 'null') and not length(NWCG_REPORTING_UNIT_NAME) > 255), SOURCE_REPORTING_UNIT text(30) check((typeof(SOURCE_REPORTING_UNIT) = 'text' or typeof(SOURCE_REPORTING_UNIT) = 'null') and not length(SOURCE_REPORTING_UNIT) > 30), SOURCE_REPORTING_UNIT_NAME text(255) check((typeof(SOURCE_REPORTING_UNIT_NAME) = 'text' or typeof(SOURCE_REPORTING_UNIT_NAME) = 'null') and not length(SOURCE_REPORTING_UNIT_NAME) > 255), LOCAL_FIRE_REPORT_ID text(255) check((typeof(LOCAL_FIRE_REPORT_ID) = 'text' or typeof(LOCAL_FIRE_REPORT_ID) = 'null') and not length(LOCAL_FIRE_REPORT_ID) > 255), LOCAL_INCIDENT_ID text(255) check((typeof(LOCAL_INCIDENT_ID) = 'text' or typeof(LOCAL_INCIDENT_ID) = 'null') and not length(LOCAL_INCIDENT_ID) > 255), FIRE_CODE text(10) check((typeof(FIRE_CODE) = 'text' or typeof(FIRE_CODE) = 'null') and not length(FIRE_CODE) > 10), FIRE_NAME text(255) check((typeof(FIRE_NAME) = 'text' or typeof(FIRE_NAME) = 'null') and not length(FIRE_NAME) > 255), ICS_209_INCIDENT_NUMBER text(255) check((typeof(ICS_209_INCIDENT_NUMBER) = 'text' or typeof(ICS_209_INCIDENT_NUMBER) = 'null') and not length(ICS_209_INCIDENT_NUMBER) > 255), ICS_209_NAME text(255) check((typeof(ICS_209_NAME) = 'text' or typeof(ICS_209_NAME) = 'null') and not length(ICS_209_NAME) > 255), MTBS_ID text(255) check((typeof(MTBS_ID) = 'text' or typeof(MTBS_ID) = 'null') and not length(MTBS_ID) > 255), MTBS_FIRE_NAME text(50) check((typeof(MTBS_FIRE_NAME) = 'text' or typeof(MTBS_FIRE_NAME) = 'null') and not length(MTBS_FIRE_NAME) > 50), COMPLEX_NAME text(255) check((typeof(COMPLEX_NAME) = 'text' or typeof(COMPLEX_NAME) = 'null') and not length(COMPLEX_NAME) > 255), FIRE_YEAR int16 check((typeof(FIRE_YEAR) = 'integer' or typeof(FIRE_YEAR) = 'null') and FIRE_YEAR >= -32768 and FIRE_YEAR <= 32767), DISCOVERY_DATE realdate check((typeof(DISCOVERY_DATE) = 'real' or typeof(DISCOVERY_DATE) = 'null') and DISCOVERY_DATE >= 0.0), DISCOVERY_DOY int32 check((typeof(DISCOVERY_DOY) = 'integer' or typeof(DISCOVERY_DOY) = 'null') and DISCOVERY_DOY >= -2147483648 and DISCOVERY_DOY <= 2147483647), DISCOVERY_TIME text(4) check((typeof(DISCOVERY_TIME) = 'text' or typeof(DISCOVERY_TIME) = 'null') and not length(DISCOVERY_TIME) > 4), STAT_CAUSE_CODE float64 check(typeof(STAT_CAUSE_CODE) = 'real' or typeof(STAT_CAUSE_CODE) = 'null'), STAT_CAUSE_DESCR text(100) check((typeof(STAT_CAUSE_DESCR) = 'text' or typeof(STAT_CAUSE_DESCR) = 'null') and not length(STAT_CAUSE_DESCR) > 100), CONT_DATE realdate check((typeof(CONT_DATE) = 'real' or typeof(CONT_DATE) = 'null') and CONT_DATE >= 0.0), CONT_DOY int32 check((typeof(CONT_DOY) = 'integer' or typeof(CONT_DOY) = 'null') and CONT_DOY >= -2147483648 and CONT_DOY <= 2147483647), CONT_TIME text(4) check((typeof(CONT_TIME) = 'text' or typeof(CONT_TIME) = 'null') and not length(CONT_TIME) > 4), FIRE_SIZE float64 check(typeof(FIRE_SIZE) = 'real' or typeof(FIRE_SIZE) = 'null'), FIRE_SIZE_CLASS text(1) check((typeof(FIRE_SIZE_CLASS) = 'text' or typeof(FIRE_SIZE_CLASS) = 'null') and not length(FIRE_SIZE_CLASS) > 1), LATITUDE float64 check(typeof(LATITUDE) = 'real' or typeof(LATITUDE) = 'null'), LONGITUDE float64 check(typeof(LONGITUDE) = 'real' or typeof(LONGITUDE) = 'null'), OWNER_CODE float64 check(typeof(OWNER_CODE) = 'real' or typeof(OWNER_CODE) = 'null'), OWNER_DESCR text(100) check((typeof(OWNER_DESCR) = 'text' or typeof(OWNER_DESCR) = 'null') and not length(OWNER_DESCR) > 100), STATE text(255) check((typeof(STATE) = 'text' or typeof(STATE) = 'null') and not length(STATE) > 255), COUNTY text(255) check((typeof(COUNTY) = 'text' or typeof(COUNTY) = 'null') and not length(COUNTY) > 255), FIPS_CODE text(255) check((typeof(FIPS_CODE) = 'text' or typeof(FIPS_CODE) = 'null') and not length(FIPS_CODE) > 255), FIPS_NAME text(255) check((typeof(FIPS_NAME) = 'text' or typeof(FIPS_NAME) = 'null') and not length(FIPS_NAME) > 255), Shape POINT not null)\",)"
            ]
          },
          "metadata": {
            "tags": []
          },
          "execution_count": 54
        }
      ]
    },
    {
      "cell_type": "code",
      "metadata": {
        "colab": {
          "base_uri": "https://localhost:8080/"
        },
        "id": "nRe0pO7OiQia",
        "outputId": "49783c8b-9f05-458e-87b9-61da21e7d4e3"
      },
      "source": [
        "idx_fires_shape"
      ],
      "execution_count": 55,
      "outputs": [
        {
          "output_type": "execute_result",
          "data": {
            "text/plain": [
              "('CREATE VIRTUAL TABLE \"idx_Fires_Shape\" USING rtree(pkid, xmin, xmax, ymin, ymax)',)"
            ]
          },
          "metadata": {
            "tags": []
          },
          "execution_count": 55
        }
      ]
    },
    {
      "cell_type": "code",
      "metadata": {
        "colab": {
          "base_uri": "https://localhost:8080/"
        },
        "id": "I3K7JOS3iST1",
        "outputId": "979643fd-c1a7-45e5-e81c-df7c65ac242e"
      },
      "source": [
        "idx_fires_shape_node"
      ],
      "execution_count": 56,
      "outputs": [
        {
          "output_type": "execute_result",
          "data": {
            "text/plain": [
              "('CREATE TABLE \"idx_Fires_Shape_node\"(nodeno INTEGER PRIMARY KEY, data BLOB)',)"
            ]
          },
          "metadata": {
            "tags": []
          },
          "execution_count": 56
        }
      ]
    },
    {
      "cell_type": "code",
      "metadata": {
        "colab": {
          "base_uri": "https://localhost:8080/"
        },
        "id": "w77Aeq_2iVMb",
        "outputId": "a0ab8acf-7999-4846-c4c0-77667be89d5c"
      },
      "source": [
        "idx_fires_shape_rowid"
      ],
      "execution_count": 57,
      "outputs": [
        {
          "output_type": "execute_result",
          "data": {
            "text/plain": [
              "('CREATE TABLE \"idx_Fires_Shape_rowid\"(rowid INTEGER PRIMARY KEY, nodeno INTEGER)',)"
            ]
          },
          "metadata": {
            "tags": []
          },
          "execution_count": 57
        }
      ]
    },
    {
      "cell_type": "code",
      "metadata": {
        "colab": {
          "base_uri": "https://localhost:8080/"
        },
        "id": "sqaywwQ8iXuW",
        "outputId": "61e0c6a1-4781-422c-fa35-3bcf5da348cb"
      },
      "source": [
        "idx_fires_shape_parent"
      ],
      "execution_count": 58,
      "outputs": [
        {
          "output_type": "execute_result",
          "data": {
            "text/plain": [
              "('CREATE TABLE \"idx_Fires_Shape_parent\"(nodeno INTEGER PRIMARY KEY, parentnode INTEGER)',)"
            ]
          },
          "metadata": {
            "tags": []
          },
          "execution_count": 58
        }
      ]
    },
    {
      "cell_type": "code",
      "metadata": {
        "id": "arTPCaIUj7Db"
      },
      "source": [
        "#fires_shape tables have items in them but no column names\n",
        "#I will need to research what that table is. "
      ],
      "execution_count": 59,
      "outputs": []
    },
    {
      "cell_type": "markdown",
      "metadata": {
        "id": "gkSaKctTN51V"
      },
      "source": [
        "# Pandas DataFrames\n",
        "In the interest of exploration, I am goiong to throw these into Pandas DataFrames in order to get a better idea of what my data looks like "
      ]
    },
    {
      "cell_type": "code",
      "metadata": {
        "colab": {
          "base_uri": "https://localhost:8080/",
          "height": 204
        },
        "id": "SzdtfNlol7JW",
        "outputId": "377e9b17-ec78-4b79-d042-5899c0347b7c"
      },
      "source": [
        "c.execute(\"\"\"SELECT * \n",
        "               FROM spatial_ref_sys;\"\"\")\n",
        "spatial_ref_sys_df = pd.DataFrame(c.fetchall())\n",
        "spatial_ref_sys_df.columns = [x[0] for x in c.description]\n",
        "spatial_ref_sys_df.head()"
      ],
      "execution_count": 60,
      "outputs": [
        {
          "output_type": "execute_result",
          "data": {
            "text/html": [
              "<div>\n",
              "<style scoped>\n",
              "    .dataframe tbody tr th:only-of-type {\n",
              "        vertical-align: middle;\n",
              "    }\n",
              "\n",
              "    .dataframe tbody tr th {\n",
              "        vertical-align: top;\n",
              "    }\n",
              "\n",
              "    .dataframe thead th {\n",
              "        text-align: right;\n",
              "    }\n",
              "</style>\n",
              "<table border=\"1\" class=\"dataframe\">\n",
              "  <thead>\n",
              "    <tr style=\"text-align: right;\">\n",
              "      <th></th>\n",
              "      <th>srid</th>\n",
              "      <th>auth_name</th>\n",
              "      <th>auth_srid</th>\n",
              "      <th>ref_sys_name</th>\n",
              "      <th>proj4text</th>\n",
              "      <th>srtext</th>\n",
              "    </tr>\n",
              "  </thead>\n",
              "  <tbody>\n",
              "    <tr>\n",
              "      <th>0</th>\n",
              "      <td>-1</td>\n",
              "      <td>NONE</td>\n",
              "      <td>-1</td>\n",
              "      <td>Undefined - Cartesian</td>\n",
              "      <td></td>\n",
              "      <td>Undefined</td>\n",
              "    </tr>\n",
              "    <tr>\n",
              "      <th>1</th>\n",
              "      <td>0</td>\n",
              "      <td>NONE</td>\n",
              "      <td>0</td>\n",
              "      <td>Undefined - Geographic Long/Lat</td>\n",
              "      <td></td>\n",
              "      <td>Undefined</td>\n",
              "    </tr>\n",
              "    <tr>\n",
              "      <th>2</th>\n",
              "      <td>2000</td>\n",
              "      <td>epsg</td>\n",
              "      <td>2000</td>\n",
              "      <td>Anguilla 1957 / British West Indies Grid</td>\n",
              "      <td>+proj=tmerc +lat_0=0 +lon_0=-62 +k=0.999500000...</td>\n",
              "      <td>PROJCS[\"Anguilla 1957 / British West Indies Gr...</td>\n",
              "    </tr>\n",
              "    <tr>\n",
              "      <th>3</th>\n",
              "      <td>2001</td>\n",
              "      <td>epsg</td>\n",
              "      <td>2001</td>\n",
              "      <td>Antigua 1943 / British West Indies Grid</td>\n",
              "      <td>+proj=tmerc +lat_0=0 +lon_0=-62 +k=0.999500000...</td>\n",
              "      <td>PROJCS[\"Antigua 1943 / British West Indies Gri...</td>\n",
              "    </tr>\n",
              "    <tr>\n",
              "      <th>4</th>\n",
              "      <td>2002</td>\n",
              "      <td>epsg</td>\n",
              "      <td>2002</td>\n",
              "      <td>Dominica 1945 / British West Indies Grid</td>\n",
              "      <td>+proj=tmerc +lat_0=0 +lon_0=-62 +k=0.999500000...</td>\n",
              "      <td>PROJCS[\"Dominica 1945 / British West Indies Gr...</td>\n",
              "    </tr>\n",
              "  </tbody>\n",
              "</table>\n",
              "</div>"
            ],
            "text/plain": [
              "   srid  ...                                             srtext\n",
              "0    -1  ...                                          Undefined\n",
              "1     0  ...                                          Undefined\n",
              "2  2000  ...  PROJCS[\"Anguilla 1957 / British West Indies Gr...\n",
              "3  2001  ...  PROJCS[\"Antigua 1943 / British West Indies Gri...\n",
              "4  2002  ...  PROJCS[\"Dominica 1945 / British West Indies Gr...\n",
              "\n",
              "[5 rows x 6 columns]"
            ]
          },
          "metadata": {
            "tags": []
          },
          "execution_count": 60
        }
      ]
    },
    {
      "cell_type": "code",
      "metadata": {
        "id": "-5FRqWN_PqbP",
        "colab": {
          "base_uri": "https://localhost:8080/",
          "height": 204
        },
        "outputId": "00a8d998-494e-4393-ce7c-881b23cd96c6"
      },
      "source": [
        "c.execute(\"\"\"SELECT * \n",
        "               FROM spatialite_history;\"\"\")\n",
        "spatialite_history_df = pd.DataFrame(c.fetchall())\n",
        "spatialite_history_df.columns = [x[0] for x in c.description]\n",
        "spatialite_history_df.head()"
      ],
      "execution_count": 61,
      "outputs": [
        {
          "output_type": "execute_result",
          "data": {
            "text/html": [
              "<div>\n",
              "<style scoped>\n",
              "    .dataframe tbody tr th:only-of-type {\n",
              "        vertical-align: middle;\n",
              "    }\n",
              "\n",
              "    .dataframe tbody tr th {\n",
              "        vertical-align: top;\n",
              "    }\n",
              "\n",
              "    .dataframe thead th {\n",
              "        text-align: right;\n",
              "    }\n",
              "</style>\n",
              "<table border=\"1\" class=\"dataframe\">\n",
              "  <thead>\n",
              "    <tr style=\"text-align: right;\">\n",
              "      <th></th>\n",
              "      <th>event_id</th>\n",
              "      <th>table_name</th>\n",
              "      <th>geometry_column</th>\n",
              "      <th>event</th>\n",
              "      <th>timestamp</th>\n",
              "      <th>ver_sqlite</th>\n",
              "      <th>ver_splite</th>\n",
              "    </tr>\n",
              "  </thead>\n",
              "  <tbody>\n",
              "    <tr>\n",
              "      <th>0</th>\n",
              "      <td>1</td>\n",
              "      <td>spatial_ref_sys</td>\n",
              "      <td>None</td>\n",
              "      <td>table successfully created</td>\n",
              "      <td>2017-05-17T22:00:26.772Z</td>\n",
              "      <td>3.9.2</td>\n",
              "      <td>4.4.0-RC0</td>\n",
              "    </tr>\n",
              "    <tr>\n",
              "      <th>1</th>\n",
              "      <td>2</td>\n",
              "      <td>geometry_columns</td>\n",
              "      <td>None</td>\n",
              "      <td>table successfully created</td>\n",
              "      <td>2017-05-17T22:00:26.796Z</td>\n",
              "      <td>3.9.2</td>\n",
              "      <td>4.4.0-RC0</td>\n",
              "    </tr>\n",
              "    <tr>\n",
              "      <th>2</th>\n",
              "      <td>3</td>\n",
              "      <td>geometry_columns</td>\n",
              "      <td>None</td>\n",
              "      <td>trigger 'geometry_columns_f_table_name_insert'...</td>\n",
              "      <td>2017-05-17T22:00:26.796Z</td>\n",
              "      <td>3.9.2</td>\n",
              "      <td>4.4.0-RC0</td>\n",
              "    </tr>\n",
              "    <tr>\n",
              "      <th>3</th>\n",
              "      <td>4</td>\n",
              "      <td>geometry_columns</td>\n",
              "      <td>None</td>\n",
              "      <td>trigger 'geometry_columns_f_table_name_update'...</td>\n",
              "      <td>2017-05-17T22:00:26.796Z</td>\n",
              "      <td>3.9.2</td>\n",
              "      <td>4.4.0-RC0</td>\n",
              "    </tr>\n",
              "    <tr>\n",
              "      <th>4</th>\n",
              "      <td>5</td>\n",
              "      <td>geometry_columns</td>\n",
              "      <td>None</td>\n",
              "      <td>trigger 'geometry_columns_f_geometry_column_in...</td>\n",
              "      <td>2017-05-17T22:00:26.797Z</td>\n",
              "      <td>3.9.2</td>\n",
              "      <td>4.4.0-RC0</td>\n",
              "    </tr>\n",
              "  </tbody>\n",
              "</table>\n",
              "</div>"
            ],
            "text/plain": [
              "   event_id        table_name  ... ver_sqlite ver_splite\n",
              "0         1   spatial_ref_sys  ...      3.9.2  4.4.0-RC0\n",
              "1         2  geometry_columns  ...      3.9.2  4.4.0-RC0\n",
              "2         3  geometry_columns  ...      3.9.2  4.4.0-RC0\n",
              "3         4  geometry_columns  ...      3.9.2  4.4.0-RC0\n",
              "4         5  geometry_columns  ...      3.9.2  4.4.0-RC0\n",
              "\n",
              "[5 rows x 7 columns]"
            ]
          },
          "metadata": {
            "tags": []
          },
          "execution_count": 61
        }
      ]
    },
    {
      "cell_type": "code",
      "metadata": {
        "colab": {
          "base_uri": "https://localhost:8080/",
          "height": 142
        },
        "id": "DGjk8V52WyNs",
        "outputId": "a89efe7f-e143-41be-b83b-0bbfd8b1a9a3"
      },
      "source": [
        "c.execute(\"\"\"SELECT * \n",
        "               FROM sqlite_sequence;\"\"\")\n",
        "sqlite_sequence_df = pd.DataFrame(c.fetchall())\n",
        "sqlite_sequence_df.columns = [x[0] for x in c.description]\n",
        "sqlite_sequence_df.head()\n",
        "#troubleshoot"
      ],
      "execution_count": 62,
      "outputs": [
        {
          "output_type": "execute_result",
          "data": {
            "text/html": [
              "<div>\n",
              "<style scoped>\n",
              "    .dataframe tbody tr th:only-of-type {\n",
              "        vertical-align: middle;\n",
              "    }\n",
              "\n",
              "    .dataframe tbody tr th {\n",
              "        vertical-align: top;\n",
              "    }\n",
              "\n",
              "    .dataframe thead th {\n",
              "        text-align: right;\n",
              "    }\n",
              "</style>\n",
              "<table border=\"1\" class=\"dataframe\">\n",
              "  <thead>\n",
              "    <tr style=\"text-align: right;\">\n",
              "      <th></th>\n",
              "      <th>name</th>\n",
              "      <th>seq</th>\n",
              "    </tr>\n",
              "  </thead>\n",
              "  <tbody>\n",
              "    <tr>\n",
              "      <th>0</th>\n",
              "      <td>spatialite_history</td>\n",
              "      <td>16</td>\n",
              "    </tr>\n",
              "    <tr>\n",
              "      <th>1</th>\n",
              "      <td>Fires</td>\n",
              "      <td>1880465</td>\n",
              "    </tr>\n",
              "    <tr>\n",
              "      <th>2</th>\n",
              "      <td>NWCG_UnitIDActive_20170109</td>\n",
              "      <td>5867</td>\n",
              "    </tr>\n",
              "  </tbody>\n",
              "</table>\n",
              "</div>"
            ],
            "text/plain": [
              "                         name      seq\n",
              "0          spatialite_history       16\n",
              "1                       Fires  1880465\n",
              "2  NWCG_UnitIDActive_20170109     5867"
            ]
          },
          "metadata": {
            "tags": []
          },
          "execution_count": 62
        }
      ]
    },
    {
      "cell_type": "code",
      "metadata": {
        "colab": {
          "base_uri": "https://localhost:8080/",
          "height": 80
        },
        "id": "CSpThnBeXBv0",
        "outputId": "3602a081-3439-415c-95a8-e5c3aa2cd566"
      },
      "source": [
        "c.execute(\"\"\"SELECT * \n",
        "               FROM geometry_columns;\"\"\")\n",
        "geometry_columns_df = pd.DataFrame(c.fetchall())\n",
        "geometry_columns_df.columns = [x[0] for x in c.description]\n",
        "geometry_columns_df.head()\n",
        "#troubleshoot"
      ],
      "execution_count": 63,
      "outputs": [
        {
          "output_type": "execute_result",
          "data": {
            "text/html": [
              "<div>\n",
              "<style scoped>\n",
              "    .dataframe tbody tr th:only-of-type {\n",
              "        vertical-align: middle;\n",
              "    }\n",
              "\n",
              "    .dataframe tbody tr th {\n",
              "        vertical-align: top;\n",
              "    }\n",
              "\n",
              "    .dataframe thead th {\n",
              "        text-align: right;\n",
              "    }\n",
              "</style>\n",
              "<table border=\"1\" class=\"dataframe\">\n",
              "  <thead>\n",
              "    <tr style=\"text-align: right;\">\n",
              "      <th></th>\n",
              "      <th>f_table_name</th>\n",
              "      <th>f_geometry_column</th>\n",
              "      <th>geometry_type</th>\n",
              "      <th>coord_dimension</th>\n",
              "      <th>srid</th>\n",
              "      <th>spatial_index_enabled</th>\n",
              "    </tr>\n",
              "  </thead>\n",
              "  <tbody>\n",
              "    <tr>\n",
              "      <th>0</th>\n",
              "      <td>fires</td>\n",
              "      <td>shape</td>\n",
              "      <td>1</td>\n",
              "      <td>2</td>\n",
              "      <td>4269</td>\n",
              "      <td>1</td>\n",
              "    </tr>\n",
              "  </tbody>\n",
              "</table>\n",
              "</div>"
            ],
            "text/plain": [
              "  f_table_name f_geometry_column  ...  srid  spatial_index_enabled\n",
              "0        fires             shape  ...  4269                      1\n",
              "\n",
              "[1 rows x 6 columns]"
            ]
          },
          "metadata": {
            "tags": []
          },
          "execution_count": 63
        }
      ]
    },
    {
      "cell_type": "code",
      "metadata": {
        "colab": {
          "base_uri": "https://localhost:8080/",
          "height": 204
        },
        "id": "ECnKGafoXdNP",
        "outputId": "9575336c-28b6-4b4d-cd00-c6abc2f0c416"
      },
      "source": [
        "c.execute(\"\"\"SELECT * \n",
        "               FROM spatial_ref_sys_aux;\"\"\")\n",
        "spatial_ref_sys_aux_df = pd.DataFrame(c.fetchall())\n",
        "spatial_ref_sys_aux_df.columns = [x[0] for x in c.description]\n",
        "spatial_ref_sys_aux_df.head()"
      ],
      "execution_count": 64,
      "outputs": [
        {
          "output_type": "execute_result",
          "data": {
            "text/html": [
              "<div>\n",
              "<style scoped>\n",
              "    .dataframe tbody tr th:only-of-type {\n",
              "        vertical-align: middle;\n",
              "    }\n",
              "\n",
              "    .dataframe tbody tr th {\n",
              "        vertical-align: top;\n",
              "    }\n",
              "\n",
              "    .dataframe thead th {\n",
              "        text-align: right;\n",
              "    }\n",
              "</style>\n",
              "<table border=\"1\" class=\"dataframe\">\n",
              "  <thead>\n",
              "    <tr style=\"text-align: right;\">\n",
              "      <th></th>\n",
              "      <th>srid</th>\n",
              "      <th>is_geographic</th>\n",
              "      <th>has_flipped_axes</th>\n",
              "      <th>spheroid</th>\n",
              "      <th>prime_meridian</th>\n",
              "      <th>datum</th>\n",
              "      <th>projection</th>\n",
              "      <th>unit</th>\n",
              "      <th>axis_1_name</th>\n",
              "      <th>axis_1_orientation</th>\n",
              "      <th>axis_2_name</th>\n",
              "      <th>axis_2_orientation</th>\n",
              "    </tr>\n",
              "  </thead>\n",
              "  <tbody>\n",
              "    <tr>\n",
              "      <th>0</th>\n",
              "      <td>2000</td>\n",
              "      <td>0</td>\n",
              "      <td>0</td>\n",
              "      <td>Clarke 1880 (RGS)</td>\n",
              "      <td>Greenwich</td>\n",
              "      <td>Anguilla_1957</td>\n",
              "      <td>Transverse_Mercator</td>\n",
              "      <td>metre</td>\n",
              "      <td>Easting</td>\n",
              "      <td>East</td>\n",
              "      <td>Northing</td>\n",
              "      <td>North</td>\n",
              "    </tr>\n",
              "    <tr>\n",
              "      <th>1</th>\n",
              "      <td>2001</td>\n",
              "      <td>0</td>\n",
              "      <td>0</td>\n",
              "      <td>Clarke 1880 (RGS)</td>\n",
              "      <td>Greenwich</td>\n",
              "      <td>Antigua_1943</td>\n",
              "      <td>Transverse_Mercator</td>\n",
              "      <td>metre</td>\n",
              "      <td>Easting</td>\n",
              "      <td>East</td>\n",
              "      <td>Northing</td>\n",
              "      <td>North</td>\n",
              "    </tr>\n",
              "    <tr>\n",
              "      <th>2</th>\n",
              "      <td>2002</td>\n",
              "      <td>0</td>\n",
              "      <td>0</td>\n",
              "      <td>Clarke 1880 (RGS)</td>\n",
              "      <td>Greenwich</td>\n",
              "      <td>Dominica_1945</td>\n",
              "      <td>Transverse_Mercator</td>\n",
              "      <td>metre</td>\n",
              "      <td>Easting</td>\n",
              "      <td>East</td>\n",
              "      <td>Northing</td>\n",
              "      <td>North</td>\n",
              "    </tr>\n",
              "    <tr>\n",
              "      <th>3</th>\n",
              "      <td>2003</td>\n",
              "      <td>0</td>\n",
              "      <td>0</td>\n",
              "      <td>Clarke 1880 (RGS)</td>\n",
              "      <td>Greenwich</td>\n",
              "      <td>Grenada_1953</td>\n",
              "      <td>Transverse_Mercator</td>\n",
              "      <td>metre</td>\n",
              "      <td>Easting</td>\n",
              "      <td>East</td>\n",
              "      <td>Northing</td>\n",
              "      <td>North</td>\n",
              "    </tr>\n",
              "    <tr>\n",
              "      <th>4</th>\n",
              "      <td>2004</td>\n",
              "      <td>0</td>\n",
              "      <td>0</td>\n",
              "      <td>Clarke 1880 (RGS)</td>\n",
              "      <td>Greenwich</td>\n",
              "      <td>Montserrat_1958</td>\n",
              "      <td>Transverse_Mercator</td>\n",
              "      <td>metre</td>\n",
              "      <td>Easting</td>\n",
              "      <td>East</td>\n",
              "      <td>Northing</td>\n",
              "      <td>North</td>\n",
              "    </tr>\n",
              "  </tbody>\n",
              "</table>\n",
              "</div>"
            ],
            "text/plain": [
              "   srid  is_geographic  ...  axis_2_name axis_2_orientation\n",
              "0  2000              0  ...     Northing              North\n",
              "1  2001              0  ...     Northing              North\n",
              "2  2002              0  ...     Northing              North\n",
              "3  2003              0  ...     Northing              North\n",
              "4  2004              0  ...     Northing              North\n",
              "\n",
              "[5 rows x 12 columns]"
            ]
          },
          "metadata": {
            "tags": []
          },
          "execution_count": 64
        }
      ]
    },
    {
      "cell_type": "code",
      "metadata": {
        "colab": {
          "base_uri": "https://localhost:8080/"
        },
        "id": "M0PTptlfNa-l",
        "outputId": "908773a6-2375-41a2-98ca-6fbdd8d24eeb"
      },
      "source": [
        "c.execute(\"\"\"SELECT * \n",
        "               FROM spatial_ref_sys_aux\n",
        "               LIMIT 5;\"\"\").fetchall()\n",
        "#this block (which matches the below) runs fine, \n",
        "#so it would seem  it is actually an issue with the table\n",
        "#I will need to find a new way to query it"
      ],
      "execution_count": 65,
      "outputs": [
        {
          "output_type": "execute_result",
          "data": {
            "text/plain": [
              "[(2000,\n",
              "  0,\n",
              "  0,\n",
              "  'Clarke 1880 (RGS)',\n",
              "  'Greenwich',\n",
              "  'Anguilla_1957',\n",
              "  'Transverse_Mercator',\n",
              "  'metre',\n",
              "  'Easting',\n",
              "  'East',\n",
              "  'Northing',\n",
              "  'North'),\n",
              " (2001,\n",
              "  0,\n",
              "  0,\n",
              "  'Clarke 1880 (RGS)',\n",
              "  'Greenwich',\n",
              "  'Antigua_1943',\n",
              "  'Transverse_Mercator',\n",
              "  'metre',\n",
              "  'Easting',\n",
              "  'East',\n",
              "  'Northing',\n",
              "  'North'),\n",
              " (2002,\n",
              "  0,\n",
              "  0,\n",
              "  'Clarke 1880 (RGS)',\n",
              "  'Greenwich',\n",
              "  'Dominica_1945',\n",
              "  'Transverse_Mercator',\n",
              "  'metre',\n",
              "  'Easting',\n",
              "  'East',\n",
              "  'Northing',\n",
              "  'North'),\n",
              " (2003,\n",
              "  0,\n",
              "  0,\n",
              "  'Clarke 1880 (RGS)',\n",
              "  'Greenwich',\n",
              "  'Grenada_1953',\n",
              "  'Transverse_Mercator',\n",
              "  'metre',\n",
              "  'Easting',\n",
              "  'East',\n",
              "  'Northing',\n",
              "  'North'),\n",
              " (2004,\n",
              "  0,\n",
              "  0,\n",
              "  'Clarke 1880 (RGS)',\n",
              "  'Greenwich',\n",
              "  'Montserrat_1958',\n",
              "  'Transverse_Mercator',\n",
              "  'metre',\n",
              "  'Easting',\n",
              "  'East',\n",
              "  'Northing',\n",
              "  'North')]"
            ]
          },
          "metadata": {
            "tags": []
          },
          "execution_count": 65
        }
      ]
    },
    {
      "cell_type": "code",
      "metadata": {
        "colab": {
          "base_uri": "https://localhost:8080/",
          "height": 408
        },
        "id": "smMyZfG6YK4z",
        "outputId": "385388d0-28d2-4de3-b885-c617ee3cd36d"
      },
      "source": [
        "c.execute(\"\"\"SELECT * \n",
        "               FROM views_geometry_columns;\"\"\")\n",
        "views_geometry_columns_df = pd.DataFrame(c.fetchall())\n",
        "views_geometry_columns_df.columns = [x[0] for x in c.description]\n",
        "views_geometry_columns_df.head()\n",
        "#troubleshoot table"
      ],
      "execution_count": 66,
      "outputs": [
        {
          "output_type": "error",
          "ename": "ValueError",
          "evalue": "ignored",
          "traceback": [
            "\u001b[0;31m---------------------------------------------------------------------------\u001b[0m",
            "\u001b[0;31mValueError\u001b[0m                                Traceback (most recent call last)",
            "\u001b[0;32m<ipython-input-66-9fc825c7e530>\u001b[0m in \u001b[0;36m<module>\u001b[0;34m()\u001b[0m\n\u001b[1;32m      2\u001b[0m                FROM views_geometry_columns;\"\"\")\n\u001b[1;32m      3\u001b[0m \u001b[0mviews_geometry_columns_df\u001b[0m \u001b[0;34m=\u001b[0m \u001b[0mpd\u001b[0m\u001b[0;34m.\u001b[0m\u001b[0mDataFrame\u001b[0m\u001b[0;34m(\u001b[0m\u001b[0mc\u001b[0m\u001b[0;34m.\u001b[0m\u001b[0mfetchall\u001b[0m\u001b[0;34m(\u001b[0m\u001b[0;34m)\u001b[0m\u001b[0;34m)\u001b[0m\u001b[0;34m\u001b[0m\u001b[0;34m\u001b[0m\u001b[0m\n\u001b[0;32m----> 4\u001b[0;31m \u001b[0mviews_geometry_columns_df\u001b[0m\u001b[0;34m.\u001b[0m\u001b[0mcolumns\u001b[0m \u001b[0;34m=\u001b[0m \u001b[0;34m[\u001b[0m\u001b[0mx\u001b[0m\u001b[0;34m[\u001b[0m\u001b[0;36m0\u001b[0m\u001b[0;34m]\u001b[0m \u001b[0;32mfor\u001b[0m \u001b[0mx\u001b[0m \u001b[0;32min\u001b[0m \u001b[0mc\u001b[0m\u001b[0;34m.\u001b[0m\u001b[0mdescription\u001b[0m\u001b[0;34m]\u001b[0m\u001b[0;34m\u001b[0m\u001b[0;34m\u001b[0m\u001b[0m\n\u001b[0m\u001b[1;32m      5\u001b[0m \u001b[0mviews_geometry_columns_df\u001b[0m\u001b[0;34m.\u001b[0m\u001b[0mhead\u001b[0m\u001b[0;34m(\u001b[0m\u001b[0;34m)\u001b[0m\u001b[0;34m\u001b[0m\u001b[0;34m\u001b[0m\u001b[0m\n\u001b[1;32m      6\u001b[0m \u001b[0;31m#troubleshoot table\u001b[0m\u001b[0;34m\u001b[0m\u001b[0;34m\u001b[0m\u001b[0;34m\u001b[0m\u001b[0m\n",
            "\u001b[0;32m/usr/local/lib/python3.7/dist-packages/pandas/core/generic.py\u001b[0m in \u001b[0;36m__setattr__\u001b[0;34m(self, name, value)\u001b[0m\n\u001b[1;32m   5152\u001b[0m         \u001b[0;32mtry\u001b[0m\u001b[0;34m:\u001b[0m\u001b[0;34m\u001b[0m\u001b[0;34m\u001b[0m\u001b[0m\n\u001b[1;32m   5153\u001b[0m             \u001b[0mobject\u001b[0m\u001b[0;34m.\u001b[0m\u001b[0m__getattribute__\u001b[0m\u001b[0;34m(\u001b[0m\u001b[0mself\u001b[0m\u001b[0;34m,\u001b[0m \u001b[0mname\u001b[0m\u001b[0;34m)\u001b[0m\u001b[0;34m\u001b[0m\u001b[0;34m\u001b[0m\u001b[0m\n\u001b[0;32m-> 5154\u001b[0;31m             \u001b[0;32mreturn\u001b[0m \u001b[0mobject\u001b[0m\u001b[0;34m.\u001b[0m\u001b[0m__setattr__\u001b[0m\u001b[0;34m(\u001b[0m\u001b[0mself\u001b[0m\u001b[0;34m,\u001b[0m \u001b[0mname\u001b[0m\u001b[0;34m,\u001b[0m \u001b[0mvalue\u001b[0m\u001b[0;34m)\u001b[0m\u001b[0;34m\u001b[0m\u001b[0;34m\u001b[0m\u001b[0m\n\u001b[0m\u001b[1;32m   5155\u001b[0m         \u001b[0;32mexcept\u001b[0m \u001b[0mAttributeError\u001b[0m\u001b[0;34m:\u001b[0m\u001b[0;34m\u001b[0m\u001b[0;34m\u001b[0m\u001b[0m\n\u001b[1;32m   5156\u001b[0m             \u001b[0;32mpass\u001b[0m\u001b[0;34m\u001b[0m\u001b[0;34m\u001b[0m\u001b[0m\n",
            "\u001b[0;32mpandas/_libs/properties.pyx\u001b[0m in \u001b[0;36mpandas._libs.properties.AxisProperty.__set__\u001b[0;34m()\u001b[0m\n",
            "\u001b[0;32m/usr/local/lib/python3.7/dist-packages/pandas/core/generic.py\u001b[0m in \u001b[0;36m_set_axis\u001b[0;34m(self, axis, labels)\u001b[0m\n\u001b[1;32m    562\u001b[0m     \u001b[0;32mdef\u001b[0m \u001b[0m_set_axis\u001b[0m\u001b[0;34m(\u001b[0m\u001b[0mself\u001b[0m\u001b[0;34m,\u001b[0m \u001b[0maxis\u001b[0m\u001b[0;34m:\u001b[0m \u001b[0mint\u001b[0m\u001b[0;34m,\u001b[0m \u001b[0mlabels\u001b[0m\u001b[0;34m:\u001b[0m \u001b[0mIndex\u001b[0m\u001b[0;34m)\u001b[0m \u001b[0;34m->\u001b[0m \u001b[0;32mNone\u001b[0m\u001b[0;34m:\u001b[0m\u001b[0;34m\u001b[0m\u001b[0;34m\u001b[0m\u001b[0m\n\u001b[1;32m    563\u001b[0m         \u001b[0mlabels\u001b[0m \u001b[0;34m=\u001b[0m \u001b[0mensure_index\u001b[0m\u001b[0;34m(\u001b[0m\u001b[0mlabels\u001b[0m\u001b[0;34m)\u001b[0m\u001b[0;34m\u001b[0m\u001b[0;34m\u001b[0m\u001b[0m\n\u001b[0;32m--> 564\u001b[0;31m         \u001b[0mself\u001b[0m\u001b[0;34m.\u001b[0m\u001b[0m_mgr\u001b[0m\u001b[0;34m.\u001b[0m\u001b[0mset_axis\u001b[0m\u001b[0;34m(\u001b[0m\u001b[0maxis\u001b[0m\u001b[0;34m,\u001b[0m \u001b[0mlabels\u001b[0m\u001b[0;34m)\u001b[0m\u001b[0;34m\u001b[0m\u001b[0;34m\u001b[0m\u001b[0m\n\u001b[0m\u001b[1;32m    565\u001b[0m         \u001b[0mself\u001b[0m\u001b[0;34m.\u001b[0m\u001b[0m_clear_item_cache\u001b[0m\u001b[0;34m(\u001b[0m\u001b[0;34m)\u001b[0m\u001b[0;34m\u001b[0m\u001b[0;34m\u001b[0m\u001b[0m\n\u001b[1;32m    566\u001b[0m \u001b[0;34m\u001b[0m\u001b[0m\n",
            "\u001b[0;32m/usr/local/lib/python3.7/dist-packages/pandas/core/internals/managers.py\u001b[0m in \u001b[0;36mset_axis\u001b[0;34m(self, axis, new_labels)\u001b[0m\n\u001b[1;32m    225\u001b[0m         \u001b[0;32mif\u001b[0m \u001b[0mnew_len\u001b[0m \u001b[0;34m!=\u001b[0m \u001b[0mold_len\u001b[0m\u001b[0;34m:\u001b[0m\u001b[0;34m\u001b[0m\u001b[0;34m\u001b[0m\u001b[0m\n\u001b[1;32m    226\u001b[0m             raise ValueError(\n\u001b[0;32m--> 227\u001b[0;31m                 \u001b[0;34mf\"Length mismatch: Expected axis has {old_len} elements, new \"\u001b[0m\u001b[0;34m\u001b[0m\u001b[0;34m\u001b[0m\u001b[0m\n\u001b[0m\u001b[1;32m    228\u001b[0m                 \u001b[0;34mf\"values have {new_len} elements\"\u001b[0m\u001b[0;34m\u001b[0m\u001b[0;34m\u001b[0m\u001b[0m\n\u001b[1;32m    229\u001b[0m             )\n",
            "\u001b[0;31mValueError\u001b[0m: Length mismatch: Expected axis has 0 elements, new values have 6 elements"
          ]
        }
      ]
    },
    {
      "cell_type": "code",
      "metadata": {
        "id": "St7f3uLC8e1k"
      },
      "source": [
        "c.execute(\"\"\"SELECT * FROM views_geometry_columns;\"\"\").fetchall()\n",
        "#something is going wrong in the query, hence why it is not returning any data\n",
        "#and that's why it errors on the columns- it doesn't have data to put in the columns"
      ],
      "execution_count": null,
      "outputs": []
    },
    {
      "cell_type": "code",
      "metadata": {
        "id": "aZWLhPaANvXb"
      },
      "source": [
        "c.description\n",
        "#it is connecting to the table, hence the var names\n",
        "#it just isn't pulling the data "
      ],
      "execution_count": null,
      "outputs": []
    },
    {
      "cell_type": "code",
      "metadata": {
        "id": "x7yfQIMEmsqS"
      },
      "source": [
        "#attempted to change variable to .fetchall() instead of .fetchone() to no avail \n",
        "#perhaps attempt creating table- maybe this isn't a table yet "
      ],
      "execution_count": null,
      "outputs": []
    },
    {
      "cell_type": "code",
      "metadata": {
        "colab": {
          "base_uri": "https://localhost:8080/"
        },
        "id": "XuNrVOfqWBi6",
        "outputId": "0c5dfab6-51b3-484d-d8e0-5407e121a4fc"
      },
      "source": [
        "spatial_ref_sys_aux"
      ],
      "execution_count": 68,
      "outputs": [
        {
          "output_type": "execute_result",
          "data": {
            "text/plain": [
              "('CREATE TABLE spatial_ref_sys_aux (\\n\\tsrid INTEGER NOT NULL PRIMARY KEY,\\n\\tis_geographic INTEGER,\\n\\thas_flipped_axes INTEGER,\\n\\tspheroid TEXT,\\n\\tprime_meridian TEXT,\\n\\tdatum TEXT,\\n\\tprojection TEXT,\\n\\tunit TEXT,\\n\\taxis_1_name TEXT,\\n\\taxis_1_orientation TEXT,\\n\\taxis_2_name TEXT,\\n\\taxis_2_orientation TEXT,\\n\\tCONSTRAINT fk_sprefsys FOREIGN KEY (srid) \\tREFERENCES spatial_ref_sys (srid))',)"
            ]
          },
          "metadata": {
            "tags": []
          },
          "execution_count": 68
        }
      ]
    },
    {
      "cell_type": "code",
      "metadata": {
        "colab": {
          "base_uri": "https://localhost:8080/"
        },
        "id": "lwgkXPhiZiIi",
        "outputId": "49d81b29-32c9-401e-ac7a-1e4b194f3cc6"
      },
      "source": [
        "views_geometry_columns"
      ],
      "execution_count": 69,
      "outputs": [
        {
          "output_type": "execute_result",
          "data": {
            "text/plain": [
              "('CREATE TABLE views_geometry_columns (\\nview_name TEXT NOT NULL,\\nview_geometry TEXT NOT NULL,\\nview_rowid TEXT NOT NULL,\\nf_table_name TEXT NOT NULL,\\nf_geometry_column TEXT NOT NULL,\\nread_only INTEGER NOT NULL,\\nCONSTRAINT pk_geom_cols_views PRIMARY KEY (view_name, view_geometry),\\nCONSTRAINT fk_views_geom_cols FOREIGN KEY (f_table_name, f_geometry_column) REFERENCES geometry_columns (f_table_name, f_geometry_column) ON DELETE CASCADE,\\nCONSTRAINT ck_vw_rdonly CHECK (read_only IN (0,1)))',)"
            ]
          },
          "metadata": {
            "tags": []
          },
          "execution_count": 69
        }
      ]
    },
    {
      "cell_type": "code",
      "metadata": {
        "id": "JK6UDmZOZoXR"
      },
      "source": [
        "#comparing a var that works and one that doesn't shows me that it's not an error of the table not being created "
      ],
      "execution_count": null,
      "outputs": []
    },
    {
      "cell_type": "code",
      "metadata": {
        "id": "NIVXH8CZYgDh"
      },
      "source": [
        "c.execute(\"\"\"SELECT * \n",
        "               FROM virts_geometry_columns;\"\"\")\n",
        "virts_geometry_columns_df = pd.DataFrame(c.fetchall())\n",
        "virts_geometry_columns_df.columns = [x[0] for x in c.description]\n",
        "virts_geometry_columns_df.head()\n",
        "#troubleshoot"
      ],
      "execution_count": null,
      "outputs": []
    },
    {
      "cell_type": "code",
      "metadata": {
        "id": "bpE38_bxZzlN"
      },
      "source": [
        "c.execute(\"\"\"SELECT * \n",
        "               FROM geometry_columns_statistics;\"\"\")\n",
        "geometry_columns_stat_df = pd.DataFrame(c.fetchall())\n",
        "geometry_columns_stat_df.columns = [x[0] for x in c.description]\n",
        "geometry_columns_stat_df.head()"
      ],
      "execution_count": null,
      "outputs": []
    },
    {
      "cell_type": "code",
      "metadata": {
        "id": "inx8HSsbaPBR"
      },
      "source": [
        "c.execute(\"\"\"SELECT * \n",
        "               FROM views_geometry_columns_statistics;\"\"\")\n",
        "views_geometry_columns_stat_df = pd.DataFrame(c.fetchall())\n",
        "views_geometry_columns_stat_df.columns = [x[0] for x in c.description]\n",
        "views_geometry_columns_stat_df.head()\n",
        "#troubleshoot"
      ],
      "execution_count": null,
      "outputs": []
    },
    {
      "cell_type": "code",
      "metadata": {
        "id": "3sK0dLg-a_A3"
      },
      "source": [
        "c.execute(\"\"\"SELECT * \n",
        "               FROM virts_geometry_columns_statistics;\"\"\")\n",
        "virts_geometry_columns_stats_df = pd.DataFrame(c.fetchall())\n",
        "virts_geometry_columns_df.columns = [x[0] for x in c.description]\n",
        "virts_geometry_columns_df.head()\n",
        "#troubleshoot"
      ],
      "execution_count": null,
      "outputs": []
    },
    {
      "cell_type": "code",
      "metadata": {
        "id": "kzX4307GbemX"
      },
      "source": [
        "c.execute(\"\"\"SELECT * \n",
        "               FROM geometry_columns_field_infos;\"\"\")\n",
        "geometry_columns_field_infos_df = pd.DataFrame(c.fetchall())\n",
        "geometry_columns_field_infos_df.columns = [x[0] for x in c.description]\n",
        "geometry_columns_field_infos_df.head()\n",
        "#troubleshoot"
      ],
      "execution_count": null,
      "outputs": []
    },
    {
      "cell_type": "code",
      "metadata": {
        "id": "LXsABcnDcFSx"
      },
      "source": [
        "c.execute(\"\"\"SELECT * \n",
        "               FROM virts_geometry_columns_field_infos;\"\"\")\n",
        "virts_geometry_columns_field_infos_df = pd.DataFrame(c.fetchall())\n",
        "virts_geometry_columns_field_infos_df.columns = [x[0] for x in c.description]\n",
        "virts_geometry_columns_field_infos_df.head()\n",
        "#troubleshoot"
      ],
      "execution_count": null,
      "outputs": []
    },
    {
      "cell_type": "code",
      "metadata": {
        "id": "DuYxXZz5ciYz"
      },
      "source": [
        "c.execute(\"\"\"SELECT * \n",
        "               FROM geometry_columns_time;\"\"\")\n",
        "geometry_columns_time_df = pd.DataFrame(c.fetchall())\n",
        "geometry_columns_time_df.columns = [x[0] for x in c.description]\n",
        "geometry_columns_time_df.head()"
      ],
      "execution_count": null,
      "outputs": []
    },
    {
      "cell_type": "code",
      "metadata": {
        "id": "9-0m8si0cxG4"
      },
      "source": [
        "c.execute(\"\"\"SELECT * \n",
        "               FROM geometry_columns_auth;\"\"\")\n",
        "geometry_columns_auth_df = pd.DataFrame(c.fetchall())\n",
        "geometry_columns_auth_df.columns = [x[0] for x in c.description]\n",
        "geometry_columns_auth_df.head()\n",
        "#troubleshoot"
      ],
      "execution_count": null,
      "outputs": []
    },
    {
      "cell_type": "code",
      "metadata": {
        "id": "0BlBCFm_dB3c"
      },
      "source": [
        "c.execute(\"\"\"SELECT * \n",
        "               FROM views_geometry_columns_auth;\"\"\")\n",
        "views_geometry_columns_auth_df = pd.DataFrame(c.fetchall())\n",
        "views_geometry_columns_auth_df.columns = [x[0] for x in c.description]\n",
        "views_geometry_columns_auth_df.head()\n",
        "#troubleshoot"
      ],
      "execution_count": null,
      "outputs": []
    },
    {
      "cell_type": "code",
      "metadata": {
        "id": "zkMagTsddRPl"
      },
      "source": [
        "c.execute(\"\"\"SELECT * \n",
        "               FROM virts_geometry_columns_auth;\"\"\")\n",
        "virts_geometry_columns_auth_df = pd.DataFrame(c.fetchall())\n",
        "virts_geometry_columns_auth_df.columns = [x[0] for x in c.description]\n",
        "virts_geometry_columns_auth_df.head()\n",
        "#troubleshoot"
      ],
      "execution_count": null,
      "outputs": []
    },
    {
      "cell_type": "code",
      "metadata": {
        "id": "NpvK6Uridf99"
      },
      "source": [
        "c.execute(\"\"\"SELECT * \n",
        "               FROM sql_statements_log;\"\"\")\n",
        "sql_statements_log_df = pd.DataFrame(c.fetchall())\n",
        "sql_statements_log_df.columns = [x[0] for x in c.description]\n",
        "sql_statements_log_df.head()\n",
        "#troubleshoot"
      ],
      "execution_count": null,
      "outputs": []
    },
    {
      "cell_type": "code",
      "metadata": {
        "id": "uRAQu28qd3TV"
      },
      "source": [
        ""
      ],
      "execution_count": null,
      "outputs": []
    }
  ]
}