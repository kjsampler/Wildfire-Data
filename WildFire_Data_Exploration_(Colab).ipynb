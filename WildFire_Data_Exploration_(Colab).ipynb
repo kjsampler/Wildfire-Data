{
  "nbformat": 4,
  "nbformat_minor": 0,
  "metadata": {
    "colab": {
      "name": "WildFire Data Exploration (Colab).ipynb",
      "provenance": [],
      "mount_file_id": "1pO4K6JqeO2cx_wDynmS_65ape_Mcpj95",
      "authorship_tag": "ABX9TyOUz8DvoKxExe51X7aR1Osm"
    },
    "kernelspec": {
      "name": "python3",
      "display_name": "Python 3"
    },
    "language_info": {
      "name": "python"
    }
  },
  "cells": [
    {
      "cell_type": "markdown",
      "metadata": {
        "id": "NBmcbqDcgRpr"
      },
      "source": [
        "This notebook will be used to explore the wildfire dataset, and trim it down to what is necessary in order to avoid pushing a large file to GitHub. "
      ]
    },
    {
      "cell_type": "code",
      "metadata": {
        "id": "o8twiRp7giOc"
      },
      "source": [
        "#https://www.kaggle.com/rtatman/188-million-us-wildfires\n",
        "#Located in MyDrive"
      ],
      "execution_count": null,
      "outputs": []
    },
    {
      "cell_type": "code",
      "metadata": {
        "colab": {
          "base_uri": "https://localhost:8080/"
        },
        "id": "yo4Z-H5ikt9Q",
        "outputId": "485d03b5-71e8-4c3e-8e31-0c9b44319feb"
      },
      "source": [
        "!unzip /content/drive/MyDrive/archive.zip -d /content/drive/MyDrive/WildfireData"
      ],
      "execution_count": null,
      "outputs": [
        {
          "output_type": "stream",
          "text": [
            "Archive:  /content/drive/MyDrive/archive.zip\n",
            "  inflating: /content/drive/MyDrive/WildfireData/FPA_FOD_20170508.sqlite  \n"
          ],
          "name": "stdout"
        }
      ]
    },
    {
      "cell_type": "code",
      "metadata": {
        "id": "Rb0vaxMbduBL"
      },
      "source": [
        "import sqlite3"
      ],
      "execution_count": 2,
      "outputs": []
    },
    {
      "cell_type": "code",
      "metadata": {
        "id": "VqCJeEiPfcny"
      },
      "source": [
        "conn = sqlite3.connect('/content/drive/MyDrive/WildfireData/FPA_FOD_20170508.sqlite')\n",
        "c = conn.cursor()"
      ],
      "execution_count": 3,
      "outputs": []
    },
    {
      "cell_type": "code",
      "metadata": {
        "id": "vsUZ1vNwkFaQ"
      },
      "source": [
        "c.execute(\"\"\"SELECT name FROM sqlite_master WHERE type = 'table';\"\"\")\n",
        "table_names = c.fetchall()"
      ],
      "execution_count": 6,
      "outputs": []
    },
    {
      "cell_type": "code",
      "metadata": {
        "colab": {
          "base_uri": "https://localhost:8080/"
        },
        "id": "o3bOVXrud_iq",
        "outputId": "c90f9e51-0d41-4b3d-ea43-91df784a94c2"
      },
      "source": [
        "table_names"
      ],
      "execution_count": 7,
      "outputs": [
        {
          "output_type": "execute_result",
          "data": {
            "text/plain": [
              "[('spatial_ref_sys',),\n",
              " ('spatialite_history',),\n",
              " ('sqlite_sequence',),\n",
              " ('geometry_columns',),\n",
              " ('spatial_ref_sys_aux',),\n",
              " ('views_geometry_columns',),\n",
              " ('virts_geometry_columns',),\n",
              " ('geometry_columns_statistics',),\n",
              " ('views_geometry_columns_statistics',),\n",
              " ('virts_geometry_columns_statistics',),\n",
              " ('geometry_columns_field_infos',),\n",
              " ('views_geometry_columns_field_infos',),\n",
              " ('virts_geometry_columns_field_infos',),\n",
              " ('geometry_columns_time',),\n",
              " ('geometry_columns_auth',),\n",
              " ('views_geometry_columns_auth',),\n",
              " ('virts_geometry_columns_auth',),\n",
              " ('sql_statements_log',),\n",
              " ('SpatialIndex',),\n",
              " ('ElementaryGeometries',),\n",
              " ('KNN',),\n",
              " ('Fires',),\n",
              " ('idx_Fires_Shape',),\n",
              " ('idx_Fires_Shape_node',),\n",
              " ('idx_Fires_Shape_rowid',),\n",
              " ('idx_Fires_Shape_parent',),\n",
              " ('NWCG_UnitIDActive_20170109',)]"
            ]
          },
          "metadata": {
            "tags": []
          },
          "execution_count": 7
        }
      ]
    },
    {
      "cell_type": "code",
      "metadata": {
        "id": "pXeSQBLbelCy"
      },
      "source": [
        ""
      ],
      "execution_count": null,
      "outputs": []
    }
  ]
}