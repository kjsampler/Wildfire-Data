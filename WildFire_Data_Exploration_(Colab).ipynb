{
  "nbformat": 4,
  "nbformat_minor": 0,
  "metadata": {
    "colab": {
      "name": "WildFire Data Exploration (Colab).ipynb",
      "provenance": [],
      "mount_file_id": "1pO4K6JqeO2cx_wDynmS_65ape_Mcpj95",
      "authorship_tag": "ABX9TyOX6DSLJT88xz2HdgCZ+st8",
      "include_colab_link": true
    },
    "kernelspec": {
      "name": "python3",
      "display_name": "Python 3"
    },
    "language_info": {
      "name": "python"
    }
  },
  "cells": [
    {
      "cell_type": "markdown",
      "metadata": {
        "id": "view-in-github",
        "colab_type": "text"
      },
      "source": [
        "<a href=\"https://colab.research.google.com/github/kjsampler/Wildfire-Data/blob/main/WildFire_Data_Exploration_(Colab).ipynb\" target=\"_parent\"><img src=\"https://colab.research.google.com/assets/colab-badge.svg\" alt=\"Open In Colab\"/></a>"
      ]
    },
    {
      "cell_type": "markdown",
      "metadata": {
        "id": "NBmcbqDcgRpr"
      },
      "source": [
        "This notebook will be used to explore the wildfire dataset, and trim it down to what is necessary in order to avoid pushing a large file to GitHub. "
      ]
    },
    {
      "cell_type": "code",
      "metadata": {
        "id": "o8twiRp7giOc"
      },
      "source": [
        "#https://www.kaggle.com/rtatman/188-million-us-wildfires\n",
        "#Located in MyDrive"
      ],
      "execution_count": 46,
      "outputs": []
    },
    {
      "cell_type": "code",
      "metadata": {
        "id": "yo4Z-H5ikt9Q"
      },
      "source": [
        "#!unzip /content/drive/MyDrive/archive.zip -d /content/drive/MyDrive/WildfireData\n",
        "# line to unzip and redirect data (commented out once completed)"
      ],
      "execution_count": 47,
      "outputs": []
    },
    {
      "cell_type": "code",
      "metadata": {
        "id": "Rb0vaxMbduBL"
      },
      "source": [
        "import sqlite3"
      ],
      "execution_count": 48,
      "outputs": []
    },
    {
      "cell_type": "code",
      "metadata": {
        "id": "VqCJeEiPfcny"
      },
      "source": [
        "conn = sqlite3.connect('/content/drive/MyDrive/WildfireData/FPA_FOD_20170508.sqlite')\n",
        "c = conn.cursor()"
      ],
      "execution_count": 49,
      "outputs": []
    },
    {
      "cell_type": "markdown",
      "metadata": {
        "id": "6iHNPsgREu5W"
      },
      "source": [
        "# Analyze Schema\n",
        "Schema is first marked down on paper and then organized into a visualization. "
      ]
    },
    {
      "cell_type": "code",
      "metadata": {
        "id": "vsUZ1vNwkFaQ"
      },
      "source": [
        "c.execute(\"\"\"SELECT name FROM sqlite_master WHERE type = 'table';\"\"\")\n",
        "table_names = c.fetchall()"
      ],
      "execution_count": 50,
      "outputs": []
    },
    {
      "cell_type": "code",
      "metadata": {
        "colab": {
          "base_uri": "https://localhost:8080/"
        },
        "id": "o3bOVXrud_iq",
        "outputId": "7cd6414c-06e7-4a42-a8ba-b1fde303c121"
      },
      "source": [
        "table_names"
      ],
      "execution_count": 51,
      "outputs": [
        {
          "output_type": "execute_result",
          "data": {
            "text/plain": [
              "[('spatial_ref_sys',),\n",
              " ('spatialite_history',),\n",
              " ('sqlite_sequence',),\n",
              " ('geometry_columns',),\n",
              " ('spatial_ref_sys_aux',),\n",
              " ('views_geometry_columns',),\n",
              " ('virts_geometry_columns',),\n",
              " ('geometry_columns_statistics',),\n",
              " ('views_geometry_columns_statistics',),\n",
              " ('virts_geometry_columns_statistics',),\n",
              " ('geometry_columns_field_infos',),\n",
              " ('views_geometry_columns_field_infos',),\n",
              " ('virts_geometry_columns_field_infos',),\n",
              " ('geometry_columns_time',),\n",
              " ('geometry_columns_auth',),\n",
              " ('views_geometry_columns_auth',),\n",
              " ('virts_geometry_columns_auth',),\n",
              " ('sql_statements_log',),\n",
              " ('SpatialIndex',),\n",
              " ('ElementaryGeometries',),\n",
              " ('KNN',),\n",
              " ('Fires',),\n",
              " ('idx_Fires_Shape',),\n",
              " ('idx_Fires_Shape_node',),\n",
              " ('idx_Fires_Shape_rowid',),\n",
              " ('idx_Fires_Shape_parent',),\n",
              " ('NWCG_UnitIDActive_20170109',)]"
            ]
          },
          "metadata": {
            "tags": []
          },
          "execution_count": 51
        }
      ]
    },
    {
      "cell_type": "code",
      "metadata": {
        "id": "8-q1XFdcfJwq"
      },
      "source": [
        "spatial_ref_sys = c.execute(\"\"\"SELECT sql FROM sqlite_master WHERE type = 'table' AND name = 'spatial_ref_sys';\"\"\").fetchone()"
      ],
      "execution_count": 52,
      "outputs": []
    },
    {
      "cell_type": "code",
      "metadata": {
        "id": "OzAeeCG9Fi4s"
      },
      "source": [
        "spatialite_history = c.execute(\"\"\"SELECT sql FROM sqlite_master WHERE type = 'table' AND name = 'spatialite_history';\"\"\").fetchone()"
      ],
      "execution_count": 53,
      "outputs": []
    },
    {
      "cell_type": "code",
      "metadata": {
        "id": "SVCUf2R5HCEp"
      },
      "source": [
        "sqlite_sequence = c.execute(\"\"\"SELECT sql FROM sqlite_master WHERE type = 'table' AND name = 'sqlite_sequence';\"\"\").fetchone()"
      ],
      "execution_count": 54,
      "outputs": []
    },
    {
      "cell_type": "code",
      "metadata": {
        "id": "HIW6b8JCJA1E"
      },
      "source": [
        "geometry_columns = c.execute(\"\"\"SELECT sql FROM sqlite_master WHERE type = 'table' AND name = 'geometry_columns';\"\"\").fetchone()"
      ],
      "execution_count": 55,
      "outputs": []
    },
    {
      "cell_type": "code",
      "metadata": {
        "id": "o5ps_4_NDVvS"
      },
      "source": [
        "spatial_ref_sys_aux = c.execute(\"\"\"SELECT sql FROM sqlite_master WHERE type = 'table' AND name = 'spatial_ref_sys_aux';\"\"\").fetchone()"
      ],
      "execution_count": 56,
      "outputs": []
    },
    {
      "cell_type": "code",
      "metadata": {
        "id": "zQlV_A7wEigW"
      },
      "source": [
        "views_geometry_columns = c.execute(\"\"\"SELECT sql FROM sqlite_master WHERE type = 'table' AND name = 'views_geometry_columns';\"\"\").fetchone()"
      ],
      "execution_count": 57,
      "outputs": []
    },
    {
      "cell_type": "code",
      "metadata": {
        "id": "zep_n864E2U0"
      },
      "source": [
        "virts_geometry_columns = c.execute(\"\"\"SELECT sql FROM sqlite_master WHERE type = 'table' AND name = 'virts_geometry_columns';\"\"\").fetchone()"
      ],
      "execution_count": 58,
      "outputs": []
    },
    {
      "cell_type": "code",
      "metadata": {
        "id": "5uKUbgW0FBRk"
      },
      "source": [
        "geometry_columns_stats = c.execute(\"\"\"SELECT sql FROM sqlite_master WHERE type = 'table' AND name = 'geometry_columns_statistics';\"\"\").fetchone()"
      ],
      "execution_count": 59,
      "outputs": []
    },
    {
      "cell_type": "code",
      "metadata": {
        "id": "zAKhN7oWFMH3"
      },
      "source": [
        "views_geometry_columns_stats = c.execute(\"\"\"SELECT sql FROM sqlite_master WHERE type = 'table' AND name = 'views_geometry_columns_statistics';\"\"\").fetchone()"
      ],
      "execution_count": 60,
      "outputs": []
    },
    {
      "cell_type": "code",
      "metadata": {
        "id": "5Xr5dFZHFbGU"
      },
      "source": [
        "virts_geometry_columns_stats = c.execute(\"\"\"SELECT sql FROM sqlite_master WHERE type = 'table' AND name = 'virts_geometry_columns_statistics';\"\"\").fetchone()"
      ],
      "execution_count": 61,
      "outputs": []
    },
    {
      "cell_type": "code",
      "metadata": {
        "id": "QPDMwfJeFmFy"
      },
      "source": [
        "geometry_columns_field_infos = c.execute(\"\"\"SELECT sql FROM sqlite_master WHERE type = 'table' AND name = 'geometry_columns_field_infos';\"\"\").fetchone()"
      ],
      "execution_count": 62,
      "outputs": []
    },
    {
      "cell_type": "code",
      "metadata": {
        "id": "yBPHHGeFFzqK"
      },
      "source": [
        "views_geometry_columns_field_infos = c.execute(\"\"\"SELECT sql FROM sqlite_master WHERE type = 'table' AND name = 'views_geometry_columns_field_infos';\"\"\").fetchone()"
      ],
      "execution_count": 63,
      "outputs": []
    },
    {
      "cell_type": "code",
      "metadata": {
        "id": "OYQ-vFT9F-15"
      },
      "source": [
        "virts_geometry_columns_field_infos = c.execute(\"\"\"SELECT sql FROM sqlite_master WHERE type = 'table' AND name = 'virts_geometry_columns_field_infos';\"\"\").fetchone()"
      ],
      "execution_count": 64,
      "outputs": []
    },
    {
      "cell_type": "code",
      "metadata": {
        "id": "HfIYO2x1GLOb"
      },
      "source": [
        "geometry_columns_time = c.execute(\"\"\"SELECT sql FROM sqlite_master WHERE type = 'table' AND name = 'geometry_columns_time';\"\"\").fetchone()"
      ],
      "execution_count": 65,
      "outputs": []
    },
    {
      "cell_type": "code",
      "metadata": {
        "id": "WxiZmLo4GTVW"
      },
      "source": [
        "geometry_columns_auth = c.execute(\"\"\"SELECT sql FROM sqlite_master WHERE type = 'table' AND name = 'geometry_columns_auth';\"\"\").fetchone()"
      ],
      "execution_count": 66,
      "outputs": []
    },
    {
      "cell_type": "code",
      "metadata": {
        "id": "Y18VV9eKGcLe"
      },
      "source": [
        "views_geometry_columns_auth = c.execute(\"\"\"SELECT sql FROM sqlite_master WHERE type = 'table' AND name = 'views_geometry_columns_auth';\"\"\").fetchone()"
      ],
      "execution_count": 96,
      "outputs": []
    },
    {
      "cell_type": "code",
      "metadata": {
        "id": "scRgswpsGsvX"
      },
      "source": [
        "virts_geometry_columns_auth = c.execute(\"\"\"SELECT sql FROM sqlite_master WHERE type = 'table' AND name = 'virts_geometry_columns_auth';\"\"\").fetchone()"
      ],
      "execution_count": 68,
      "outputs": []
    },
    {
      "cell_type": "code",
      "metadata": {
        "id": "CAc5UdL7I9q2"
      },
      "source": [
        "sql_statements_log = c.execute(\"\"\"SELECT sql FROM sqlite_master WHERE type = 'table' AND name = 'sql_statements_log';\"\"\").fetchone()"
      ],
      "execution_count": 69,
      "outputs": []
    },
    {
      "cell_type": "code",
      "metadata": {
        "id": "pYfBO9TaJFw2"
      },
      "source": [
        "spatial_index = c.execute(\"\"\"SELECT sql FROM sqlite_master WHERE type = 'table' AND name = 'SpatialIndex';\"\"\").fetchone()"
      ],
      "execution_count": 70,
      "outputs": []
    },
    {
      "cell_type": "code",
      "metadata": {
        "id": "ZEwHqqehJLob"
      },
      "source": [
        "elementary_geometries = c.execute(\"\"\"SELECT sql FROM sqlite_master WHERE type = 'table' AND name = 'ElementaryGeometries';\"\"\").fetchone()"
      ],
      "execution_count": 71,
      "outputs": []
    },
    {
      "cell_type": "code",
      "metadata": {
        "id": "YwjSg3ZkJWbN"
      },
      "source": [
        "knn = c.execute(\"\"\"SELECT sql FROM sqlite_master WHERE type = 'table' AND name = 'KNN';\"\"\").fetchone()"
      ],
      "execution_count": 72,
      "outputs": []
    },
    {
      "cell_type": "code",
      "metadata": {
        "id": "5HnfdCfEJmX_"
      },
      "source": [
        "fires = c.execute(\"\"\"SELECT sql FROM sqlite_master WHERE type = 'table' AND name = 'Fires';\"\"\").fetchone()"
      ],
      "execution_count": 73,
      "outputs": []
    },
    {
      "cell_type": "code",
      "metadata": {
        "id": "BtUF0_VmJr5Y"
      },
      "source": [
        "idx_fires_shape = c.execute(\"\"\"SELECT sql FROM sqlite_master WHERE type = 'table' AND name = 'idx_Fires_Shape';\"\"\").fetchone()"
      ],
      "execution_count": 74,
      "outputs": []
    },
    {
      "cell_type": "code",
      "metadata": {
        "id": "9VgD8RI_J6W-"
      },
      "source": [
        "idx_fires_shape_node = c.execute(\"\"\"SELECT sql FROM sqlite_master WHERE type = 'table' AND name = 'idx_Fires_Shape_node';\"\"\").fetchone()"
      ],
      "execution_count": 75,
      "outputs": []
    },
    {
      "cell_type": "code",
      "metadata": {
        "id": "Fx6y4_IsKCuU"
      },
      "source": [
        "idx_fires_shape_rowid = c.execute(\"\"\"SELECT sql FROM sqlite_master WHERE type = 'table' AND name = 'idx_Fires_Shape_rowid';\"\"\").fetchone()"
      ],
      "execution_count": 76,
      "outputs": []
    },
    {
      "cell_type": "code",
      "metadata": {
        "id": "_82SU5mDKJ-s"
      },
      "source": [
        "idx_fires_shape_parent = c.execute(\"\"\"SELECT sql FROM sqlite_master WHERE type = 'table' AND name = 'idx_Fires_Shape_parent';\"\"\").fetchone()"
      ],
      "execution_count": 77,
      "outputs": []
    },
    {
      "cell_type": "code",
      "metadata": {
        "id": "pqBEWYevDsgk"
      },
      "source": [
        "NWCG_UnitIDActive_20170109 = c.execute(\"\"\"SELECT sql FROM sqlite_master WHERE type = 'table' AND name = 'NWCG_UnitIDActive_20170109';\"\"\").fetchone()"
      ],
      "execution_count": 78,
      "outputs": []
    },
    {
      "cell_type": "code",
      "metadata": {
        "colab": {
          "base_uri": "https://localhost:8080/"
        },
        "id": "KQ0bK4JyKfTd",
        "outputId": "7f2f7840-fb62-495a-ea50-d572807206ae"
      },
      "source": [
        "spatial_ref_sys"
      ],
      "execution_count": 79,
      "outputs": [
        {
          "output_type": "execute_result",
          "data": {
            "text/plain": [
              "(\"CREATE TABLE spatial_ref_sys (\\nsrid INTEGER NOT NULL PRIMARY KEY,\\nauth_name TEXT NOT NULL,\\nauth_srid INTEGER NOT NULL,\\nref_sys_name TEXT NOT NULL DEFAULT 'Unknown',\\nproj4text TEXT NOT NULL,\\nsrtext TEXT NOT NULL DEFAULT 'Undefined')\",)"
            ]
          },
          "metadata": {
            "tags": []
          },
          "execution_count": 79
        }
      ]
    },
    {
      "cell_type": "markdown",
      "metadata": {
        "id": "8uWupFW7NelL"
      },
      "source": [
        "* srid\n",
        "* auth_name\n",
        "* auth_srid\n",
        "* nref_sys_name\n",
        "* nproj4text\n",
        "* srtext"
      ]
    },
    {
      "cell_type": "code",
      "metadata": {
        "colab": {
          "base_uri": "https://localhost:8080/"
        },
        "id": "9kPmetKuM6cZ",
        "outputId": "3179a3cc-23e3-416b-cbd0-c11c6a2b7331"
      },
      "source": [
        "spatialite_history"
      ],
      "execution_count": 80,
      "outputs": [
        {
          "output_type": "execute_result",
          "data": {
            "text/plain": [
              "('CREATE TABLE spatialite_history (\\nevent_id INTEGER NOT NULL PRIMARY KEY AUTOINCREMENT,\\ntable_name TEXT NOT NULL,\\ngeometry_column TEXT,\\nevent TEXT NOT NULL,\\ntimestamp TEXT NOT NULL,\\nver_sqlite TEXT NOT NULL,\\nver_splite TEXT NOT NULL)',)"
            ]
          },
          "metadata": {
            "tags": []
          },
          "execution_count": 80
        }
      ]
    },
    {
      "cell_type": "markdown",
      "metadata": {
        "id": "ZYT-ShPWN34u"
      },
      "source": [
        "* event_id\n",
        "* table_name\n",
        "* geometry_column\n",
        "* event\n",
        "* timestamp\n",
        "* ver_splite\n",
        "* ver_splite"
      ]
    },
    {
      "cell_type": "code",
      "metadata": {
        "colab": {
          "base_uri": "https://localhost:8080/"
        },
        "id": "ZFXSM6kxTZkk",
        "outputId": "11eb16a2-7163-45ae-ef26-e6981f841f0f"
      },
      "source": [
        "sqlite_sequence"
      ],
      "execution_count": 81,
      "outputs": [
        {
          "output_type": "execute_result",
          "data": {
            "text/plain": [
              "('CREATE TABLE sqlite_sequence(name,seq)',)"
            ]
          },
          "metadata": {
            "tags": []
          },
          "execution_count": 81
        }
      ]
    },
    {
      "cell_type": "markdown",
      "metadata": {
        "id": "wP2fkk6TTfTx"
      },
      "source": [
        "* name\n",
        "* seq"
      ]
    },
    {
      "cell_type": "code",
      "metadata": {
        "colab": {
          "base_uri": "https://localhost:8080/"
        },
        "id": "Gqt9NAKrTm16",
        "outputId": "171a2d63-85aa-42e2-835e-0687704de711"
      },
      "source": [
        "geometry_columns"
      ],
      "execution_count": 82,
      "outputs": [
        {
          "output_type": "execute_result",
          "data": {
            "text/plain": [
              "('CREATE TABLE geometry_columns (\\nf_table_name TEXT NOT NULL,\\nf_geometry_column TEXT NOT NULL,\\ngeometry_type INTEGER NOT NULL,\\ncoord_dimension INTEGER NOT NULL,\\nsrid INTEGER NOT NULL,\\nspatial_index_enabled INTEGER NOT NULL,\\nCONSTRAINT pk_geom_cols PRIMARY KEY (f_table_name, f_geometry_column),\\nCONSTRAINT fk_gc_srs FOREIGN KEY (srid) REFERENCES spatial_ref_sys (srid),\\nCONSTRAINT ck_gc_rtree CHECK (spatial_index_enabled IN (0,1,2)))',)"
            ]
          },
          "metadata": {
            "tags": []
          },
          "execution_count": 82
        }
      ]
    },
    {
      "cell_type": "markdown",
      "metadata": {
        "id": "Ek5NdQClTrhP"
      },
      "source": [
        "* f_table_name\n",
        "* f_geometry_column\n",
        "* geometry_type\n",
        "* coord_dimension\n",
        "* spatial_index_enabled\n",
        "* srid"
      ]
    },
    {
      "cell_type": "code",
      "metadata": {
        "colab": {
          "base_uri": "https://localhost:8080/"
        },
        "id": "n3xeYlJnUhEK",
        "outputId": "c78f5f0a-6bba-4422-81fe-4cf50bd5a327"
      },
      "source": [
        "spatial_ref_sys_aux"
      ],
      "execution_count": 83,
      "outputs": [
        {
          "output_type": "execute_result",
          "data": {
            "text/plain": [
              "('CREATE TABLE spatial_ref_sys_aux (\\n\\tsrid INTEGER NOT NULL PRIMARY KEY,\\n\\tis_geographic INTEGER,\\n\\thas_flipped_axes INTEGER,\\n\\tspheroid TEXT,\\n\\tprime_meridian TEXT,\\n\\tdatum TEXT,\\n\\tprojection TEXT,\\n\\tunit TEXT,\\n\\taxis_1_name TEXT,\\n\\taxis_1_orientation TEXT,\\n\\taxis_2_name TEXT,\\n\\taxis_2_orientation TEXT,\\n\\tCONSTRAINT fk_sprefsys FOREIGN KEY (srid) \\tREFERENCES spatial_ref_sys (srid))',)"
            ]
          },
          "metadata": {
            "tags": []
          },
          "execution_count": 83
        }
      ]
    },
    {
      "cell_type": "markdown",
      "metadata": {
        "id": "alQgXggbUnIm"
      },
      "source": [
        "* srid\n",
        "* is_geographic\n",
        "* has_flipped_axes\n",
        "* spheroid\n",
        "* prime_meridian\n",
        "* projection\n",
        "* unit\n",
        "* axis_1_name\n",
        "* axis_1_orientation\n",
        "* axis_2_name\n",
        "* axis_2_orientation"
      ]
    },
    {
      "cell_type": "code",
      "metadata": {
        "colab": {
          "base_uri": "https://localhost:8080/"
        },
        "id": "mrtt2Ap3VSWf",
        "outputId": "818f1e71-4c06-4111-c4c9-1112279203b5"
      },
      "source": [
        "views_geometry_columns"
      ],
      "execution_count": 84,
      "outputs": [
        {
          "output_type": "execute_result",
          "data": {
            "text/plain": [
              "('CREATE TABLE views_geometry_columns (\\nview_name TEXT NOT NULL,\\nview_geometry TEXT NOT NULL,\\nview_rowid TEXT NOT NULL,\\nf_table_name TEXT NOT NULL,\\nf_geometry_column TEXT NOT NULL,\\nread_only INTEGER NOT NULL,\\nCONSTRAINT pk_geom_cols_views PRIMARY KEY (view_name, view_geometry),\\nCONSTRAINT fk_views_geom_cols FOREIGN KEY (f_table_name, f_geometry_column) REFERENCES geometry_columns (f_table_name, f_geometry_column) ON DELETE CASCADE,\\nCONSTRAINT ck_vw_rdonly CHECK (read_only IN (0,1)))',)"
            ]
          },
          "metadata": {
            "tags": []
          },
          "execution_count": 84
        }
      ]
    },
    {
      "cell_type": "markdown",
      "metadata": {
        "id": "DnHawEa-VUmM"
      },
      "source": [
        "* view_name\n",
        "* view_geometry\n",
        "* view_rowid\n",
        "* f_table_name\n",
        "* f_geometry_columns\n",
        "* read_only"
      ]
    },
    {
      "cell_type": "code",
      "metadata": {
        "colab": {
          "base_uri": "https://localhost:8080/"
        },
        "id": "id5jJzvhVof0",
        "outputId": "72520341-afd2-4dd9-dd1e-35ce162653ea"
      },
      "source": [
        "virts_geometry_columns"
      ],
      "execution_count": 85,
      "outputs": [
        {
          "output_type": "execute_result",
          "data": {
            "text/plain": [
              "('CREATE TABLE virts_geometry_columns (\\nvirt_name TEXT NOT NULL,\\nvirt_geometry TEXT NOT NULL,\\ngeometry_type INTEGER NOT NULL,\\ncoord_dimension INTEGER NOT NULL,\\nsrid INTEGER NOT NULL,\\nCONSTRAINT pk_geom_cols_virts PRIMARY KEY (virt_name, virt_geometry),\\nCONSTRAINT fk_vgc_srid FOREIGN KEY (srid) REFERENCES spatial_ref_sys (srid))',)"
            ]
          },
          "metadata": {
            "tags": []
          },
          "execution_count": 85
        }
      ]
    },
    {
      "cell_type": "markdown",
      "metadata": {
        "id": "YAIxbZyvVrMe"
      },
      "source": [
        "* virt_name\n",
        "* virt_geometry\n",
        "* geometry_type\n",
        "* coord_dimension\n",
        "* srid"
      ]
    },
    {
      "cell_type": "code",
      "metadata": {
        "colab": {
          "base_uri": "https://localhost:8080/"
        },
        "id": "6fDvKerwV4Wj",
        "outputId": "ea9eb9f6-541a-4396-f503-ad79512be504"
      },
      "source": [
        "geometry_columns_stats"
      ],
      "execution_count": 86,
      "outputs": [
        {
          "output_type": "execute_result",
          "data": {
            "text/plain": [
              "('CREATE TABLE geometry_columns_statistics (\\nf_table_name TEXT NOT NULL,\\nf_geometry_column TEXT NOT NULL,\\nlast_verified TIMESTAMP,\\nrow_count INTEGER,\\nextent_min_x DOUBLE,\\nextent_min_y DOUBLE,\\nextent_max_x DOUBLE,\\nextent_max_y DOUBLE,\\nCONSTRAINT pk_gc_statistics PRIMARY KEY (f_table_name, f_geometry_column),\\nCONSTRAINT fk_gc_statistics FOREIGN KEY (f_table_name, f_geometry_column) REFERENCES geometry_columns (f_table_name, f_geometry_column) ON DELETE CASCADE)',)"
            ]
          },
          "metadata": {
            "tags": []
          },
          "execution_count": 86
        }
      ]
    },
    {
      "cell_type": "markdown",
      "metadata": {
        "id": "9bPUbukYWOjV"
      },
      "source": [
        "* f_table_name\n",
        "* f_geometry_column\n",
        "* last_verified\n",
        "* row_count\n",
        "* extent_min_x\n",
        "* extent_min_y\n",
        "* extent_max_x \n",
        "* extent_max_y \n"
      ]
    },
    {
      "cell_type": "code",
      "metadata": {
        "colab": {
          "base_uri": "https://localhost:8080/"
        },
        "id": "eFgO1LFbWmnV",
        "outputId": "32a911df-be80-4fb6-f63c-2b456b98d207"
      },
      "source": [
        "views_geometry_columns_stats"
      ],
      "execution_count": 87,
      "outputs": [
        {
          "output_type": "execute_result",
          "data": {
            "text/plain": [
              "('CREATE TABLE views_geometry_columns_statistics (\\nview_name TEXT NOT NULL,\\nview_geometry TEXT NOT NULL,\\nlast_verified TIMESTAMP,\\nrow_count INTEGER,\\nextent_min_x DOUBLE,\\nextent_min_y DOUBLE,\\nextent_max_x DOUBLE,\\nextent_max_y DOUBLE,\\nCONSTRAINT pk_vwgc_statistics PRIMARY KEY (view_name, view_geometry),\\nCONSTRAINT fk_vwgc_statistics FOREIGN KEY (view_name, view_geometry) REFERENCES views_geometry_columns (view_name, view_geometry) ON DELETE CASCADE)',)"
            ]
          },
          "metadata": {
            "tags": []
          },
          "execution_count": 87
        }
      ]
    },
    {
      "cell_type": "markdown",
      "metadata": {
        "id": "ICdt1nMyWq4H"
      },
      "source": [
        "* view_name\n",
        "* view_geometry\n",
        "* last_verified\n",
        "* row_count\n",
        "* extent_min_x\n",
        "* extent_min_y\n",
        "* extent_max_x\n",
        "* extent_max_y"
      ]
    },
    {
      "cell_type": "code",
      "metadata": {
        "colab": {
          "base_uri": "https://localhost:8080/"
        },
        "id": "ta6q19bJXCKA",
        "outputId": "5606c419-7b2b-4040-dce9-3e72a5d2385e"
      },
      "source": [
        "virts_geometry_columns_stats"
      ],
      "execution_count": 88,
      "outputs": [
        {
          "output_type": "execute_result",
          "data": {
            "text/plain": [
              "('CREATE TABLE virts_geometry_columns_statistics (\\nvirt_name TEXT NOT NULL,\\nvirt_geometry TEXT NOT NULL,\\nlast_verified TIMESTAMP,\\nrow_count INTEGER,\\nextent_min_x DOUBLE,\\nextent_min_y DOUBLE,\\nextent_max_x DOUBLE,\\nextent_max_y DOUBLE,\\nCONSTRAINT pk_vrtgc_statistics PRIMARY KEY (virt_name, virt_geometry),\\nCONSTRAINT fk_vrtgc_statistics FOREIGN KEY (virt_name, virt_geometry) REFERENCES virts_geometry_columns (virt_name, virt_geometry) ON DELETE CASCADE)',)"
            ]
          },
          "metadata": {
            "tags": []
          },
          "execution_count": 88
        }
      ]
    },
    {
      "cell_type": "markdown",
      "metadata": {
        "id": "dn-o-mduXG04"
      },
      "source": [
        "* virt_name\n",
        "* virt_geometry\n",
        "* last_verified\n",
        "* row_count\n",
        "* extent_min_x\n",
        "* extent_min_y\n",
        "* extent_max_x\n",
        "* extent_max_y"
      ]
    },
    {
      "cell_type": "code",
      "metadata": {
        "colab": {
          "base_uri": "https://localhost:8080/"
        },
        "id": "sdKipERPXlh9",
        "outputId": "8ca1ef84-cc56-4547-f468-916c20d7ae53"
      },
      "source": [
        "geometry_columns_field_infos"
      ],
      "execution_count": 89,
      "outputs": [
        {
          "output_type": "execute_result",
          "data": {
            "text/plain": [
              "('CREATE TABLE geometry_columns_field_infos (\\nf_table_name TEXT NOT NULL,\\nf_geometry_column TEXT NOT NULL,\\nordinal INTEGER NOT NULL,\\ncolumn_name TEXT NOT NULL,\\nnull_values INTEGER NOT NULL,\\ninteger_values INTEGER NOT NULL,\\ndouble_values INTEGER NOT NULL,\\ntext_values INTEGER NOT NULL,\\nblob_values INTEGER NOT NULL,\\nmax_size INTEGER,\\ninteger_min INTEGER,\\ninteger_max INTEGER,\\ndouble_min DOUBLE,\\ndouble_max DOUBLE,\\nCONSTRAINT pk_gcfld_infos PRIMARY KEY (f_table_name, f_geometry_column, ordinal, column_name),\\nCONSTRAINT fk_gcfld_infos FOREIGN KEY (f_table_name, f_geometry_column) REFERENCES geometry_columns (f_table_name, f_geometry_column) ON DELETE CASCADE)',)"
            ]
          },
          "metadata": {
            "tags": []
          },
          "execution_count": 89
        }
      ]
    },
    {
      "cell_type": "markdown",
      "metadata": {
        "id": "5EAl0b3oXpkp"
      },
      "source": [
        "* f_table_name\n",
        "* f_geometry_column\n",
        "* ordinal\n",
        "* column_name\n",
        "* null_values\n",
        "* integer_values\n",
        "* double_values\n",
        "* text_values\n",
        "* blob_values\n",
        "* max_size\n",
        "* integer_max\n",
        "* double_min\n",
        "* double_max"
      ]
    },
    {
      "cell_type": "code",
      "metadata": {
        "colab": {
          "base_uri": "https://localhost:8080/"
        },
        "id": "ce2TVo5SeyWy",
        "outputId": "3d62a615-cab8-418f-991c-7b260212d92f"
      },
      "source": [
        "virts_geometry_columns_field_infos"
      ],
      "execution_count": 92,
      "outputs": [
        {
          "output_type": "execute_result",
          "data": {
            "text/plain": [
              "('CREATE TABLE virts_geometry_columns_field_infos (\\nvirt_name TEXT NOT NULL,\\nvirt_geometry TEXT NOT NULL,\\nordinal INTEGER NOT NULL,\\ncolumn_name TEXT NOT NULL,\\nnull_values INTEGER NOT NULL,\\ninteger_values INTEGER NOT NULL,\\ndouble_values INTEGER NOT NULL,\\ntext_values INTEGER NOT NULL,\\nblob_values INTEGER NOT NULL,\\nmax_size INTEGER,\\ninteger_min INTEGER,\\ninteger_max INTEGER,\\ndouble_min DOUBLE,\\ndouble_max DOUBLE,\\nCONSTRAINT pk_vrtgcfld_infos PRIMARY KEY (virt_name, virt_geometry, ordinal, column_name),\\nCONSTRAINT fk_vrtgcfld_infos FOREIGN KEY (virt_name, virt_geometry) REFERENCES virts_geometry_columns (virt_name, virt_geometry) ON DELETE CASCADE)',)"
            ]
          },
          "metadata": {
            "tags": []
          },
          "execution_count": 92
        }
      ]
    },
    {
      "cell_type": "markdown",
      "metadata": {
        "id": "oIC-sXlVfbC5"
      },
      "source": [
        "* virt_name\n",
        "* virt_geometry\n",
        "* ordinal\n",
        "* column_name\n",
        "* null_values\n",
        "* integer_values\n",
        "* double_values\n",
        "* text_values\n",
        "* blob_values\n",
        "* max_size\n",
        "* integer_min\n",
        "* integer_max\n",
        "* double_min\n",
        "* double_max"
      ]
    },
    {
      "cell_type": "code",
      "metadata": {
        "colab": {
          "base_uri": "https://localhost:8080/"
        },
        "id": "XbA-60mVf0wS",
        "outputId": "4e81d0e7-272a-4fea-9a25-8bef278a0a51"
      },
      "source": [
        "geometry_columns_time"
      ],
      "execution_count": 93,
      "outputs": [
        {
          "output_type": "execute_result",
          "data": {
            "text/plain": [
              "(\"CREATE TABLE geometry_columns_time (\\nf_table_name TEXT NOT NULL,\\nf_geometry_column TEXT NOT NULL,\\nlast_insert TIMESTAMP NOT NULL DEFAULT '0000-01-01T00:00:00.000Z',\\nlast_update TIMESTAMP NOT NULL DEFAULT '0000-01-01T00:00:00.000Z',\\nlast_delete TIMESTAMP NOT NULL DEFAULT '0000-01-01T00:00:00.000Z',\\nCONSTRAINT pk_gc_time PRIMARY KEY (f_table_name, f_geometry_column),\\nCONSTRAINT fk_gc_time FOREIGN KEY (f_table_name, f_geometry_column) REFERENCES geometry_columns (f_table_name, f_geometry_column) ON DELETE CASCADE)\",)"
            ]
          },
          "metadata": {
            "tags": []
          },
          "execution_count": 93
        }
      ]
    },
    {
      "cell_type": "markdown",
      "metadata": {
        "id": "kIRSyFjaf5xA"
      },
      "source": [
        "* f_table_name\n",
        "* f_geometry_column\n",
        "* last_insert\n",
        "* last_update\n",
        "* last_delete"
      ]
    },
    {
      "cell_type": "code",
      "metadata": {
        "colab": {
          "base_uri": "https://localhost:8080/"
        },
        "id": "JRWNr6IegLN3",
        "outputId": "58772a84-2010-4129-9557-dce43133de8e"
      },
      "source": [
        "geometry_columns_auth"
      ],
      "execution_count": 94,
      "outputs": [
        {
          "output_type": "execute_result",
          "data": {
            "text/plain": [
              "('CREATE TABLE geometry_columns_auth (\\nf_table_name TEXT NOT NULL,\\nf_geometry_column TEXT NOT NULL,\\nread_only INTEGER NOT NULL,\\nhidden INTEGER NOT NULL,\\nCONSTRAINT pk_gc_auth PRIMARY KEY (f_table_name, f_geometry_column),\\nCONSTRAINT fk_gc_auth FOREIGN KEY (f_table_name, f_geometry_column) REFERENCES geometry_columns (f_table_name, f_geometry_column) ON DELETE CASCADE,\\nCONSTRAINT ck_gc_ronly CHECK (read_only IN (0,1)),\\nCONSTRAINT ck_gc_hidden CHECK (hidden IN (0,1)))',)"
            ]
          },
          "metadata": {
            "tags": []
          },
          "execution_count": 94
        }
      ]
    },
    {
      "cell_type": "markdown",
      "metadata": {
        "id": "Qi3FR_mCgP3X"
      },
      "source": [
        "* f_table_name\n",
        "* f_geometry_column\n",
        "* read_only\n",
        "* hidden\n"
      ]
    },
    {
      "cell_type": "code",
      "metadata": {
        "id": "yOo9xPucgWey"
      },
      "source": [
        "views_geometry_columns_auth\n",
        "#investigate"
      ],
      "execution_count": 100,
      "outputs": []
    },
    {
      "cell_type": "code",
      "metadata": {
        "colab": {
          "base_uri": "https://localhost:8080/"
        },
        "id": "vpvMbKzdhWXe",
        "outputId": "c63a4ad9-c065-4794-b7fc-ecb0203e2160"
      },
      "source": [
        "virts_geometry_columns_auth"
      ],
      "execution_count": 101,
      "outputs": [
        {
          "output_type": "execute_result",
          "data": {
            "text/plain": [
              "('CREATE TABLE virts_geometry_columns_auth (\\nvirt_name TEXT NOT NULL,\\nvirt_geometry TEXT NOT NULL,\\nhidden INTEGER NOT NULL,\\nCONSTRAINT pk_vrtgc_auth PRIMARY KEY (virt_name, virt_geometry),\\nCONSTRAINT fk_vrtgc_auth FOREIGN KEY (virt_name, virt_geometry) REFERENCES virts_geometry_columns (virt_name, virt_geometry) ON DELETE CASCADE,\\nCONSTRAINT ck_vrtgc_hidden CHECK (hidden IN (0,1)))',)"
            ]
          },
          "metadata": {
            "tags": []
          },
          "execution_count": 101
        }
      ]
    },
    {
      "cell_type": "markdown",
      "metadata": {
        "id": "ICe9HaPXhbbI"
      },
      "source": [
        "* virt_name\n",
        "* virt_geometry\n",
        "* hidden"
      ]
    },
    {
      "cell_type": "code",
      "metadata": {
        "colab": {
          "base_uri": "https://localhost:8080/"
        },
        "id": "_nu6YEDfhh3E",
        "outputId": "9d859ba3-287d-4fec-c213-7802f82bfcce"
      },
      "source": [
        "sql_statements_log"
      ],
      "execution_count": 102,
      "outputs": [
        {
          "output_type": "execute_result",
          "data": {
            "text/plain": [
              "(\"CREATE TABLE sql_statements_log (\\nid INTEGER PRIMARY KEY AUTOINCREMENT,\\ntime_start TIMESTAMP NOT NULL DEFAULT '0000-01-01T00:00:00.000Z',\\ntime_end TIMESTAMP NOT NULL DEFAULT '0000-01-01T00:00:00.000Z',\\nuser_agent TEXT NOT NULL,\\nsql_statement TEXT NOT NULL,\\nsuccess INTEGER NOT NULL DEFAULT 0,\\nerror_cause TEXT NOT NULL DEFAULT 'ABORTED',\\nCONSTRAINT sqllog_success CHECK (success IN (0,1)))\",)"
            ]
          },
          "metadata": {
            "tags": []
          },
          "execution_count": 102
        }
      ]
    },
    {
      "cell_type": "markdown",
      "metadata": {
        "id": "ft-R8V16hkU5"
      },
      "source": [
        "* id\n",
        "* time_start\n",
        "* time_end\n",
        "* user_agent\n",
        "* sql_statement\n",
        "* success\n",
        "* error_cause"
      ]
    },
    {
      "cell_type": "code",
      "metadata": {
        "colab": {
          "base_uri": "https://localhost:8080/"
        },
        "id": "NccX0jXXh5tC",
        "outputId": "50503f4a-3540-4318-af26-39f82120eb82"
      },
      "source": [
        "spatial_index"
      ],
      "execution_count": 103,
      "outputs": [
        {
          "output_type": "execute_result",
          "data": {
            "text/plain": [
              "('CREATE VIRTUAL TABLE SpatialIndex USING VirtualSpatialIndex()',)"
            ]
          },
          "metadata": {
            "tags": []
          },
          "execution_count": 103
        }
      ]
    },
    {
      "cell_type": "code",
      "metadata": {
        "colab": {
          "base_uri": "https://localhost:8080/"
        },
        "id": "JuGMHj7diAKY",
        "outputId": "4d68dba1-bfb5-43a9-9338-e7381bea9c2b"
      },
      "source": [
        "elementary_geometries"
      ],
      "execution_count": 104,
      "outputs": [
        {
          "output_type": "execute_result",
          "data": {
            "text/plain": [
              "('CREATE VIRTUAL TABLE ElementaryGeometries USING VirtualElementary()',)"
            ]
          },
          "metadata": {
            "tags": []
          },
          "execution_count": 104
        }
      ]
    },
    {
      "cell_type": "code",
      "metadata": {
        "colab": {
          "base_uri": "https://localhost:8080/"
        },
        "id": "1ejVI4djiFUa",
        "outputId": "aa5315f3-6201-4de2-e045-c433fdd510b5"
      },
      "source": [
        "knn"
      ],
      "execution_count": 105,
      "outputs": [
        {
          "output_type": "execute_result",
          "data": {
            "text/plain": [
              "('CREATE VIRTUAL TABLE KNN USING VirtualKNN()',)"
            ]
          },
          "metadata": {
            "tags": []
          },
          "execution_count": 105
        }
      ]
    },
    {
      "cell_type": "code",
      "metadata": {
        "colab": {
          "base_uri": "https://localhost:8080/"
        },
        "id": "SdXiTmm0iG0f",
        "outputId": "7e8eed51-ccd7-48cd-d992-cf4b4682ca75"
      },
      "source": [
        "fires"
      ],
      "execution_count": 106,
      "outputs": [
        {
          "output_type": "execute_result",
          "data": {
            "text/plain": [
              "(\"CREATE TABLE Fires (OBJECTID integer primary key autoincrement not null, FOD_ID int32 check((typeof(FOD_ID) = 'integer' or typeof(FOD_ID) = 'null') and FOD_ID >= -2147483648 and FOD_ID <= 2147483647), FPA_ID text(100) check((typeof(FPA_ID) = 'text' or typeof(FPA_ID) = 'null') and not length(FPA_ID) > 100), SOURCE_SYSTEM_TYPE text(255) check((typeof(SOURCE_SYSTEM_TYPE) = 'text' or typeof(SOURCE_SYSTEM_TYPE) = 'null') and not length(SOURCE_SYSTEM_TYPE) > 255), SOURCE_SYSTEM text(30) check((typeof(SOURCE_SYSTEM) = 'text' or typeof(SOURCE_SYSTEM) = 'null') and not length(SOURCE_SYSTEM) > 30), NWCG_REPORTING_AGENCY text(255) check((typeof(NWCG_REPORTING_AGENCY) = 'text' or typeof(NWCG_REPORTING_AGENCY) = 'null') and not length(NWCG_REPORTING_AGENCY) > 255), NWCG_REPORTING_UNIT_ID text(255) check((typeof(NWCG_REPORTING_UNIT_ID) = 'text' or typeof(NWCG_REPORTING_UNIT_ID) = 'null') and not length(NWCG_REPORTING_UNIT_ID) > 255), NWCG_REPORTING_UNIT_NAME text(255) check((typeof(NWCG_REPORTING_UNIT_NAME) = 'text' or typeof(NWCG_REPORTING_UNIT_NAME) = 'null') and not length(NWCG_REPORTING_UNIT_NAME) > 255), SOURCE_REPORTING_UNIT text(30) check((typeof(SOURCE_REPORTING_UNIT) = 'text' or typeof(SOURCE_REPORTING_UNIT) = 'null') and not length(SOURCE_REPORTING_UNIT) > 30), SOURCE_REPORTING_UNIT_NAME text(255) check((typeof(SOURCE_REPORTING_UNIT_NAME) = 'text' or typeof(SOURCE_REPORTING_UNIT_NAME) = 'null') and not length(SOURCE_REPORTING_UNIT_NAME) > 255), LOCAL_FIRE_REPORT_ID text(255) check((typeof(LOCAL_FIRE_REPORT_ID) = 'text' or typeof(LOCAL_FIRE_REPORT_ID) = 'null') and not length(LOCAL_FIRE_REPORT_ID) > 255), LOCAL_INCIDENT_ID text(255) check((typeof(LOCAL_INCIDENT_ID) = 'text' or typeof(LOCAL_INCIDENT_ID) = 'null') and not length(LOCAL_INCIDENT_ID) > 255), FIRE_CODE text(10) check((typeof(FIRE_CODE) = 'text' or typeof(FIRE_CODE) = 'null') and not length(FIRE_CODE) > 10), FIRE_NAME text(255) check((typeof(FIRE_NAME) = 'text' or typeof(FIRE_NAME) = 'null') and not length(FIRE_NAME) > 255), ICS_209_INCIDENT_NUMBER text(255) check((typeof(ICS_209_INCIDENT_NUMBER) = 'text' or typeof(ICS_209_INCIDENT_NUMBER) = 'null') and not length(ICS_209_INCIDENT_NUMBER) > 255), ICS_209_NAME text(255) check((typeof(ICS_209_NAME) = 'text' or typeof(ICS_209_NAME) = 'null') and not length(ICS_209_NAME) > 255), MTBS_ID text(255) check((typeof(MTBS_ID) = 'text' or typeof(MTBS_ID) = 'null') and not length(MTBS_ID) > 255), MTBS_FIRE_NAME text(50) check((typeof(MTBS_FIRE_NAME) = 'text' or typeof(MTBS_FIRE_NAME) = 'null') and not length(MTBS_FIRE_NAME) > 50), COMPLEX_NAME text(255) check((typeof(COMPLEX_NAME) = 'text' or typeof(COMPLEX_NAME) = 'null') and not length(COMPLEX_NAME) > 255), FIRE_YEAR int16 check((typeof(FIRE_YEAR) = 'integer' or typeof(FIRE_YEAR) = 'null') and FIRE_YEAR >= -32768 and FIRE_YEAR <= 32767), DISCOVERY_DATE realdate check((typeof(DISCOVERY_DATE) = 'real' or typeof(DISCOVERY_DATE) = 'null') and DISCOVERY_DATE >= 0.0), DISCOVERY_DOY int32 check((typeof(DISCOVERY_DOY) = 'integer' or typeof(DISCOVERY_DOY) = 'null') and DISCOVERY_DOY >= -2147483648 and DISCOVERY_DOY <= 2147483647), DISCOVERY_TIME text(4) check((typeof(DISCOVERY_TIME) = 'text' or typeof(DISCOVERY_TIME) = 'null') and not length(DISCOVERY_TIME) > 4), STAT_CAUSE_CODE float64 check(typeof(STAT_CAUSE_CODE) = 'real' or typeof(STAT_CAUSE_CODE) = 'null'), STAT_CAUSE_DESCR text(100) check((typeof(STAT_CAUSE_DESCR) = 'text' or typeof(STAT_CAUSE_DESCR) = 'null') and not length(STAT_CAUSE_DESCR) > 100), CONT_DATE realdate check((typeof(CONT_DATE) = 'real' or typeof(CONT_DATE) = 'null') and CONT_DATE >= 0.0), CONT_DOY int32 check((typeof(CONT_DOY) = 'integer' or typeof(CONT_DOY) = 'null') and CONT_DOY >= -2147483648 and CONT_DOY <= 2147483647), CONT_TIME text(4) check((typeof(CONT_TIME) = 'text' or typeof(CONT_TIME) = 'null') and not length(CONT_TIME) > 4), FIRE_SIZE float64 check(typeof(FIRE_SIZE) = 'real' or typeof(FIRE_SIZE) = 'null'), FIRE_SIZE_CLASS text(1) check((typeof(FIRE_SIZE_CLASS) = 'text' or typeof(FIRE_SIZE_CLASS) = 'null') and not length(FIRE_SIZE_CLASS) > 1), LATITUDE float64 check(typeof(LATITUDE) = 'real' or typeof(LATITUDE) = 'null'), LONGITUDE float64 check(typeof(LONGITUDE) = 'real' or typeof(LONGITUDE) = 'null'), OWNER_CODE float64 check(typeof(OWNER_CODE) = 'real' or typeof(OWNER_CODE) = 'null'), OWNER_DESCR text(100) check((typeof(OWNER_DESCR) = 'text' or typeof(OWNER_DESCR) = 'null') and not length(OWNER_DESCR) > 100), STATE text(255) check((typeof(STATE) = 'text' or typeof(STATE) = 'null') and not length(STATE) > 255), COUNTY text(255) check((typeof(COUNTY) = 'text' or typeof(COUNTY) = 'null') and not length(COUNTY) > 255), FIPS_CODE text(255) check((typeof(FIPS_CODE) = 'text' or typeof(FIPS_CODE) = 'null') and not length(FIPS_CODE) > 255), FIPS_NAME text(255) check((typeof(FIPS_NAME) = 'text' or typeof(FIPS_NAME) = 'null') and not length(FIPS_NAME) > 255), Shape POINT not null)\",)"
            ]
          },
          "metadata": {
            "tags": []
          },
          "execution_count": 106
        }
      ]
    },
    {
      "cell_type": "code",
      "metadata": {
        "colab": {
          "base_uri": "https://localhost:8080/"
        },
        "id": "nRe0pO7OiQia",
        "outputId": "8c093aa0-a81d-4cc8-e1e9-662aa1c9a250"
      },
      "source": [
        "idx_fires_shape"
      ],
      "execution_count": 107,
      "outputs": [
        {
          "output_type": "execute_result",
          "data": {
            "text/plain": [
              "('CREATE VIRTUAL TABLE \"idx_Fires_Shape\" USING rtree(pkid, xmin, xmax, ymin, ymax)',)"
            ]
          },
          "metadata": {
            "tags": []
          },
          "execution_count": 107
        }
      ]
    },
    {
      "cell_type": "code",
      "metadata": {
        "colab": {
          "base_uri": "https://localhost:8080/"
        },
        "id": "I3K7JOS3iST1",
        "outputId": "3852933f-572a-48bc-a589-1050503e5a45"
      },
      "source": [
        "idx_fires_shape_node"
      ],
      "execution_count": 108,
      "outputs": [
        {
          "output_type": "execute_result",
          "data": {
            "text/plain": [
              "('CREATE TABLE \"idx_Fires_Shape_node\"(nodeno INTEGER PRIMARY KEY, data BLOB)',)"
            ]
          },
          "metadata": {
            "tags": []
          },
          "execution_count": 108
        }
      ]
    },
    {
      "cell_type": "code",
      "metadata": {
        "colab": {
          "base_uri": "https://localhost:8080/"
        },
        "id": "w77Aeq_2iVMb",
        "outputId": "73a56a2f-ae5f-493b-ce5b-fe64dfdca8c7"
      },
      "source": [
        "idx_fires_shape_rowid"
      ],
      "execution_count": 109,
      "outputs": [
        {
          "output_type": "execute_result",
          "data": {
            "text/plain": [
              "('CREATE TABLE \"idx_Fires_Shape_rowid\"(rowid INTEGER PRIMARY KEY, nodeno INTEGER)',)"
            ]
          },
          "metadata": {
            "tags": []
          },
          "execution_count": 109
        }
      ]
    },
    {
      "cell_type": "code",
      "metadata": {
        "colab": {
          "base_uri": "https://localhost:8080/"
        },
        "id": "sqaywwQ8iXuW",
        "outputId": "f4a5e58b-4bc4-4329-decf-21df41adca5f"
      },
      "source": [
        "idx_fires_shape_parent"
      ],
      "execution_count": 110,
      "outputs": [
        {
          "output_type": "execute_result",
          "data": {
            "text/plain": [
              "('CREATE TABLE \"idx_Fires_Shape_parent\"(nodeno INTEGER PRIMARY KEY, parentnode INTEGER)',)"
            ]
          },
          "metadata": {
            "tags": []
          },
          "execution_count": 110
        }
      ]
    },
    {
      "cell_type": "markdown",
      "metadata": {
        "id": "CzKpWNBricJK"
      },
      "source": [
        "Next steps: \n",
        "* investigate virtual tables\n",
        "* investigate views_geometry_columns_auth\n",
        "* move on to creating schema"
      ]
    }
  ]
}