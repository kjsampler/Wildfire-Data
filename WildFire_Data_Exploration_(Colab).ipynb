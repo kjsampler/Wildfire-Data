{
  "nbformat": 4,
  "nbformat_minor": 0,
  "metadata": {
    "colab": {
      "name": "WildFire Data Exploration (Colab).ipynb",
      "provenance": [],
      "mount_file_id": "1pO4K6JqeO2cx_wDynmS_65ape_Mcpj95",
      "authorship_tag": "ABX9TyNZxyBu2EkR06QJn6mO16Ur",
      "include_colab_link": true
    },
    "kernelspec": {
      "name": "python3",
      "display_name": "Python 3"
    },
    "language_info": {
      "name": "python"
    }
  },
  "cells": [
    {
      "cell_type": "markdown",
      "metadata": {
        "id": "view-in-github",
        "colab_type": "text"
      },
      "source": [
        "<a href=\"https://colab.research.google.com/github/kjsampler/Wildfire-Data/blob/main/WildFire_Data_Exploration_(Colab).ipynb\" target=\"_parent\"><img src=\"https://colab.research.google.com/assets/colab-badge.svg\" alt=\"Open In Colab\"/></a>"
      ]
    },
    {
      "cell_type": "markdown",
      "metadata": {
        "id": "NBmcbqDcgRpr"
      },
      "source": [
        "This notebook will be used to explore the wildfire dataset, and trim it down to what is necessary in order to avoid pushing a large file to GitHub. "
      ]
    },
    {
      "cell_type": "code",
      "metadata": {
        "id": "o8twiRp7giOc"
      },
      "source": [
        "#https://www.kaggle.com/rtatman/188-million-us-wildfires\n",
        "#Located in MyDrive"
      ],
      "execution_count": 1,
      "outputs": []
    },
    {
      "cell_type": "code",
      "metadata": {
        "id": "yo4Z-H5ikt9Q"
      },
      "source": [
        "#!unzip /content/drive/MyDrive/archive.zip -d /content/drive/MyDrive/WildfireData\n",
        "# line to unzip and redirect data (commented out once completed)"
      ],
      "execution_count": 2,
      "outputs": []
    },
    {
      "cell_type": "code",
      "metadata": {
        "id": "Rb0vaxMbduBL"
      },
      "source": [
        "import sqlite3"
      ],
      "execution_count": 3,
      "outputs": []
    },
    {
      "cell_type": "code",
      "metadata": {
        "id": "VqCJeEiPfcny"
      },
      "source": [
        "conn = sqlite3.connect('/content/drive/MyDrive/WildfireData/FPA_FOD_20170508.sqlite')\n",
        "c = conn.cursor()"
      ],
      "execution_count": 4,
      "outputs": []
    },
    {
      "cell_type": "markdown",
      "metadata": {
        "id": "6iHNPsgREu5W"
      },
      "source": [
        "# Analyze Schema\n",
        "Schema is first marked down on paper and then organized into a visualization. "
      ]
    },
    {
      "cell_type": "code",
      "metadata": {
        "id": "vsUZ1vNwkFaQ"
      },
      "source": [
        "c.execute(\"\"\"SELECT name FROM sqlite_master WHERE type = 'table';\"\"\")\n",
        "table_names = c.fetchall()"
      ],
      "execution_count": 5,
      "outputs": []
    },
    {
      "cell_type": "code",
      "metadata": {
        "colab": {
          "base_uri": "https://localhost:8080/"
        },
        "id": "o3bOVXrud_iq",
        "outputId": "b4822373-af9b-43d7-b6b5-ae30195c1e17"
      },
      "source": [
        "table_names"
      ],
      "execution_count": 6,
      "outputs": [
        {
          "output_type": "execute_result",
          "data": {
            "text/plain": [
              "[('spatial_ref_sys',),\n",
              " ('spatialite_history',),\n",
              " ('sqlite_sequence',),\n",
              " ('geometry_columns',),\n",
              " ('spatial_ref_sys_aux',),\n",
              " ('views_geometry_columns',),\n",
              " ('virts_geometry_columns',),\n",
              " ('geometry_columns_statistics',),\n",
              " ('views_geometry_columns_statistics',),\n",
              " ('virts_geometry_columns_statistics',),\n",
              " ('geometry_columns_field_infos',),\n",
              " ('views_geometry_columns_field_infos',),\n",
              " ('virts_geometry_columns_field_infos',),\n",
              " ('geometry_columns_time',),\n",
              " ('geometry_columns_auth',),\n",
              " ('views_geometry_columns_auth',),\n",
              " ('virts_geometry_columns_auth',),\n",
              " ('sql_statements_log',),\n",
              " ('SpatialIndex',),\n",
              " ('ElementaryGeometries',),\n",
              " ('KNN',),\n",
              " ('Fires',),\n",
              " ('idx_Fires_Shape',),\n",
              " ('idx_Fires_Shape_node',),\n",
              " ('idx_Fires_Shape_rowid',),\n",
              " ('idx_Fires_Shape_parent',),\n",
              " ('NWCG_UnitIDActive_20170109',)]"
            ]
          },
          "metadata": {
            "tags": []
          },
          "execution_count": 6
        }
      ]
    },
    {
      "cell_type": "code",
      "metadata": {
        "id": "8-q1XFdcfJwq"
      },
      "source": [
        "spatial_ref_sys = c.execute(\"\"\"SELECT sql FROM sqlite_master WHERE type = 'table' AND name = 'spatial_ref_sys';\"\"\").fetchone()"
      ],
      "execution_count": 7,
      "outputs": []
    },
    {
      "cell_type": "code",
      "metadata": {
        "id": "OzAeeCG9Fi4s"
      },
      "source": [
        "spatialite_history = c.execute(\"\"\"SELECT sql FROM sqlite_master WHERE type = 'table' AND name = 'spatialite_history';\"\"\").fetchone()"
      ],
      "execution_count": 8,
      "outputs": []
    },
    {
      "cell_type": "code",
      "metadata": {
        "id": "SVCUf2R5HCEp"
      },
      "source": [
        "sqlite_sequence = c.execute(\"\"\"SELECT sql FROM sqlite_master WHERE type = 'table' AND name = 'sqlite_sequence';\"\"\").fetchone()"
      ],
      "execution_count": 9,
      "outputs": []
    },
    {
      "cell_type": "code",
      "metadata": {
        "id": "HIW6b8JCJA1E"
      },
      "source": [
        "geometry_columns = c.execute(\"\"\"SELECT sql FROM sqlite_master WHERE type = 'table' AND name = 'geometry_columns';\"\"\").fetchone()"
      ],
      "execution_count": 10,
      "outputs": []
    },
    {
      "cell_type": "code",
      "metadata": {
        "id": "o5ps_4_NDVvS"
      },
      "source": [
        "spatial_ref_sys_aux = c.execute(\"\"\"SELECT sql FROM sqlite_master WHERE type = 'table' AND name = 'spatial_ref_sys_aux';\"\"\").fetchone()"
      ],
      "execution_count": 11,
      "outputs": []
    },
    {
      "cell_type": "code",
      "metadata": {
        "id": "zQlV_A7wEigW"
      },
      "source": [
        "views_geometry_columns = c.execute(\"\"\"SELECT sql FROM sqlite_master WHERE type = 'table' AND name = 'views_geometry_columns';\"\"\").fetchone()"
      ],
      "execution_count": 12,
      "outputs": []
    },
    {
      "cell_type": "code",
      "metadata": {
        "id": "zep_n864E2U0"
      },
      "source": [
        "virts_geometry_columns = c.execute(\"\"\"SELECT sql FROM sqlite_master WHERE type = 'table' AND name = 'virts_geometry_columns';\"\"\").fetchone()"
      ],
      "execution_count": 13,
      "outputs": []
    },
    {
      "cell_type": "code",
      "metadata": {
        "id": "5uKUbgW0FBRk"
      },
      "source": [
        "geometry_columns_stats = c.execute(\"\"\"SELECT sql FROM sqlite_master WHERE type = 'table' AND name = 'geometry_columns_statistics';\"\"\").fetchone()"
      ],
      "execution_count": 14,
      "outputs": []
    },
    {
      "cell_type": "code",
      "metadata": {
        "id": "zAKhN7oWFMH3"
      },
      "source": [
        "views_geometry_columns_stats = c.execute(\"\"\"SELECT sql FROM sqlite_master WHERE type = 'table' AND name = 'views_geometry_columns_statistics';\"\"\").fetchone()"
      ],
      "execution_count": 15,
      "outputs": []
    },
    {
      "cell_type": "code",
      "metadata": {
        "id": "5Xr5dFZHFbGU"
      },
      "source": [
        "virts_geometry_columns_stats = c.execute(\"\"\"SELECT sql FROM sqlite_master WHERE type = 'table' AND name = 'virts_geometry_columns_statistics';\"\"\").fetchone()"
      ],
      "execution_count": 16,
      "outputs": []
    },
    {
      "cell_type": "code",
      "metadata": {
        "id": "QPDMwfJeFmFy"
      },
      "source": [
        "geometry_columns_field_infos = c.execute(\"\"\"SELECT sql FROM sqlite_master WHERE type = 'table' AND name = 'geometry_columns_field_infos';\"\"\").fetchone()"
      ],
      "execution_count": 17,
      "outputs": []
    },
    {
      "cell_type": "code",
      "metadata": {
        "id": "yBPHHGeFFzqK"
      },
      "source": [
        "views_geometry_columns_field_infos = c.execute(\"\"\"SELECT sql FROM sqlite_master WHERE type = 'table' AND name = 'views_geometry_columns_field_infos';\"\"\").fetchone()"
      ],
      "execution_count": 18,
      "outputs": []
    },
    {
      "cell_type": "code",
      "metadata": {
        "id": "OYQ-vFT9F-15"
      },
      "source": [
        "virts_geometry_columns_field_infos = c.execute(\"\"\"SELECT sql FROM sqlite_master WHERE type = 'table' AND name = 'virts_geometry_columns_field_infos';\"\"\").fetchone()"
      ],
      "execution_count": 19,
      "outputs": []
    },
    {
      "cell_type": "code",
      "metadata": {
        "id": "HfIYO2x1GLOb"
      },
      "source": [
        "geometry_columns_time = c.execute(\"\"\"SELECT sql FROM sqlite_master WHERE type = 'table' AND name = 'geometry_columns_time';\"\"\").fetchone()"
      ],
      "execution_count": 20,
      "outputs": []
    },
    {
      "cell_type": "code",
      "metadata": {
        "id": "WxiZmLo4GTVW"
      },
      "source": [
        "geometry_columns_auth = c.execute(\"\"\"SELECT sql FROM sqlite_master WHERE type = 'table' AND name = 'geometry_columns_auth';\"\"\").fetchone()"
      ],
      "execution_count": 21,
      "outputs": []
    },
    {
      "cell_type": "code",
      "metadata": {
        "id": "Y18VV9eKGcLe"
      },
      "source": [
        "views_geometry_columns_auth = c.execute(\"\"\"SELECT sql FROM sqlite_master WHERE type = 'table' AND name = 'views_geometry_columns_auth';\"\"\").fetchone()"
      ],
      "execution_count": 22,
      "outputs": []
    },
    {
      "cell_type": "code",
      "metadata": {
        "id": "scRgswpsGsvX"
      },
      "source": [
        "virts_geometry_columns_auth = c.execute(\"\"\"SELECT sql FROM sqlite_master WHERE type = 'table' AND name = 'virts_geometry_columns_auth';\"\"\").fetchone()"
      ],
      "execution_count": 23,
      "outputs": []
    },
    {
      "cell_type": "code",
      "metadata": {
        "id": "CAc5UdL7I9q2"
      },
      "source": [
        "sql_statements_log = c.execute(\"\"\"SELECT sql FROM sqlite_master WHERE type = 'table' AND name = 'sql_statements_log';\"\"\").fetchone()"
      ],
      "execution_count": 24,
      "outputs": []
    },
    {
      "cell_type": "code",
      "metadata": {
        "id": "pYfBO9TaJFw2"
      },
      "source": [
        "spatial_index = c.execute(\"\"\"SELECT sql FROM sqlite_master WHERE type = 'table' AND name = 'SpatialIndex';\"\"\").fetchone()"
      ],
      "execution_count": 25,
      "outputs": []
    },
    {
      "cell_type": "code",
      "metadata": {
        "id": "ZEwHqqehJLob"
      },
      "source": [
        "elementary_geometries = c.execute(\"\"\"SELECT sql FROM sqlite_master WHERE type = 'table' AND name = 'ElementaryGeometries';\"\"\").fetchone()"
      ],
      "execution_count": 26,
      "outputs": []
    },
    {
      "cell_type": "code",
      "metadata": {
        "id": "YwjSg3ZkJWbN"
      },
      "source": [
        "knn = c.execute(\"\"\"SELECT sql FROM sqlite_master WHERE type = 'table' AND name = 'KNN';\"\"\").fetchone()"
      ],
      "execution_count": 27,
      "outputs": []
    },
    {
      "cell_type": "code",
      "metadata": {
        "id": "5HnfdCfEJmX_"
      },
      "source": [
        "fires = c.execute(\"\"\"SELECT sql FROM sqlite_master WHERE type = 'table' AND name = 'Fires';\"\"\").fetchone()"
      ],
      "execution_count": 28,
      "outputs": []
    },
    {
      "cell_type": "code",
      "metadata": {
        "id": "BtUF0_VmJr5Y"
      },
      "source": [
        "idx_fires_shape = c.execute(\"\"\"SELECT sql FROM sqlite_master WHERE type = 'table' AND name = 'idx_Fires_Shape';\"\"\").fetchone()"
      ],
      "execution_count": 29,
      "outputs": []
    },
    {
      "cell_type": "code",
      "metadata": {
        "id": "9VgD8RI_J6W-"
      },
      "source": [
        "idx_fires_shape_node = c.execute(\"\"\"SELECT sql FROM sqlite_master WHERE type = 'table' AND name = 'idx_Fires_Shape_node';\"\"\").fetchone()"
      ],
      "execution_count": 30,
      "outputs": []
    },
    {
      "cell_type": "code",
      "metadata": {
        "id": "Fx6y4_IsKCuU"
      },
      "source": [
        "idx_fires_shape_rowid = c.execute(\"\"\"SELECT sql FROM sqlite_master WHERE type = 'table' AND name = 'idx_Fires_Shape_rowid';\"\"\").fetchone()"
      ],
      "execution_count": 31,
      "outputs": []
    },
    {
      "cell_type": "code",
      "metadata": {
        "id": "_82SU5mDKJ-s"
      },
      "source": [
        "idx_fires_shape_parent = c.execute(\"\"\"SELECT sql FROM sqlite_master WHERE type = 'table' AND name = 'idx_Fires_Shape_parent';\"\"\").fetchone()"
      ],
      "execution_count": 32,
      "outputs": []
    },
    {
      "cell_type": "code",
      "metadata": {
        "id": "pqBEWYevDsgk"
      },
      "source": [
        "NWCG_UnitIDActive_20170109 = c.execute(\"\"\"SELECT sql FROM sqlite_master WHERE type = 'table' AND name = 'NWCG_UnitIDActive_20170109';\"\"\").fetchone()"
      ],
      "execution_count": 33,
      "outputs": []
    },
    {
      "cell_type": "code",
      "metadata": {
        "colab": {
          "base_uri": "https://localhost:8080/"
        },
        "id": "KQ0bK4JyKfTd",
        "outputId": "eccad20a-7351-42ac-9e43-46045530d1cd"
      },
      "source": [
        "spatial_ref_sys"
      ],
      "execution_count": 34,
      "outputs": [
        {
          "output_type": "execute_result",
          "data": {
            "text/plain": [
              "(\"CREATE TABLE spatial_ref_sys (\\nsrid INTEGER NOT NULL PRIMARY KEY,\\nauth_name TEXT NOT NULL,\\nauth_srid INTEGER NOT NULL,\\nref_sys_name TEXT NOT NULL DEFAULT 'Unknown',\\nproj4text TEXT NOT NULL,\\nsrtext TEXT NOT NULL DEFAULT 'Undefined')\",)"
            ]
          },
          "metadata": {
            "tags": []
          },
          "execution_count": 34
        }
      ]
    },
    {
      "cell_type": "markdown",
      "metadata": {
        "id": "8uWupFW7NelL"
      },
      "source": [
        "* srid\n",
        "* auth_name\n",
        "* auth_srid\n",
        "* nref_sys_name\n",
        "* nproj4text\n",
        "* srtext"
      ]
    },
    {
      "cell_type": "code",
      "metadata": {
        "colab": {
          "base_uri": "https://localhost:8080/"
        },
        "id": "9kPmetKuM6cZ",
        "outputId": "20cbe5da-859e-47cd-b14a-9c0307cf8900"
      },
      "source": [
        "spatialite_history"
      ],
      "execution_count": 35,
      "outputs": [
        {
          "output_type": "execute_result",
          "data": {
            "text/plain": [
              "('CREATE TABLE spatialite_history (\\nevent_id INTEGER NOT NULL PRIMARY KEY AUTOINCREMENT,\\ntable_name TEXT NOT NULL,\\ngeometry_column TEXT,\\nevent TEXT NOT NULL,\\ntimestamp TEXT NOT NULL,\\nver_sqlite TEXT NOT NULL,\\nver_splite TEXT NOT NULL)',)"
            ]
          },
          "metadata": {
            "tags": []
          },
          "execution_count": 35
        }
      ]
    },
    {
      "cell_type": "markdown",
      "metadata": {
        "id": "ZYT-ShPWN34u"
      },
      "source": [
        "* event_id\n",
        "* table_name\n",
        "* geometry_column\n",
        "* event\n",
        "* timestamp\n",
        "* ver_splite\n",
        "* ver_splite"
      ]
    },
    {
      "cell_type": "code",
      "metadata": {
        "colab": {
          "base_uri": "https://localhost:8080/"
        },
        "id": "ZFXSM6kxTZkk",
        "outputId": "f1e23a93-f494-415a-e5e8-b17de897520a"
      },
      "source": [
        "sqlite_sequence"
      ],
      "execution_count": 36,
      "outputs": [
        {
          "output_type": "execute_result",
          "data": {
            "text/plain": [
              "('CREATE TABLE sqlite_sequence(name,seq)',)"
            ]
          },
          "metadata": {
            "tags": []
          },
          "execution_count": 36
        }
      ]
    },
    {
      "cell_type": "markdown",
      "metadata": {
        "id": "wP2fkk6TTfTx"
      },
      "source": [
        "* name\n",
        "* seq"
      ]
    },
    {
      "cell_type": "code",
      "metadata": {
        "colab": {
          "base_uri": "https://localhost:8080/"
        },
        "id": "Gqt9NAKrTm16",
        "outputId": "0724ac85-c37f-4941-c1a0-6923cabe18ce"
      },
      "source": [
        "geometry_columns"
      ],
      "execution_count": 37,
      "outputs": [
        {
          "output_type": "execute_result",
          "data": {
            "text/plain": [
              "('CREATE TABLE geometry_columns (\\nf_table_name TEXT NOT NULL,\\nf_geometry_column TEXT NOT NULL,\\ngeometry_type INTEGER NOT NULL,\\ncoord_dimension INTEGER NOT NULL,\\nsrid INTEGER NOT NULL,\\nspatial_index_enabled INTEGER NOT NULL,\\nCONSTRAINT pk_geom_cols PRIMARY KEY (f_table_name, f_geometry_column),\\nCONSTRAINT fk_gc_srs FOREIGN KEY (srid) REFERENCES spatial_ref_sys (srid),\\nCONSTRAINT ck_gc_rtree CHECK (spatial_index_enabled IN (0,1,2)))',)"
            ]
          },
          "metadata": {
            "tags": []
          },
          "execution_count": 37
        }
      ]
    },
    {
      "cell_type": "markdown",
      "metadata": {
        "id": "Ek5NdQClTrhP"
      },
      "source": [
        "* f_table_name\n",
        "* f_geometry_column\n",
        "* geometry_type\n",
        "* coord_dimension\n",
        "* spatial_index_enabled\n",
        "* srid"
      ]
    },
    {
      "cell_type": "code",
      "metadata": {
        "colab": {
          "base_uri": "https://localhost:8080/"
        },
        "id": "n3xeYlJnUhEK",
        "outputId": "b79ec781-f1ea-4b63-bfad-3ddd2fccbde5"
      },
      "source": [
        "spatial_ref_sys_aux"
      ],
      "execution_count": 38,
      "outputs": [
        {
          "output_type": "execute_result",
          "data": {
            "text/plain": [
              "('CREATE TABLE spatial_ref_sys_aux (\\n\\tsrid INTEGER NOT NULL PRIMARY KEY,\\n\\tis_geographic INTEGER,\\n\\thas_flipped_axes INTEGER,\\n\\tspheroid TEXT,\\n\\tprime_meridian TEXT,\\n\\tdatum TEXT,\\n\\tprojection TEXT,\\n\\tunit TEXT,\\n\\taxis_1_name TEXT,\\n\\taxis_1_orientation TEXT,\\n\\taxis_2_name TEXT,\\n\\taxis_2_orientation TEXT,\\n\\tCONSTRAINT fk_sprefsys FOREIGN KEY (srid) \\tREFERENCES spatial_ref_sys (srid))',)"
            ]
          },
          "metadata": {
            "tags": []
          },
          "execution_count": 38
        }
      ]
    },
    {
      "cell_type": "markdown",
      "metadata": {
        "id": "alQgXggbUnIm"
      },
      "source": [
        "* srid\n",
        "* is_geographic\n",
        "* has_flipped_axes\n",
        "* spheroid\n",
        "* prime_meridian\n",
        "* projection\n",
        "* unit\n",
        "* axis_1_name\n",
        "* axis_1_orientation\n",
        "* axis_2_name\n",
        "* axis_2_orientation"
      ]
    },
    {
      "cell_type": "code",
      "metadata": {
        "colab": {
          "base_uri": "https://localhost:8080/"
        },
        "id": "mrtt2Ap3VSWf",
        "outputId": "800647b2-0c50-43c4-8d1a-39a7fc2a2810"
      },
      "source": [
        "views_geometry_columns"
      ],
      "execution_count": 39,
      "outputs": [
        {
          "output_type": "execute_result",
          "data": {
            "text/plain": [
              "('CREATE TABLE views_geometry_columns (\\nview_name TEXT NOT NULL,\\nview_geometry TEXT NOT NULL,\\nview_rowid TEXT NOT NULL,\\nf_table_name TEXT NOT NULL,\\nf_geometry_column TEXT NOT NULL,\\nread_only INTEGER NOT NULL,\\nCONSTRAINT pk_geom_cols_views PRIMARY KEY (view_name, view_geometry),\\nCONSTRAINT fk_views_geom_cols FOREIGN KEY (f_table_name, f_geometry_column) REFERENCES geometry_columns (f_table_name, f_geometry_column) ON DELETE CASCADE,\\nCONSTRAINT ck_vw_rdonly CHECK (read_only IN (0,1)))',)"
            ]
          },
          "metadata": {
            "tags": []
          },
          "execution_count": 39
        }
      ]
    },
    {
      "cell_type": "markdown",
      "metadata": {
        "id": "DnHawEa-VUmM"
      },
      "source": [
        "* view_name\n",
        "* view_geometry\n",
        "* view_rowid\n",
        "* f_table_name\n",
        "* f_geometry_columns\n",
        "* read_only"
      ]
    },
    {
      "cell_type": "code",
      "metadata": {
        "colab": {
          "base_uri": "https://localhost:8080/"
        },
        "id": "id5jJzvhVof0",
        "outputId": "f25b22bd-3ffa-4bad-d867-02c1c74bca42"
      },
      "source": [
        "virts_geometry_columns"
      ],
      "execution_count": 40,
      "outputs": [
        {
          "output_type": "execute_result",
          "data": {
            "text/plain": [
              "('CREATE TABLE virts_geometry_columns (\\nvirt_name TEXT NOT NULL,\\nvirt_geometry TEXT NOT NULL,\\ngeometry_type INTEGER NOT NULL,\\ncoord_dimension INTEGER NOT NULL,\\nsrid INTEGER NOT NULL,\\nCONSTRAINT pk_geom_cols_virts PRIMARY KEY (virt_name, virt_geometry),\\nCONSTRAINT fk_vgc_srid FOREIGN KEY (srid) REFERENCES spatial_ref_sys (srid))',)"
            ]
          },
          "metadata": {
            "tags": []
          },
          "execution_count": 40
        }
      ]
    },
    {
      "cell_type": "markdown",
      "metadata": {
        "id": "YAIxbZyvVrMe"
      },
      "source": [
        "* virt_name\n",
        "* virt_geometry\n",
        "* geometry_type\n",
        "* coord_dimension\n",
        "* srid"
      ]
    },
    {
      "cell_type": "code",
      "metadata": {
        "colab": {
          "base_uri": "https://localhost:8080/"
        },
        "id": "6fDvKerwV4Wj",
        "outputId": "74794a29-84ed-4c49-91bb-ac17c5d5e3af"
      },
      "source": [
        "geometry_columns_stats"
      ],
      "execution_count": 41,
      "outputs": [
        {
          "output_type": "execute_result",
          "data": {
            "text/plain": [
              "('CREATE TABLE geometry_columns_statistics (\\nf_table_name TEXT NOT NULL,\\nf_geometry_column TEXT NOT NULL,\\nlast_verified TIMESTAMP,\\nrow_count INTEGER,\\nextent_min_x DOUBLE,\\nextent_min_y DOUBLE,\\nextent_max_x DOUBLE,\\nextent_max_y DOUBLE,\\nCONSTRAINT pk_gc_statistics PRIMARY KEY (f_table_name, f_geometry_column),\\nCONSTRAINT fk_gc_statistics FOREIGN KEY (f_table_name, f_geometry_column) REFERENCES geometry_columns (f_table_name, f_geometry_column) ON DELETE CASCADE)',)"
            ]
          },
          "metadata": {
            "tags": []
          },
          "execution_count": 41
        }
      ]
    },
    {
      "cell_type": "markdown",
      "metadata": {
        "id": "9bPUbukYWOjV"
      },
      "source": [
        "* f_table_name\n",
        "* f_geometry_column\n",
        "* last_verified\n",
        "* row_count\n",
        "* extent_min_x\n",
        "* extent_min_y\n",
        "* extent_max_x \n",
        "* extent_max_y \n"
      ]
    },
    {
      "cell_type": "code",
      "metadata": {
        "colab": {
          "base_uri": "https://localhost:8080/"
        },
        "id": "eFgO1LFbWmnV",
        "outputId": "ca6e2a4e-231c-4e06-feba-f142f9242405"
      },
      "source": [
        "views_geometry_columns_stats"
      ],
      "execution_count": 42,
      "outputs": [
        {
          "output_type": "execute_result",
          "data": {
            "text/plain": [
              "('CREATE TABLE views_geometry_columns_statistics (\\nview_name TEXT NOT NULL,\\nview_geometry TEXT NOT NULL,\\nlast_verified TIMESTAMP,\\nrow_count INTEGER,\\nextent_min_x DOUBLE,\\nextent_min_y DOUBLE,\\nextent_max_x DOUBLE,\\nextent_max_y DOUBLE,\\nCONSTRAINT pk_vwgc_statistics PRIMARY KEY (view_name, view_geometry),\\nCONSTRAINT fk_vwgc_statistics FOREIGN KEY (view_name, view_geometry) REFERENCES views_geometry_columns (view_name, view_geometry) ON DELETE CASCADE)',)"
            ]
          },
          "metadata": {
            "tags": []
          },
          "execution_count": 42
        }
      ]
    },
    {
      "cell_type": "markdown",
      "metadata": {
        "id": "ICdt1nMyWq4H"
      },
      "source": [
        "* view_name\n",
        "* view_geometry\n",
        "* last_verified\n",
        "* row_count\n",
        "* extent_min_x\n",
        "* extent_min_y\n",
        "* extent_max_x\n",
        "* extent_max_y"
      ]
    },
    {
      "cell_type": "code",
      "metadata": {
        "colab": {
          "base_uri": "https://localhost:8080/"
        },
        "id": "ta6q19bJXCKA",
        "outputId": "a735d900-924b-4f12-accb-19c7b8fade82"
      },
      "source": [
        "virts_geometry_columns_stats"
      ],
      "execution_count": 43,
      "outputs": [
        {
          "output_type": "execute_result",
          "data": {
            "text/plain": [
              "('CREATE TABLE virts_geometry_columns_statistics (\\nvirt_name TEXT NOT NULL,\\nvirt_geometry TEXT NOT NULL,\\nlast_verified TIMESTAMP,\\nrow_count INTEGER,\\nextent_min_x DOUBLE,\\nextent_min_y DOUBLE,\\nextent_max_x DOUBLE,\\nextent_max_y DOUBLE,\\nCONSTRAINT pk_vrtgc_statistics PRIMARY KEY (virt_name, virt_geometry),\\nCONSTRAINT fk_vrtgc_statistics FOREIGN KEY (virt_name, virt_geometry) REFERENCES virts_geometry_columns (virt_name, virt_geometry) ON DELETE CASCADE)',)"
            ]
          },
          "metadata": {
            "tags": []
          },
          "execution_count": 43
        }
      ]
    },
    {
      "cell_type": "markdown",
      "metadata": {
        "id": "dn-o-mduXG04"
      },
      "source": [
        "* virt_name\n",
        "* virt_geometry\n",
        "* last_verified\n",
        "* row_count\n",
        "* extent_min_x\n",
        "* extent_min_y\n",
        "* extent_max_x\n",
        "* extent_max_y"
      ]
    },
    {
      "cell_type": "code",
      "metadata": {
        "colab": {
          "base_uri": "https://localhost:8080/"
        },
        "id": "sdKipERPXlh9",
        "outputId": "93f09b0c-c279-45da-c0e5-c37f86da2bcd"
      },
      "source": [
        "geometry_columns_field_infos"
      ],
      "execution_count": 44,
      "outputs": [
        {
          "output_type": "execute_result",
          "data": {
            "text/plain": [
              "('CREATE TABLE geometry_columns_field_infos (\\nf_table_name TEXT NOT NULL,\\nf_geometry_column TEXT NOT NULL,\\nordinal INTEGER NOT NULL,\\ncolumn_name TEXT NOT NULL,\\nnull_values INTEGER NOT NULL,\\ninteger_values INTEGER NOT NULL,\\ndouble_values INTEGER NOT NULL,\\ntext_values INTEGER NOT NULL,\\nblob_values INTEGER NOT NULL,\\nmax_size INTEGER,\\ninteger_min INTEGER,\\ninteger_max INTEGER,\\ndouble_min DOUBLE,\\ndouble_max DOUBLE,\\nCONSTRAINT pk_gcfld_infos PRIMARY KEY (f_table_name, f_geometry_column, ordinal, column_name),\\nCONSTRAINT fk_gcfld_infos FOREIGN KEY (f_table_name, f_geometry_column) REFERENCES geometry_columns (f_table_name, f_geometry_column) ON DELETE CASCADE)',)"
            ]
          },
          "metadata": {
            "tags": []
          },
          "execution_count": 44
        }
      ]
    },
    {
      "cell_type": "markdown",
      "metadata": {
        "id": "5EAl0b3oXpkp"
      },
      "source": [
        "* f_table_name\n",
        "* f_geometry_column\n",
        "* ordinal\n",
        "* column_name\n",
        "* null_values\n",
        "* integer_values\n",
        "* double_values\n",
        "* text_values\n",
        "* blob_values\n",
        "* max_size\n",
        "* integer_max\n",
        "* double_min\n",
        "* double_max"
      ]
    },
    {
      "cell_type": "code",
      "metadata": {
        "colab": {
          "base_uri": "https://localhost:8080/"
        },
        "id": "ce2TVo5SeyWy",
        "outputId": "f169a19a-30f1-416c-f054-5df10cd2a447"
      },
      "source": [
        "virts_geometry_columns_field_infos"
      ],
      "execution_count": 45,
      "outputs": [
        {
          "output_type": "execute_result",
          "data": {
            "text/plain": [
              "('CREATE TABLE virts_geometry_columns_field_infos (\\nvirt_name TEXT NOT NULL,\\nvirt_geometry TEXT NOT NULL,\\nordinal INTEGER NOT NULL,\\ncolumn_name TEXT NOT NULL,\\nnull_values INTEGER NOT NULL,\\ninteger_values INTEGER NOT NULL,\\ndouble_values INTEGER NOT NULL,\\ntext_values INTEGER NOT NULL,\\nblob_values INTEGER NOT NULL,\\nmax_size INTEGER,\\ninteger_min INTEGER,\\ninteger_max INTEGER,\\ndouble_min DOUBLE,\\ndouble_max DOUBLE,\\nCONSTRAINT pk_vrtgcfld_infos PRIMARY KEY (virt_name, virt_geometry, ordinal, column_name),\\nCONSTRAINT fk_vrtgcfld_infos FOREIGN KEY (virt_name, virt_geometry) REFERENCES virts_geometry_columns (virt_name, virt_geometry) ON DELETE CASCADE)',)"
            ]
          },
          "metadata": {
            "tags": []
          },
          "execution_count": 45
        }
      ]
    },
    {
      "cell_type": "markdown",
      "metadata": {
        "id": "oIC-sXlVfbC5"
      },
      "source": [
        "* virt_name\n",
        "* virt_geometry\n",
        "* ordinal\n",
        "* column_name\n",
        "* null_values\n",
        "* integer_values\n",
        "* double_values\n",
        "* text_values\n",
        "* blob_values\n",
        "* max_size\n",
        "* integer_min\n",
        "* integer_max\n",
        "* double_min\n",
        "* double_max"
      ]
    },
    {
      "cell_type": "code",
      "metadata": {
        "colab": {
          "base_uri": "https://localhost:8080/"
        },
        "id": "XbA-60mVf0wS",
        "outputId": "20e186a8-1c02-4290-b704-8759e8449175"
      },
      "source": [
        "geometry_columns_time"
      ],
      "execution_count": 46,
      "outputs": [
        {
          "output_type": "execute_result",
          "data": {
            "text/plain": [
              "(\"CREATE TABLE geometry_columns_time (\\nf_table_name TEXT NOT NULL,\\nf_geometry_column TEXT NOT NULL,\\nlast_insert TIMESTAMP NOT NULL DEFAULT '0000-01-01T00:00:00.000Z',\\nlast_update TIMESTAMP NOT NULL DEFAULT '0000-01-01T00:00:00.000Z',\\nlast_delete TIMESTAMP NOT NULL DEFAULT '0000-01-01T00:00:00.000Z',\\nCONSTRAINT pk_gc_time PRIMARY KEY (f_table_name, f_geometry_column),\\nCONSTRAINT fk_gc_time FOREIGN KEY (f_table_name, f_geometry_column) REFERENCES geometry_columns (f_table_name, f_geometry_column) ON DELETE CASCADE)\",)"
            ]
          },
          "metadata": {
            "tags": []
          },
          "execution_count": 46
        }
      ]
    },
    {
      "cell_type": "markdown",
      "metadata": {
        "id": "kIRSyFjaf5xA"
      },
      "source": [
        "* f_table_name\n",
        "* f_geometry_column\n",
        "* last_insert\n",
        "* last_update\n",
        "* last_delete"
      ]
    },
    {
      "cell_type": "code",
      "metadata": {
        "colab": {
          "base_uri": "https://localhost:8080/"
        },
        "id": "JRWNr6IegLN3",
        "outputId": "c6e5b5d5-4bf5-4922-f051-e2b86490ec20"
      },
      "source": [
        "geometry_columns_auth"
      ],
      "execution_count": 47,
      "outputs": [
        {
          "output_type": "execute_result",
          "data": {
            "text/plain": [
              "('CREATE TABLE geometry_columns_auth (\\nf_table_name TEXT NOT NULL,\\nf_geometry_column TEXT NOT NULL,\\nread_only INTEGER NOT NULL,\\nhidden INTEGER NOT NULL,\\nCONSTRAINT pk_gc_auth PRIMARY KEY (f_table_name, f_geometry_column),\\nCONSTRAINT fk_gc_auth FOREIGN KEY (f_table_name, f_geometry_column) REFERENCES geometry_columns (f_table_name, f_geometry_column) ON DELETE CASCADE,\\nCONSTRAINT ck_gc_ronly CHECK (read_only IN (0,1)),\\nCONSTRAINT ck_gc_hidden CHECK (hidden IN (0,1)))',)"
            ]
          },
          "metadata": {
            "tags": []
          },
          "execution_count": 47
        }
      ]
    },
    {
      "cell_type": "markdown",
      "metadata": {
        "id": "Qi3FR_mCgP3X"
      },
      "source": [
        "* f_table_name\n",
        "* f_geometry_column\n",
        "* read_only\n",
        "* hidden\n"
      ]
    },
    {
      "cell_type": "code",
      "metadata": {
        "id": "yOo9xPucgWey",
        "colab": {
          "base_uri": "https://localhost:8080/"
        },
        "outputId": "44e3a67b-5afd-49d8-e444-77b4e4482533"
      },
      "source": [
        "views_geometry_columns_auth"
      ],
      "execution_count": 48,
      "outputs": [
        {
          "output_type": "execute_result",
          "data": {
            "text/plain": [
              "('CREATE TABLE views_geometry_columns_auth (\\nview_name TEXT NOT NULL,\\nview_geometry TEXT NOT NULL,\\nhidden INTEGER NOT NULL,\\nCONSTRAINT pk_vwgc_auth PRIMARY KEY (view_name, view_geometry),\\nCONSTRAINT fk_vwgc_auth FOREIGN KEY (view_name, view_geometry) REFERENCES views_geometry_columns (view_name, view_geometry) ON DELETE CASCADE,\\nCONSTRAINT ck_vwgc_hidden CHECK (hidden IN (0,1)))',)"
            ]
          },
          "metadata": {
            "tags": []
          },
          "execution_count": 48
        }
      ]
    },
    {
      "cell_type": "markdown",
      "metadata": {
        "id": "Gyl-GTBwiiaR"
      },
      "source": [
        "* view_name\n",
        "* view_geometry\n",
        "* hidden"
      ]
    },
    {
      "cell_type": "code",
      "metadata": {
        "colab": {
          "base_uri": "https://localhost:8080/"
        },
        "id": "vpvMbKzdhWXe",
        "outputId": "a70b5b91-8f73-4ae8-c12e-e0af0a86df7f"
      },
      "source": [
        "virts_geometry_columns_auth"
      ],
      "execution_count": 49,
      "outputs": [
        {
          "output_type": "execute_result",
          "data": {
            "text/plain": [
              "('CREATE TABLE virts_geometry_columns_auth (\\nvirt_name TEXT NOT NULL,\\nvirt_geometry TEXT NOT NULL,\\nhidden INTEGER NOT NULL,\\nCONSTRAINT pk_vrtgc_auth PRIMARY KEY (virt_name, virt_geometry),\\nCONSTRAINT fk_vrtgc_auth FOREIGN KEY (virt_name, virt_geometry) REFERENCES virts_geometry_columns (virt_name, virt_geometry) ON DELETE CASCADE,\\nCONSTRAINT ck_vrtgc_hidden CHECK (hidden IN (0,1)))',)"
            ]
          },
          "metadata": {
            "tags": []
          },
          "execution_count": 49
        }
      ]
    },
    {
      "cell_type": "markdown",
      "metadata": {
        "id": "ICe9HaPXhbbI"
      },
      "source": [
        "* virt_name\n",
        "* virt_geometry\n",
        "* hidden"
      ]
    },
    {
      "cell_type": "code",
      "metadata": {
        "colab": {
          "base_uri": "https://localhost:8080/"
        },
        "id": "_nu6YEDfhh3E",
        "outputId": "04a1203d-9d51-4759-f00f-93f9f6f0bebc"
      },
      "source": [
        "sql_statements_log"
      ],
      "execution_count": 50,
      "outputs": [
        {
          "output_type": "execute_result",
          "data": {
            "text/plain": [
              "(\"CREATE TABLE sql_statements_log (\\nid INTEGER PRIMARY KEY AUTOINCREMENT,\\ntime_start TIMESTAMP NOT NULL DEFAULT '0000-01-01T00:00:00.000Z',\\ntime_end TIMESTAMP NOT NULL DEFAULT '0000-01-01T00:00:00.000Z',\\nuser_agent TEXT NOT NULL,\\nsql_statement TEXT NOT NULL,\\nsuccess INTEGER NOT NULL DEFAULT 0,\\nerror_cause TEXT NOT NULL DEFAULT 'ABORTED',\\nCONSTRAINT sqllog_success CHECK (success IN (0,1)))\",)"
            ]
          },
          "metadata": {
            "tags": []
          },
          "execution_count": 50
        }
      ]
    },
    {
      "cell_type": "markdown",
      "metadata": {
        "id": "ft-R8V16hkU5"
      },
      "source": [
        "* id\n",
        "* time_start\n",
        "* time_end\n",
        "* user_agent\n",
        "* sql_statement\n",
        "* success\n",
        "* error_cause"
      ]
    },
    {
      "cell_type": "code",
      "metadata": {
        "colab": {
          "base_uri": "https://localhost:8080/"
        },
        "id": "NccX0jXXh5tC",
        "outputId": "1f977b49-b467-4f5d-8401-004c26387aef"
      },
      "source": [
        "spatial_index"
      ],
      "execution_count": 51,
      "outputs": [
        {
          "output_type": "execute_result",
          "data": {
            "text/plain": [
              "('CREATE VIRTUAL TABLE SpatialIndex USING VirtualSpatialIndex()',)"
            ]
          },
          "metadata": {
            "tags": []
          },
          "execution_count": 51
        }
      ]
    },
    {
      "cell_type": "code",
      "metadata": {
        "colab": {
          "base_uri": "https://localhost:8080/"
        },
        "id": "JuGMHj7diAKY",
        "outputId": "35ae89cb-3221-45c9-ae35-06064ce86745"
      },
      "source": [
        "elementary_geometries"
      ],
      "execution_count": 52,
      "outputs": [
        {
          "output_type": "execute_result",
          "data": {
            "text/plain": [
              "('CREATE VIRTUAL TABLE ElementaryGeometries USING VirtualElementary()',)"
            ]
          },
          "metadata": {
            "tags": []
          },
          "execution_count": 52
        }
      ]
    },
    {
      "cell_type": "code",
      "metadata": {
        "colab": {
          "base_uri": "https://localhost:8080/"
        },
        "id": "1ejVI4djiFUa",
        "outputId": "6ad586d4-4c5c-4d85-be68-002440f5cb86"
      },
      "source": [
        "knn"
      ],
      "execution_count": 53,
      "outputs": [
        {
          "output_type": "execute_result",
          "data": {
            "text/plain": [
              "('CREATE VIRTUAL TABLE KNN USING VirtualKNN()',)"
            ]
          },
          "metadata": {
            "tags": []
          },
          "execution_count": 53
        }
      ]
    },
    {
      "cell_type": "markdown",
      "metadata": {
        "id": "UsG3z10rkOWC"
      },
      "source": [
        "Virtual Tables (aka Views) are basically a combo of pieces of other table.  \n",
        "I will need to determine if I actually need to use these."
      ]
    },
    {
      "cell_type": "code",
      "metadata": {
        "colab": {
          "base_uri": "https://localhost:8080/"
        },
        "id": "SdXiTmm0iG0f",
        "outputId": "bcbb8638-935e-4a4b-9aac-81c16ca0573c"
      },
      "source": [
        "fires"
      ],
      "execution_count": 54,
      "outputs": [
        {
          "output_type": "execute_result",
          "data": {
            "text/plain": [
              "(\"CREATE TABLE Fires (OBJECTID integer primary key autoincrement not null, FOD_ID int32 check((typeof(FOD_ID) = 'integer' or typeof(FOD_ID) = 'null') and FOD_ID >= -2147483648 and FOD_ID <= 2147483647), FPA_ID text(100) check((typeof(FPA_ID) = 'text' or typeof(FPA_ID) = 'null') and not length(FPA_ID) > 100), SOURCE_SYSTEM_TYPE text(255) check((typeof(SOURCE_SYSTEM_TYPE) = 'text' or typeof(SOURCE_SYSTEM_TYPE) = 'null') and not length(SOURCE_SYSTEM_TYPE) > 255), SOURCE_SYSTEM text(30) check((typeof(SOURCE_SYSTEM) = 'text' or typeof(SOURCE_SYSTEM) = 'null') and not length(SOURCE_SYSTEM) > 30), NWCG_REPORTING_AGENCY text(255) check((typeof(NWCG_REPORTING_AGENCY) = 'text' or typeof(NWCG_REPORTING_AGENCY) = 'null') and not length(NWCG_REPORTING_AGENCY) > 255), NWCG_REPORTING_UNIT_ID text(255) check((typeof(NWCG_REPORTING_UNIT_ID) = 'text' or typeof(NWCG_REPORTING_UNIT_ID) = 'null') and not length(NWCG_REPORTING_UNIT_ID) > 255), NWCG_REPORTING_UNIT_NAME text(255) check((typeof(NWCG_REPORTING_UNIT_NAME) = 'text' or typeof(NWCG_REPORTING_UNIT_NAME) = 'null') and not length(NWCG_REPORTING_UNIT_NAME) > 255), SOURCE_REPORTING_UNIT text(30) check((typeof(SOURCE_REPORTING_UNIT) = 'text' or typeof(SOURCE_REPORTING_UNIT) = 'null') and not length(SOURCE_REPORTING_UNIT) > 30), SOURCE_REPORTING_UNIT_NAME text(255) check((typeof(SOURCE_REPORTING_UNIT_NAME) = 'text' or typeof(SOURCE_REPORTING_UNIT_NAME) = 'null') and not length(SOURCE_REPORTING_UNIT_NAME) > 255), LOCAL_FIRE_REPORT_ID text(255) check((typeof(LOCAL_FIRE_REPORT_ID) = 'text' or typeof(LOCAL_FIRE_REPORT_ID) = 'null') and not length(LOCAL_FIRE_REPORT_ID) > 255), LOCAL_INCIDENT_ID text(255) check((typeof(LOCAL_INCIDENT_ID) = 'text' or typeof(LOCAL_INCIDENT_ID) = 'null') and not length(LOCAL_INCIDENT_ID) > 255), FIRE_CODE text(10) check((typeof(FIRE_CODE) = 'text' or typeof(FIRE_CODE) = 'null') and not length(FIRE_CODE) > 10), FIRE_NAME text(255) check((typeof(FIRE_NAME) = 'text' or typeof(FIRE_NAME) = 'null') and not length(FIRE_NAME) > 255), ICS_209_INCIDENT_NUMBER text(255) check((typeof(ICS_209_INCIDENT_NUMBER) = 'text' or typeof(ICS_209_INCIDENT_NUMBER) = 'null') and not length(ICS_209_INCIDENT_NUMBER) > 255), ICS_209_NAME text(255) check((typeof(ICS_209_NAME) = 'text' or typeof(ICS_209_NAME) = 'null') and not length(ICS_209_NAME) > 255), MTBS_ID text(255) check((typeof(MTBS_ID) = 'text' or typeof(MTBS_ID) = 'null') and not length(MTBS_ID) > 255), MTBS_FIRE_NAME text(50) check((typeof(MTBS_FIRE_NAME) = 'text' or typeof(MTBS_FIRE_NAME) = 'null') and not length(MTBS_FIRE_NAME) > 50), COMPLEX_NAME text(255) check((typeof(COMPLEX_NAME) = 'text' or typeof(COMPLEX_NAME) = 'null') and not length(COMPLEX_NAME) > 255), FIRE_YEAR int16 check((typeof(FIRE_YEAR) = 'integer' or typeof(FIRE_YEAR) = 'null') and FIRE_YEAR >= -32768 and FIRE_YEAR <= 32767), DISCOVERY_DATE realdate check((typeof(DISCOVERY_DATE) = 'real' or typeof(DISCOVERY_DATE) = 'null') and DISCOVERY_DATE >= 0.0), DISCOVERY_DOY int32 check((typeof(DISCOVERY_DOY) = 'integer' or typeof(DISCOVERY_DOY) = 'null') and DISCOVERY_DOY >= -2147483648 and DISCOVERY_DOY <= 2147483647), DISCOVERY_TIME text(4) check((typeof(DISCOVERY_TIME) = 'text' or typeof(DISCOVERY_TIME) = 'null') and not length(DISCOVERY_TIME) > 4), STAT_CAUSE_CODE float64 check(typeof(STAT_CAUSE_CODE) = 'real' or typeof(STAT_CAUSE_CODE) = 'null'), STAT_CAUSE_DESCR text(100) check((typeof(STAT_CAUSE_DESCR) = 'text' or typeof(STAT_CAUSE_DESCR) = 'null') and not length(STAT_CAUSE_DESCR) > 100), CONT_DATE realdate check((typeof(CONT_DATE) = 'real' or typeof(CONT_DATE) = 'null') and CONT_DATE >= 0.0), CONT_DOY int32 check((typeof(CONT_DOY) = 'integer' or typeof(CONT_DOY) = 'null') and CONT_DOY >= -2147483648 and CONT_DOY <= 2147483647), CONT_TIME text(4) check((typeof(CONT_TIME) = 'text' or typeof(CONT_TIME) = 'null') and not length(CONT_TIME) > 4), FIRE_SIZE float64 check(typeof(FIRE_SIZE) = 'real' or typeof(FIRE_SIZE) = 'null'), FIRE_SIZE_CLASS text(1) check((typeof(FIRE_SIZE_CLASS) = 'text' or typeof(FIRE_SIZE_CLASS) = 'null') and not length(FIRE_SIZE_CLASS) > 1), LATITUDE float64 check(typeof(LATITUDE) = 'real' or typeof(LATITUDE) = 'null'), LONGITUDE float64 check(typeof(LONGITUDE) = 'real' or typeof(LONGITUDE) = 'null'), OWNER_CODE float64 check(typeof(OWNER_CODE) = 'real' or typeof(OWNER_CODE) = 'null'), OWNER_DESCR text(100) check((typeof(OWNER_DESCR) = 'text' or typeof(OWNER_DESCR) = 'null') and not length(OWNER_DESCR) > 100), STATE text(255) check((typeof(STATE) = 'text' or typeof(STATE) = 'null') and not length(STATE) > 255), COUNTY text(255) check((typeof(COUNTY) = 'text' or typeof(COUNTY) = 'null') and not length(COUNTY) > 255), FIPS_CODE text(255) check((typeof(FIPS_CODE) = 'text' or typeof(FIPS_CODE) = 'null') and not length(FIPS_CODE) > 255), FIPS_NAME text(255) check((typeof(FIPS_NAME) = 'text' or typeof(FIPS_NAME) = 'null') and not length(FIPS_NAME) > 255), Shape POINT not null)\",)"
            ]
          },
          "metadata": {
            "tags": []
          },
          "execution_count": 54
        }
      ]
    },
    {
      "cell_type": "code",
      "metadata": {
        "colab": {
          "base_uri": "https://localhost:8080/"
        },
        "id": "nRe0pO7OiQia",
        "outputId": "1d845094-26b5-46f6-d5ad-e6e35b151b49"
      },
      "source": [
        "idx_fires_shape"
      ],
      "execution_count": 55,
      "outputs": [
        {
          "output_type": "execute_result",
          "data": {
            "text/plain": [
              "('CREATE VIRTUAL TABLE \"idx_Fires_Shape\" USING rtree(pkid, xmin, xmax, ymin, ymax)',)"
            ]
          },
          "metadata": {
            "tags": []
          },
          "execution_count": 55
        }
      ]
    },
    {
      "cell_type": "code",
      "metadata": {
        "colab": {
          "base_uri": "https://localhost:8080/"
        },
        "id": "I3K7JOS3iST1",
        "outputId": "d1770872-5eca-457c-8647-a5442f4a26a6"
      },
      "source": [
        "idx_fires_shape_node"
      ],
      "execution_count": 56,
      "outputs": [
        {
          "output_type": "execute_result",
          "data": {
            "text/plain": [
              "('CREATE TABLE \"idx_Fires_Shape_node\"(nodeno INTEGER PRIMARY KEY, data BLOB)',)"
            ]
          },
          "metadata": {
            "tags": []
          },
          "execution_count": 56
        }
      ]
    },
    {
      "cell_type": "code",
      "metadata": {
        "colab": {
          "base_uri": "https://localhost:8080/"
        },
        "id": "w77Aeq_2iVMb",
        "outputId": "bc0f5df6-e822-498c-9318-f81401dcd6aa"
      },
      "source": [
        "idx_fires_shape_rowid"
      ],
      "execution_count": 57,
      "outputs": [
        {
          "output_type": "execute_result",
          "data": {
            "text/plain": [
              "('CREATE TABLE \"idx_Fires_Shape_rowid\"(rowid INTEGER PRIMARY KEY, nodeno INTEGER)',)"
            ]
          },
          "metadata": {
            "tags": []
          },
          "execution_count": 57
        }
      ]
    },
    {
      "cell_type": "code",
      "metadata": {
        "colab": {
          "base_uri": "https://localhost:8080/"
        },
        "id": "sqaywwQ8iXuW",
        "outputId": "49edbd3b-28f0-46fe-e845-5affa10a628e"
      },
      "source": [
        "idx_fires_shape_parent"
      ],
      "execution_count": 58,
      "outputs": [
        {
          "output_type": "execute_result",
          "data": {
            "text/plain": [
              "('CREATE TABLE \"idx_Fires_Shape_parent\"(nodeno INTEGER PRIMARY KEY, parentnode INTEGER)',)"
            ]
          },
          "metadata": {
            "tags": []
          },
          "execution_count": 58
        }
      ]
    },
    {
      "cell_type": "code",
      "metadata": {
        "id": "arTPCaIUj7Db"
      },
      "source": [
        ""
      ],
      "execution_count": null,
      "outputs": []
    },
    {
      "cell_type": "markdown",
      "metadata": {
        "id": "CzKpWNBricJK"
      },
      "source": [
        "Next steps: \n",
        "* investigate virtual tables\n",
        "* move on to creating schema"
      ]
    }
  ]
}